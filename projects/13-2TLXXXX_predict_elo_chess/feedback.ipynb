{
 "cells": [
  {
   "cell_type": "markdown",
   "id": "bb92c40f",
   "metadata": {},
   "source": [
    "# COMMENTS:\n",
    "\n",
    "[23.Mai.2025] \n",
    "- It is good you started trying to download chuncks of the dataset to work with it. You put a lot of relevant general information about the data in the 'data_loader.ipynb' notebook, but please better move this to the file for the report (check the template: https://github.com/IvaroEkel/Probabilistic-Machine-Learning_lecture-PROJECTS/blob/main/templates/TEMPLATE_Probabilistic_Machine_Learning_Project_Report.ipynb)."
   ]
  },
  {
   "cell_type": "markdown",
   "id": "edfdb98d",
   "metadata": {},
   "source": [
    "[06.Jun.2025] \n",
    "Please complete the data exploration and description and start summarizing those results in the report file, to have it clean there and thus you are already progressing with the report.\n"
   ]
  },
  {
   "cell_type": "markdown",
   "id": "40ba66bc",
   "metadata": {},
   "source": []
  }
 ],
 "metadata": {
  "language_info": {
   "name": "python"
  }
 },
 "nbformat": 4,
 "nbformat_minor": 5
}
