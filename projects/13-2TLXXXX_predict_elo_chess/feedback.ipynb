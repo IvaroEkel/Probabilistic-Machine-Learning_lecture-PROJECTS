{
 "cells": [
  {
   "cell_type": "markdown",
   "id": "bb92c40f",
   "metadata": {},
   "source": [
    "# COMMENTS:\n",
    "\n",
    "[23.Mai.2025] \n",
    "- It is good you started trying to download chuncks of the dataset to work with it. You put a lot of relevant general information about the data in the 'data_loader.ipynb' notebook, but please better move this to the file for the report (check the template: https://github.com/IvaroEkel/Probabilistic-Machine-Learning_lecture-PROJECTS/blob/main/templates/TEMPLATE_Probabilistic_Machine_Learning_Project_Report.ipynb)."
   ]
  },
  {
   "cell_type": "markdown",
   "id": "edfdb98d",
   "metadata": {},
   "source": []
  }
 ],
 "metadata": {
  "language_info": {
   "name": "python"
  }
 },
 "nbformat": 4,
 "nbformat_minor": 5
}
