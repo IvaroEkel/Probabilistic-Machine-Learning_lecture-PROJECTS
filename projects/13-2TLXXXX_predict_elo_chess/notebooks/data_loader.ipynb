{
 "cells": [
  {
   "metadata": {},
   "cell_type": "markdown",
   "source": [
    "# 1. Introduction\n",
    "\n",
    "## Predicting Player Elo from Opening Moves\n",
    "\n",
    "### Project Overview\n",
    "The aim is, to use the Lichess Standard Rated Games Dataset, publicly available on Huggingface (https://huggingface.co/datasets/Lichess/standard-chess-games) to build regression models that predict a player’s Elo rating based solely on the first _n_ moves of a game. By focusing on opening patterns, our goal is to uncover which early-game features best correlate with player strength. The underlying hypothesis is that players more experienced with chess will adhere more strictly to certain established chess openings.\n",
    "\n",
    "### Data Source\n",
    "- **Dataset**: Lichess Standard Rated Games\n",
    "    - Structured by Year and Month\n",
    "    - Around 20-30GB of Data per month\n",
    "    - Provided as .parquet files, easily convertable to pgn\n",
    "- **Key Fields**:\n",
    "  - `UTCDate`, `UTCTime`\n",
    "  - `White`, `Black`\n",
    "  - `WhiteElo`, `BlackElo` (target variables)\n",
    "  - `movetext` (contains PGN moves)\n",
    "\n",
    "### Pipeline\n",
    "1. **Data Extraction**\n",
    "   - Stream only the desired month’s Parquet partitions\n",
    "      - Find out what amount of data is managable\n",
    "   - Filter out incomplete or abnormal games\n",
    "   - Reduce DataFrame to key fields for analysis\n",
    "2. **Feature Engineering**\n",
    "   - Parse `movetext` to extract the first _n_ half‑moves (e.g. 10 plies)\n",
    "   - Encode moves as categorical sequences, opening ECO codes, or vectorized embeddings\n",
    "   - Optional: Include auxiliary features: time control, rating differences, termination type\n",
    "3. **Modeling**\n",
    "   - Train regression algorithms (e.g. linear regression, random forest)\n",
    "   - Cross‑validate on different `_n_` to see how many moves are needed for accurate Elo estimates\n",
    "4. **Evaluation**\n",
    "   - Measure performance via RMSE and R² on held‑out data\n",
    "   - Analyze feature importances to identify key opening moves or patterns"
   ],
   "id": "9cb2548058db6885"
  },
  {
   "metadata": {},
   "cell_type": "markdown",
   "source": "# 2. Data Loading and Exploration",
   "id": "1285a8354fbe963d"
  },
  {
   "cell_type": "code",
   "id": "initial_id",
   "metadata": {
    "collapsed": true,
    "ExecuteTime": {
     "end_time": "2025-05-15T13:03:47.801989Z",
     "start_time": "2025-05-15T13:03:47.160504Z"
    }
   },
   "source": [
    "from datasets import load_dataset\n",
    "import pandas as pd\n"
   ],
   "outputs": [],
   "execution_count": 1
  },
  {
   "metadata": {
    "ExecuteTime": {
     "end_time": "2025-05-15T13:04:08.281370Z",
     "start_time": "2025-05-15T13:03:58.355119Z"
    }
   },
   "cell_type": "code",
   "source": [
    "# pick your year & month\n",
    "year, month = 2015, 2\n",
    "month_str = f\"{month:02d}\"\n",
    "\n",
    "# define date period to be downloaded\n",
    "data_files = {\n",
    "    \"games\": f\"https://huggingface.co/datasets/lichess/standard-chess-games/resolve/main/data/year={year}/month={month_str}/*.parquet\"\n",
    "}\n",
    "\n",
    "ds = load_dataset(\n",
    "    \"parquet\",\n",
    "    data_files=data_files,\n",
    "    split=\"games\",\n",
    "    streaming=True\n",
    ")\n",
    "\n",
    "# load first 10k entries into DataFrame\n",
    "df = pd.DataFrame([x for _, x in zip(range(10_000), ds)])\n",
    "print(df.head())"
   ],
   "id": "19374a750185f24",
   "outputs": [
    {
     "name": "stdout",
     "output_type": "stream",
     "text": [
      "                                               Event  \\\n",
      "0  Rated Bullet tournament https://lichess.org/to...   \n",
      "1                                   Rated Blitz game   \n",
      "2                               Rated Classical game   \n",
      "3                                   Rated Blitz game   \n",
      "4                                  Rated Bullet game   \n",
      "\n",
      "                           Site           White           Black Result  \\\n",
      "0  https://lichess.org/q1fO8MLl      andryutz10  AwareTenacious    0-1   \n",
      "1  https://lichess.org/QE4zHivV  cvetlicnivitez      gravihouse    0-1   \n",
      "2  https://lichess.org/Ooo36zZs       grillo131        enzo9607    1-0   \n",
      "3  https://lichess.org/QK5egQTl      lugalbanda   Amilcar_Hdez1    1-0   \n",
      "4  https://lichess.org/hGGZL4Um        TrainMan   Doctor_WHO_13    1-0   \n",
      "\n",
      "  WhiteTitle BlackTitle  WhiteElo  BlackElo  WhiteRatingDiff  BlackRatingDiff  \\\n",
      "0       None       None      1500      1642              NaN              NaN   \n",
      "1       None       None      1498      1445            -12.0             13.0   \n",
      "2       None       None      1167      1158             18.0            -11.0   \n",
      "3       None       None      1842      1857             11.0            -11.0   \n",
      "4       None       None      1477      1251              8.0             -5.0   \n",
      "\n",
      "      UTCDate   UTCTime   ECO  \\\n",
      "0  2015-01-31  23:00:00  None   \n",
      "1  2015-01-31  23:00:04   B32   \n",
      "2  2015-01-31  23:00:07   C20   \n",
      "3  2015-01-31  23:00:11   B80   \n",
      "4  2015-01-31  23:00:24   D06   \n",
      "\n",
      "                                             Opening   Termination  \\\n",
      "0                                                  ?     Abandoned   \n",
      "1                          Sicilian Defense: Open #3        Normal   \n",
      "2                                   King's Pawn Game        Normal   \n",
      "3  Sicilian Defense: Scheveningen Variation, Engl...  Time forfeit   \n",
      "4           Queen's Gambit Refused: Marshall Defense  Time forfeit   \n",
      "\n",
      "  TimeControl                                           movetext  \n",
      "0        60+0                                                0-1  \n",
      "1       360+0  1. e4 c5 2. Nf3 Nc6 3. d4 cxd4 4. Nxd4 f6 5. N...  \n",
      "2      720+15  1. e4 e5 2. g3 Nh6 3. d3 d6 4. b3 Ng4 5. Qe2 Q...  \n",
      "3       180+0  1. e4 c5 2. Nf3 d6 3. d4 cxd4 4. Nxd4 Nf6 5. N...  \n",
      "4       120+1  1. d4 d5 2. c4 Nf6 3. cxd5 Nxd5 4. e4 Nf6 5. e...  \n"
     ]
    }
   ],
   "execution_count": 2
  },
  {
   "metadata": {},
   "cell_type": "code",
   "source": [
    "def row_to_pgn(r):\n",
    "    tags = [\n",
    "        f'[Event \"{r.Event}\"]', f'[Site \"{r.Site}\"]',\n",
    "        f'[UTCDate \"{r.UTCDate}\"]', f'[UTCTime \"{r.UTCTime}\"]',\n",
    "        f'[White \"{r.White}\"]', f'[Black \"{r.Black}\"]',\n",
    "        f'[Result \"{r.Result}\"]'\n",
    "    ]\n",
    "    return \"\\n\".join(tags) + \"\\n\\n\" + r.movetext + \"\\n\\n\"\n",
    "\n",
    "pgns = df.apply(row_to_pgn, axis=1).tolist()\n"
   ],
   "id": "486dcb8884d4a32c",
   "outputs": [],
   "execution_count": null
  }
 ],
 "metadata": {
  "kernelspec": {
   "display_name": "Python 3",
   "language": "python",
   "name": "python3"
  },
  "language_info": {
   "codemirror_mode": {
    "name": "ipython",
    "version": 2
   },
   "file_extension": ".py",
   "mimetype": "text/x-python",
   "name": "python",
   "nbconvert_exporter": "python",
   "pygments_lexer": "ipython2",
   "version": "2.7.6"
  }
 },
 "nbformat": 4,
 "nbformat_minor": 5
}
