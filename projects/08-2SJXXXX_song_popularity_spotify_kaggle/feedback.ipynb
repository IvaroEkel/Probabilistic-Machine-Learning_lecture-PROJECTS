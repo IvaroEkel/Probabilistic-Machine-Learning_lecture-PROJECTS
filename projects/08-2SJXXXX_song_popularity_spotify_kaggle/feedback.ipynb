{
 "cells": [
  {
   "cell_type": "markdown",
   "id": "02d1e7fe",
   "metadata": {},
   "source": [
    "# COMMENTS:\n",
    "\n",
    "\n",
    "- Please start exploring your dataset(s). Start by assesing the state of the dataset(s) (for instance, if it is raw data that needs cleaning and/or reformatting, etc.). Then provide a general description of it: Spurce of the data and its general meaning and contents, number of samples, number of features, etc., and then provide a summary of the data types and missing values.\n",
    "  You can already include that progress of cleaning the data and its description in the report. "
   ]
  },
  {
   "cell_type": "markdown",
   "id": "ad792847",
   "metadata": {},
   "source": []
  }
 ],
 "metadata": {
  "language_info": {
   "name": "python"
  }
 },
 "nbformat": 4,
 "nbformat_minor": 5
}
