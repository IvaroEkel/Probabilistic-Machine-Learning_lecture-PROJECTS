{
 "cells": [
  {
   "metadata": {},
   "cell_type": "markdown",
   "source": [
    "## 1. Introduction\n",
    "\n",
    "- Brief description of the dataset and problem\n",
    "- Motivation for your project"
   ],
   "id": "515fbb63385dfbbf"
  },
  {
   "metadata": {},
   "cell_type": "markdown",
   "source": "Hudl Statsbomb claims to be offering the most comprehensive and flexible football data. The company makes some of their data freely available to equip the next generation of analysts with the tools, training and resources needed to succeed in the industry. The available data range from historical matches to analyse legends of the game (link Pele, Cruyff) over outstanding seasons and tournaments (link Leverkusen, Womens World Cup) to all matches from Lionel Messis career (link Messi). In total there are data for over 3000 matches from more than 20 competitions. They can be accessed via the statsbomb github (link to github). Libraries for processing the data in python are also available (link mplsoccer).",
   "id": "99d6533581693a48"
  }
 ],
 "metadata": {
  "kernelspec": {
   "display_name": "Python 3",
   "language": "python",
   "name": "python3"
  },
  "language_info": {
   "codemirror_mode": {
    "name": "ipython",
    "version": 2
   },
   "file_extension": ".py",
   "mimetype": "text/x-python",
   "name": "python",
   "nbconvert_exporter": "python",
   "pygments_lexer": "ipython2",
   "version": "2.7.6"
  }
 },
 "nbformat": 4,
 "nbformat_minor": 5
}
