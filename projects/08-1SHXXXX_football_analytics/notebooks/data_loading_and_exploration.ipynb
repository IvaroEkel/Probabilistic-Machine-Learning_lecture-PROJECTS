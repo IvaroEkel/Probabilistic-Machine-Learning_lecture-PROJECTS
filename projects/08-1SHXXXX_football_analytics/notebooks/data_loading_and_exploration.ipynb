{
  "cells": [
    {
      "cell_type": "markdown",
      "metadata": {
        "id": "view-in-github",
        "colab_type": "text"
      },
      "source": [
        "<a href=\"https://colab.research.google.com/github/hannesstuehrenberg/Probabilistic-Machine-Learning_lecture-PROJECTS/blob/main/projects/08-1SHXXXX_football_analytics/notebooks/data_loading_and_exploration.ipynb\" target=\"_parent\"><img src=\"https://colab.research.google.com/assets/colab-badge.svg\" alt=\"Open In Colab\"/></a>"
      ]
    },
    {
      "metadata": {
        "id": "c65f20c16e3ed8fa"
      },
      "cell_type": "markdown",
      "source": [
        "## 2. Data Loading and Exploration\n",
        "\n",
        "- Code to load data\n",
        "- Basic exploration (plots, statistics, missing data, etc.)"
      ],
      "id": "c65f20c16e3ed8fa"
    },
    {
      "metadata": {
        "ExecuteTime": {
          "end_time": "2025-06-23T12:30:10.175607Z",
          "start_time": "2025-06-23T12:30:10.161904Z"
        },
        "id": "e0bb8e673a2b88e8",
        "outputId": "1c64cfeb-064b-4bc1-d914-de8047b7eeef",
        "colab": {
          "base_uri": "https://localhost:8080/"
        }
      },
      "cell_type": "code",
      "source": [
        "print(\"Hello World\")"
      ],
      "id": "e0bb8e673a2b88e8",
      "outputs": [
        {
          "output_type": "stream",
          "name": "stdout",
          "text": [
            "Hello World\n"
          ]
        }
      ],
      "execution_count": 1
    },
    {
      "metadata": {
        "id": "edc1161540a8b378"
      },
      "cell_type": "code",
      "outputs": [],
      "execution_count": 2,
      "source": [
        "#test workflow"
      ],
      "id": "edc1161540a8b378"
    }
  ],
  "metadata": {
    "kernelspec": {
      "display_name": "Python 3",
      "language": "python",
      "name": "python3"
    },
    "language_info": {
      "codemirror_mode": {
        "name": "ipython",
        "version": 2
      },
      "file_extension": ".py",
      "mimetype": "text/x-python",
      "name": "python",
      "nbconvert_exporter": "python",
      "pygments_lexer": "ipython2",
      "version": "2.7.6"
    },
    "colab": {
      "provenance": [],
      "include_colab_link": true
    }
  },
  "nbformat": 4,
  "nbformat_minor": 5
}