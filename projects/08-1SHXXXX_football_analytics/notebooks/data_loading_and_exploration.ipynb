{
 "cells": [
  {
   "metadata": {},
   "cell_type": "markdown",
   "source": [
    "## 2. Data Loading and Exploration\n",
    "\n",
    "- Code to load data\n",
    "- Basic exploration (plots, statistics, missing data, etc.)"
   ],
   "id": "c65f20c16e3ed8fa"
  },
  {
   "metadata": {
    "ExecuteTime": {
     "end_time": "2025-06-23T12:30:10.175607Z",
     "start_time": "2025-06-23T12:30:10.161904Z"
    }
   },
   "cell_type": "code",
   "source": "print(\"Hello World\")",
   "id": "e0bb8e673a2b88e8",
   "outputs": [
    {
     "name": "stdout",
     "output_type": "stream",
     "text": [
      "Hello World\n"
     ]
    }
   ],
   "execution_count": 1
  },
  {
   "metadata": {},
   "cell_type": "code",
   "outputs": [],
   "execution_count": null,
   "source": "",
   "id": "edc1161540a8b378"
  }
 ],
 "metadata": {
  "kernelspec": {
   "display_name": "Python 3",
   "language": "python",
   "name": "python3"
  },
  "language_info": {
   "codemirror_mode": {
    "name": "ipython",
    "version": 2
   },
   "file_extension": ".py",
   "mimetype": "text/x-python",
   "name": "python",
   "nbconvert_exporter": "python",
   "pygments_lexer": "ipython2",
   "version": "2.7.6"
  }
 },
 "nbformat": 4,
 "nbformat_minor": 5
}
