{
  "cells": [
    {
      "cell_type": "markdown",
      "metadata": {
        "id": "view-in-github",
        "colab_type": "text"
      },
      "source": [
        "<a href=\"https://colab.research.google.com/github/hannesstuehrenberg/Probabilistic-Machine-Learning_lecture-PROJECTS/blob/main/projects/08-1SHXXXX_football_analytics/notebooks/03_data_preprocessing.ipynb\" target=\"_parent\"><img src=\"https://colab.research.google.com/assets/colab-badge.svg\" alt=\"Open In Colab\"/></a>"
      ]
    },
    {
      "metadata": {
        "id": "70f490b0659245e6"
      },
      "cell_type": "markdown",
      "source": [
        "## 3. Data Preprocessing\n",
        "- Steps taken to clean or transform the data\n"
      ],
      "id": "70f490b0659245e6"
    },
    {
      "cell_type": "code",
      "source": [
        "!pip install mplsoccer"
      ],
      "metadata": {
        "id": "yIVViV9H6Dfa",
        "outputId": "f3ec090a-7557-4788-a656-97ea3b3108f0",
        "colab": {
          "base_uri": "https://localhost:8080/"
        }
      },
      "id": "yIVViV9H6Dfa",
      "execution_count": 1,
      "outputs": [
        {
          "output_type": "stream",
          "name": "stdout",
          "text": [
            "Collecting mplsoccer\n",
            "  Downloading mplsoccer-1.5.0-py3-none-any.whl.metadata (4.8 kB)\n",
            "Requirement already satisfied: matplotlib>=3.6 in /usr/local/lib/python3.11/dist-packages (from mplsoccer) (3.10.0)\n",
            "Requirement already satisfied: numpy in /usr/local/lib/python3.11/dist-packages (from mplsoccer) (2.0.2)\n",
            "Requirement already satisfied: pandas in /usr/local/lib/python3.11/dist-packages (from mplsoccer) (2.2.2)\n",
            "Requirement already satisfied: pillow in /usr/local/lib/python3.11/dist-packages (from mplsoccer) (11.2.1)\n",
            "Requirement already satisfied: requests in /usr/local/lib/python3.11/dist-packages (from mplsoccer) (2.32.3)\n",
            "Requirement already satisfied: scipy in /usr/local/lib/python3.11/dist-packages (from mplsoccer) (1.15.3)\n",
            "Requirement already satisfied: seaborn in /usr/local/lib/python3.11/dist-packages (from mplsoccer) (0.13.2)\n",
            "Requirement already satisfied: contourpy>=1.0.1 in /usr/local/lib/python3.11/dist-packages (from matplotlib>=3.6->mplsoccer) (1.3.2)\n",
            "Requirement already satisfied: cycler>=0.10 in /usr/local/lib/python3.11/dist-packages (from matplotlib>=3.6->mplsoccer) (0.12.1)\n",
            "Requirement already satisfied: fonttools>=4.22.0 in /usr/local/lib/python3.11/dist-packages (from matplotlib>=3.6->mplsoccer) (4.58.4)\n",
            "Requirement already satisfied: kiwisolver>=1.3.1 in /usr/local/lib/python3.11/dist-packages (from matplotlib>=3.6->mplsoccer) (1.4.8)\n",
            "Requirement already satisfied: packaging>=20.0 in /usr/local/lib/python3.11/dist-packages (from matplotlib>=3.6->mplsoccer) (24.2)\n",
            "Requirement already satisfied: pyparsing>=2.3.1 in /usr/local/lib/python3.11/dist-packages (from matplotlib>=3.6->mplsoccer) (3.2.3)\n",
            "Requirement already satisfied: python-dateutil>=2.7 in /usr/local/lib/python3.11/dist-packages (from matplotlib>=3.6->mplsoccer) (2.9.0.post0)\n",
            "Requirement already satisfied: pytz>=2020.1 in /usr/local/lib/python3.11/dist-packages (from pandas->mplsoccer) (2025.2)\n",
            "Requirement already satisfied: tzdata>=2022.7 in /usr/local/lib/python3.11/dist-packages (from pandas->mplsoccer) (2025.2)\n",
            "Requirement already satisfied: charset-normalizer<4,>=2 in /usr/local/lib/python3.11/dist-packages (from requests->mplsoccer) (3.4.2)\n",
            "Requirement already satisfied: idna<4,>=2.5 in /usr/local/lib/python3.11/dist-packages (from requests->mplsoccer) (3.10)\n",
            "Requirement already satisfied: urllib3<3,>=1.21.1 in /usr/local/lib/python3.11/dist-packages (from requests->mplsoccer) (2.4.0)\n",
            "Requirement already satisfied: certifi>=2017.4.17 in /usr/local/lib/python3.11/dist-packages (from requests->mplsoccer) (2025.6.15)\n",
            "Requirement already satisfied: six>=1.5 in /usr/local/lib/python3.11/dist-packages (from python-dateutil>=2.7->matplotlib>=3.6->mplsoccer) (1.17.0)\n",
            "Downloading mplsoccer-1.5.0-py3-none-any.whl (86 kB)\n",
            "\u001b[2K   \u001b[90m━━━━━━━━━━━━━━━━━━━━━━━━━━━━━━━━━━━━━━━━\u001b[0m \u001b[32m86.2/86.2 kB\u001b[0m \u001b[31m2.3 MB/s\u001b[0m eta \u001b[36m0:00:00\u001b[0m\n",
            "\u001b[?25hInstalling collected packages: mplsoccer\n",
            "Successfully installed mplsoccer-1.5.0\n"
          ]
        }
      ]
    },
    {
      "cell_type": "code",
      "source": [
        "#Import necessary libraries\n",
        "import pandas as pd\n",
        "import numpy as np\n",
        "import json\n",
        "import matplotlib.pyplot as plt\n",
        "import seaborn as sns\n",
        "from mplsoccer import VerticalPitch\n",
        "from mplsoccer import Sbopen\n",
        "from tqdm import tqdm\n",
        "\n",
        "#Ignore warnings\n",
        "import warnings\n",
        "warnings.filterwarnings('ignore')\n",
        "\n",
        "#Initialize parser\n",
        "parser = Sbopen()"
      ],
      "metadata": {
        "id": "gE4F1LaY5te4"
      },
      "id": "gE4F1LaY5te4",
      "execution_count": 8,
      "outputs": []
    },
    {
      "cell_type": "code",
      "source": [
        "matches_df = parser.match(competition_id=72, season_id=107)\n",
        "match_ids = matches_df['match_id'].tolist()\n",
        "\n",
        "all_shots = []\n",
        "\n",
        "for match_id in match_ids:\n",
        "    df_event, df_related, df_freeze, df_tactics = parser.event(match_id)\n",
        "\n",
        "    df_shots = df_event[df_event['type_name'] == 'Shot'].copy()\n",
        "\n",
        "    df_shots['match_id'] = match_id\n",
        "\n",
        "    all_shots.append(df_shots)\n",
        "\n",
        "shots_master_women_world_cup_df = pd.concat(all_shots, ignore_index=True)"
      ],
      "metadata": {
        "id": "je0c5Ejv65vp",
        "outputId": "d85e5f89-dc84-4be4-a0f5-9af4df15adc9",
        "colab": {
          "base_uri": "https://localhost:8080/",
          "height": 356
        }
      },
      "id": "je0c5Ejv65vp",
      "execution_count": 9,
      "outputs": [
        {
          "output_type": "error",
          "ename": "KeyboardInterrupt",
          "evalue": "",
          "traceback": [
            "\u001b[0;31m---------------------------------------------------------------------------\u001b[0m",
            "\u001b[0;31mKeyboardInterrupt\u001b[0m                         Traceback (most recent call last)",
            "\u001b[0;32m/tmp/ipython-input-9-1369465730.py\u001b[0m in \u001b[0;36m<cell line: 0>\u001b[0;34m()\u001b[0m\n\u001b[1;32m      5\u001b[0m \u001b[0;34m\u001b[0m\u001b[0m\n\u001b[1;32m      6\u001b[0m \u001b[0;32mfor\u001b[0m \u001b[0mmatch_id\u001b[0m \u001b[0;32min\u001b[0m \u001b[0mmatch_ids\u001b[0m\u001b[0;34m:\u001b[0m\u001b[0;34m\u001b[0m\u001b[0;34m\u001b[0m\u001b[0m\n\u001b[0;32m----> 7\u001b[0;31m     \u001b[0mdf_event\u001b[0m\u001b[0;34m,\u001b[0m \u001b[0mdf_related\u001b[0m\u001b[0;34m,\u001b[0m \u001b[0mdf_freeze\u001b[0m\u001b[0;34m,\u001b[0m \u001b[0mdf_tactics\u001b[0m \u001b[0;34m=\u001b[0m \u001b[0mparser\u001b[0m\u001b[0;34m.\u001b[0m\u001b[0mevent\u001b[0m\u001b[0;34m(\u001b[0m\u001b[0mmatch_id\u001b[0m\u001b[0;34m)\u001b[0m\u001b[0;34m\u001b[0m\u001b[0;34m\u001b[0m\u001b[0m\n\u001b[0m\u001b[1;32m      8\u001b[0m \u001b[0;34m\u001b[0m\u001b[0m\n\u001b[1;32m      9\u001b[0m     \u001b[0mdf_shots\u001b[0m \u001b[0;34m=\u001b[0m \u001b[0mdf_event\u001b[0m\u001b[0;34m[\u001b[0m\u001b[0mdf_event\u001b[0m\u001b[0;34m[\u001b[0m\u001b[0;34m'type_name'\u001b[0m\u001b[0;34m]\u001b[0m \u001b[0;34m==\u001b[0m \u001b[0;34m'Shot'\u001b[0m\u001b[0;34m]\u001b[0m\u001b[0;34m.\u001b[0m\u001b[0mcopy\u001b[0m\u001b[0;34m(\u001b[0m\u001b[0;34m)\u001b[0m\u001b[0;34m\u001b[0m\u001b[0;34m\u001b[0m\u001b[0m\n",
            "\u001b[0;32m/usr/local/lib/python3.11/dist-packages/mplsoccer/statsbomb.py\u001b[0m in \u001b[0;36mevent\u001b[0;34m(self, match_id)\u001b[0m\n\u001b[1;32m     62\u001b[0m         \"\"\"\n\u001b[1;32m     63\u001b[0m         \u001b[0murl\u001b[0m \u001b[0;34m=\u001b[0m \u001b[0;34mf'{self.url}events/{match_id}.json'\u001b[0m\u001b[0;34m\u001b[0m\u001b[0;34m\u001b[0m\u001b[0m\n\u001b[0;32m---> 64\u001b[0;31m         \u001b[0mdata\u001b[0m \u001b[0;34m=\u001b[0m \u001b[0mself\u001b[0m\u001b[0;34m.\u001b[0m\u001b[0m_get_data\u001b[0m\u001b[0;34m(\u001b[0m\u001b[0murl\u001b[0m\u001b[0;34m)\u001b[0m\u001b[0;34m\u001b[0m\u001b[0;34m\u001b[0m\u001b[0m\n\u001b[0m\u001b[1;32m     65\u001b[0m         \u001b[0;32mreturn\u001b[0m \u001b[0mflatten_event\u001b[0m\u001b[0;34m(\u001b[0m\u001b[0mdata\u001b[0m\u001b[0;34m,\u001b[0m \u001b[0mmatch_id\u001b[0m\u001b[0;34m,\u001b[0m \u001b[0mself\u001b[0m\u001b[0;34m.\u001b[0m\u001b[0mdataframe\u001b[0m\u001b[0;34m)\u001b[0m\u001b[0;34m\u001b[0m\u001b[0;34m\u001b[0m\u001b[0m\n\u001b[1;32m     66\u001b[0m \u001b[0;34m\u001b[0m\u001b[0m\n",
            "\u001b[0;32m/usr/local/lib/python3.11/dist-packages/mplsoccer/statsbomb.py\u001b[0m in \u001b[0;36m_get_data\u001b[0;34m(url)\u001b[0m\n\u001b[1;32m     39\u001b[0m             \u001b[0mFor\u001b[0m \u001b[0mthe\u001b[0m \u001b[0mStatsBomb\u001b[0m \u001b[0mdata\u001b[0m \u001b[0mthis\u001b[0m \u001b[0;32mis\u001b[0m \u001b[0mtypically\u001b[0m \u001b[0ma\u001b[0m \u001b[0mlist\u001b[0m \u001b[0mof\u001b[0m \u001b[0mdictionaries\u001b[0m\u001b[0;34m.\u001b[0m\u001b[0;34m\u001b[0m\u001b[0;34m\u001b[0m\u001b[0m\n\u001b[1;32m     40\u001b[0m         \"\"\"\n\u001b[0;32m---> 41\u001b[0;31m         \u001b[0mresp\u001b[0m \u001b[0;34m=\u001b[0m \u001b[0mrequests\u001b[0m\u001b[0;34m.\u001b[0m\u001b[0mget\u001b[0m\u001b[0;34m(\u001b[0m\u001b[0murl\u001b[0m\u001b[0;34m=\u001b[0m\u001b[0murl\u001b[0m\u001b[0;34m)\u001b[0m\u001b[0;34m\u001b[0m\u001b[0;34m\u001b[0m\u001b[0m\n\u001b[0m\u001b[1;32m     42\u001b[0m         \u001b[0mresp\u001b[0m\u001b[0;34m.\u001b[0m\u001b[0mraise_for_status\u001b[0m\u001b[0;34m(\u001b[0m\u001b[0;34m)\u001b[0m\u001b[0;34m\u001b[0m\u001b[0;34m\u001b[0m\u001b[0m\n\u001b[1;32m     43\u001b[0m         \u001b[0;32mreturn\u001b[0m \u001b[0mresp\u001b[0m\u001b[0;34m.\u001b[0m\u001b[0mjson\u001b[0m\u001b[0;34m(\u001b[0m\u001b[0;34m)\u001b[0m\u001b[0;34m\u001b[0m\u001b[0;34m\u001b[0m\u001b[0m\n",
            "\u001b[0;32m/usr/local/lib/python3.11/dist-packages/requests/api.py\u001b[0m in \u001b[0;36mget\u001b[0;34m(url, params, **kwargs)\u001b[0m\n\u001b[1;32m     71\u001b[0m     \"\"\"\n\u001b[1;32m     72\u001b[0m \u001b[0;34m\u001b[0m\u001b[0m\n\u001b[0;32m---> 73\u001b[0;31m     \u001b[0;32mreturn\u001b[0m \u001b[0mrequest\u001b[0m\u001b[0;34m(\u001b[0m\u001b[0;34m\"get\"\u001b[0m\u001b[0;34m,\u001b[0m \u001b[0murl\u001b[0m\u001b[0;34m,\u001b[0m \u001b[0mparams\u001b[0m\u001b[0;34m=\u001b[0m\u001b[0mparams\u001b[0m\u001b[0;34m,\u001b[0m \u001b[0;34m**\u001b[0m\u001b[0mkwargs\u001b[0m\u001b[0;34m)\u001b[0m\u001b[0;34m\u001b[0m\u001b[0;34m\u001b[0m\u001b[0m\n\u001b[0m\u001b[1;32m     74\u001b[0m \u001b[0;34m\u001b[0m\u001b[0m\n\u001b[1;32m     75\u001b[0m \u001b[0;34m\u001b[0m\u001b[0m\n",
            "\u001b[0;32m/usr/local/lib/python3.11/dist-packages/requests/api.py\u001b[0m in \u001b[0;36mrequest\u001b[0;34m(method, url, **kwargs)\u001b[0m\n\u001b[1;32m     57\u001b[0m     \u001b[0;31m# cases, and look like a memory leak in others.\u001b[0m\u001b[0;34m\u001b[0m\u001b[0;34m\u001b[0m\u001b[0m\n\u001b[1;32m     58\u001b[0m     \u001b[0;32mwith\u001b[0m \u001b[0msessions\u001b[0m\u001b[0;34m.\u001b[0m\u001b[0mSession\u001b[0m\u001b[0;34m(\u001b[0m\u001b[0;34m)\u001b[0m \u001b[0;32mas\u001b[0m \u001b[0msession\u001b[0m\u001b[0;34m:\u001b[0m\u001b[0;34m\u001b[0m\u001b[0;34m\u001b[0m\u001b[0m\n\u001b[0;32m---> 59\u001b[0;31m         \u001b[0;32mreturn\u001b[0m \u001b[0msession\u001b[0m\u001b[0;34m.\u001b[0m\u001b[0mrequest\u001b[0m\u001b[0;34m(\u001b[0m\u001b[0mmethod\u001b[0m\u001b[0;34m=\u001b[0m\u001b[0mmethod\u001b[0m\u001b[0;34m,\u001b[0m \u001b[0murl\u001b[0m\u001b[0;34m=\u001b[0m\u001b[0murl\u001b[0m\u001b[0;34m,\u001b[0m \u001b[0;34m**\u001b[0m\u001b[0mkwargs\u001b[0m\u001b[0;34m)\u001b[0m\u001b[0;34m\u001b[0m\u001b[0;34m\u001b[0m\u001b[0m\n\u001b[0m\u001b[1;32m     60\u001b[0m \u001b[0;34m\u001b[0m\u001b[0m\n\u001b[1;32m     61\u001b[0m \u001b[0;34m\u001b[0m\u001b[0m\n",
            "\u001b[0;32m/usr/local/lib/python3.11/dist-packages/requests/sessions.py\u001b[0m in \u001b[0;36mrequest\u001b[0;34m(self, method, url, params, data, headers, cookies, files, auth, timeout, allow_redirects, proxies, hooks, stream, verify, cert, json)\u001b[0m\n\u001b[1;32m    587\u001b[0m         }\n\u001b[1;32m    588\u001b[0m         \u001b[0msend_kwargs\u001b[0m\u001b[0;34m.\u001b[0m\u001b[0mupdate\u001b[0m\u001b[0;34m(\u001b[0m\u001b[0msettings\u001b[0m\u001b[0;34m)\u001b[0m\u001b[0;34m\u001b[0m\u001b[0;34m\u001b[0m\u001b[0m\n\u001b[0;32m--> 589\u001b[0;31m         \u001b[0mresp\u001b[0m \u001b[0;34m=\u001b[0m \u001b[0mself\u001b[0m\u001b[0;34m.\u001b[0m\u001b[0msend\u001b[0m\u001b[0;34m(\u001b[0m\u001b[0mprep\u001b[0m\u001b[0;34m,\u001b[0m \u001b[0;34m**\u001b[0m\u001b[0msend_kwargs\u001b[0m\u001b[0;34m)\u001b[0m\u001b[0;34m\u001b[0m\u001b[0;34m\u001b[0m\u001b[0m\n\u001b[0m\u001b[1;32m    590\u001b[0m \u001b[0;34m\u001b[0m\u001b[0m\n\u001b[1;32m    591\u001b[0m         \u001b[0;32mreturn\u001b[0m \u001b[0mresp\u001b[0m\u001b[0;34m\u001b[0m\u001b[0;34m\u001b[0m\u001b[0m\n",
            "\u001b[0;32m/usr/local/lib/python3.11/dist-packages/requests/sessions.py\u001b[0m in \u001b[0;36msend\u001b[0;34m(self, request, **kwargs)\u001b[0m\n\u001b[1;32m    744\u001b[0m \u001b[0;34m\u001b[0m\u001b[0m\n\u001b[1;32m    745\u001b[0m         \u001b[0;32mif\u001b[0m \u001b[0;32mnot\u001b[0m \u001b[0mstream\u001b[0m\u001b[0;34m:\u001b[0m\u001b[0;34m\u001b[0m\u001b[0;34m\u001b[0m\u001b[0m\n\u001b[0;32m--> 746\u001b[0;31m             \u001b[0mr\u001b[0m\u001b[0;34m.\u001b[0m\u001b[0mcontent\u001b[0m\u001b[0;34m\u001b[0m\u001b[0;34m\u001b[0m\u001b[0m\n\u001b[0m\u001b[1;32m    747\u001b[0m \u001b[0;34m\u001b[0m\u001b[0m\n\u001b[1;32m    748\u001b[0m         \u001b[0;32mreturn\u001b[0m \u001b[0mr\u001b[0m\u001b[0;34m\u001b[0m\u001b[0;34m\u001b[0m\u001b[0m\n",
            "\u001b[0;32m/usr/local/lib/python3.11/dist-packages/requests/models.py\u001b[0m in \u001b[0;36mcontent\u001b[0;34m(self)\u001b[0m\n\u001b[1;32m    900\u001b[0m                 \u001b[0mself\u001b[0m\u001b[0;34m.\u001b[0m\u001b[0m_content\u001b[0m \u001b[0;34m=\u001b[0m \u001b[0;32mNone\u001b[0m\u001b[0;34m\u001b[0m\u001b[0;34m\u001b[0m\u001b[0m\n\u001b[1;32m    901\u001b[0m             \u001b[0;32melse\u001b[0m\u001b[0;34m:\u001b[0m\u001b[0;34m\u001b[0m\u001b[0;34m\u001b[0m\u001b[0m\n\u001b[0;32m--> 902\u001b[0;31m                 \u001b[0mself\u001b[0m\u001b[0;34m.\u001b[0m\u001b[0m_content\u001b[0m \u001b[0;34m=\u001b[0m \u001b[0;34mb\"\"\u001b[0m\u001b[0;34m.\u001b[0m\u001b[0mjoin\u001b[0m\u001b[0;34m(\u001b[0m\u001b[0mself\u001b[0m\u001b[0;34m.\u001b[0m\u001b[0miter_content\u001b[0m\u001b[0;34m(\u001b[0m\u001b[0mCONTENT_CHUNK_SIZE\u001b[0m\u001b[0;34m)\u001b[0m\u001b[0;34m)\u001b[0m \u001b[0;32mor\u001b[0m \u001b[0;34mb\"\"\u001b[0m\u001b[0;34m\u001b[0m\u001b[0;34m\u001b[0m\u001b[0m\n\u001b[0m\u001b[1;32m    903\u001b[0m \u001b[0;34m\u001b[0m\u001b[0m\n\u001b[1;32m    904\u001b[0m         \u001b[0mself\u001b[0m\u001b[0;34m.\u001b[0m\u001b[0m_content_consumed\u001b[0m \u001b[0;34m=\u001b[0m \u001b[0;32mTrue\u001b[0m\u001b[0;34m\u001b[0m\u001b[0;34m\u001b[0m\u001b[0m\n",
            "\u001b[0;32m/usr/local/lib/python3.11/dist-packages/requests/models.py\u001b[0m in \u001b[0;36mgenerate\u001b[0;34m()\u001b[0m\n\u001b[1;32m    818\u001b[0m             \u001b[0;32mif\u001b[0m \u001b[0mhasattr\u001b[0m\u001b[0;34m(\u001b[0m\u001b[0mself\u001b[0m\u001b[0;34m.\u001b[0m\u001b[0mraw\u001b[0m\u001b[0;34m,\u001b[0m \u001b[0;34m\"stream\"\u001b[0m\u001b[0;34m)\u001b[0m\u001b[0;34m:\u001b[0m\u001b[0;34m\u001b[0m\u001b[0;34m\u001b[0m\u001b[0m\n\u001b[1;32m    819\u001b[0m                 \u001b[0;32mtry\u001b[0m\u001b[0;34m:\u001b[0m\u001b[0;34m\u001b[0m\u001b[0;34m\u001b[0m\u001b[0m\n\u001b[0;32m--> 820\u001b[0;31m                     \u001b[0;32myield\u001b[0m \u001b[0;32mfrom\u001b[0m \u001b[0mself\u001b[0m\u001b[0;34m.\u001b[0m\u001b[0mraw\u001b[0m\u001b[0;34m.\u001b[0m\u001b[0mstream\u001b[0m\u001b[0;34m(\u001b[0m\u001b[0mchunk_size\u001b[0m\u001b[0;34m,\u001b[0m \u001b[0mdecode_content\u001b[0m\u001b[0;34m=\u001b[0m\u001b[0;32mTrue\u001b[0m\u001b[0;34m)\u001b[0m\u001b[0;34m\u001b[0m\u001b[0;34m\u001b[0m\u001b[0m\n\u001b[0m\u001b[1;32m    821\u001b[0m                 \u001b[0;32mexcept\u001b[0m \u001b[0mProtocolError\u001b[0m \u001b[0;32mas\u001b[0m \u001b[0me\u001b[0m\u001b[0;34m:\u001b[0m\u001b[0;34m\u001b[0m\u001b[0;34m\u001b[0m\u001b[0m\n\u001b[1;32m    822\u001b[0m                     \u001b[0;32mraise\u001b[0m \u001b[0mChunkedEncodingError\u001b[0m\u001b[0;34m(\u001b[0m\u001b[0me\u001b[0m\u001b[0;34m)\u001b[0m\u001b[0;34m\u001b[0m\u001b[0;34m\u001b[0m\u001b[0m\n",
            "\u001b[0;32m/usr/local/lib/python3.11/dist-packages/urllib3/response.py\u001b[0m in \u001b[0;36mstream\u001b[0;34m(self, amt, decode_content)\u001b[0m\n\u001b[1;32m   1064\u001b[0m         \u001b[0;32melse\u001b[0m\u001b[0;34m:\u001b[0m\u001b[0;34m\u001b[0m\u001b[0;34m\u001b[0m\u001b[0m\n\u001b[1;32m   1065\u001b[0m             \u001b[0;32mwhile\u001b[0m \u001b[0;32mnot\u001b[0m \u001b[0mis_fp_closed\u001b[0m\u001b[0;34m(\u001b[0m\u001b[0mself\u001b[0m\u001b[0;34m.\u001b[0m\u001b[0m_fp\u001b[0m\u001b[0;34m)\u001b[0m \u001b[0;32mor\u001b[0m \u001b[0mlen\u001b[0m\u001b[0;34m(\u001b[0m\u001b[0mself\u001b[0m\u001b[0;34m.\u001b[0m\u001b[0m_decoded_buffer\u001b[0m\u001b[0;34m)\u001b[0m \u001b[0;34m>\u001b[0m \u001b[0;36m0\u001b[0m\u001b[0;34m:\u001b[0m\u001b[0;34m\u001b[0m\u001b[0;34m\u001b[0m\u001b[0m\n\u001b[0;32m-> 1066\u001b[0;31m                 \u001b[0mdata\u001b[0m \u001b[0;34m=\u001b[0m \u001b[0mself\u001b[0m\u001b[0;34m.\u001b[0m\u001b[0mread\u001b[0m\u001b[0;34m(\u001b[0m\u001b[0mamt\u001b[0m\u001b[0;34m=\u001b[0m\u001b[0mamt\u001b[0m\u001b[0;34m,\u001b[0m \u001b[0mdecode_content\u001b[0m\u001b[0;34m=\u001b[0m\u001b[0mdecode_content\u001b[0m\u001b[0;34m)\u001b[0m\u001b[0;34m\u001b[0m\u001b[0;34m\u001b[0m\u001b[0m\n\u001b[0m\u001b[1;32m   1067\u001b[0m \u001b[0;34m\u001b[0m\u001b[0m\n\u001b[1;32m   1068\u001b[0m                 \u001b[0;32mif\u001b[0m \u001b[0mdata\u001b[0m\u001b[0;34m:\u001b[0m\u001b[0;34m\u001b[0m\u001b[0;34m\u001b[0m\u001b[0m\n",
            "\u001b[0;32m/usr/local/lib/python3.11/dist-packages/urllib3/response.py\u001b[0m in \u001b[0;36mread\u001b[0;34m(self, amt, decode_content, cache_content)\u001b[0m\n\u001b[1;32m    974\u001b[0m                 \u001b[0;32mreturn\u001b[0m \u001b[0mdata\u001b[0m\u001b[0;34m\u001b[0m\u001b[0;34m\u001b[0m\u001b[0m\n\u001b[1;32m    975\u001b[0m \u001b[0;34m\u001b[0m\u001b[0m\n\u001b[0;32m--> 976\u001b[0;31m             \u001b[0mdecoded_data\u001b[0m \u001b[0;34m=\u001b[0m \u001b[0mself\u001b[0m\u001b[0;34m.\u001b[0m\u001b[0m_decode\u001b[0m\u001b[0;34m(\u001b[0m\u001b[0mdata\u001b[0m\u001b[0;34m,\u001b[0m \u001b[0mdecode_content\u001b[0m\u001b[0;34m,\u001b[0m \u001b[0mflush_decoder\u001b[0m\u001b[0;34m)\u001b[0m\u001b[0;34m\u001b[0m\u001b[0;34m\u001b[0m\u001b[0m\n\u001b[0m\u001b[1;32m    977\u001b[0m             \u001b[0mself\u001b[0m\u001b[0;34m.\u001b[0m\u001b[0m_decoded_buffer\u001b[0m\u001b[0;34m.\u001b[0m\u001b[0mput\u001b[0m\u001b[0;34m(\u001b[0m\u001b[0mdecoded_data\u001b[0m\u001b[0;34m)\u001b[0m\u001b[0;34m\u001b[0m\u001b[0;34m\u001b[0m\u001b[0m\n\u001b[1;32m    978\u001b[0m \u001b[0;34m\u001b[0m\u001b[0m\n",
            "\u001b[0;32m/usr/local/lib/python3.11/dist-packages/urllib3/response.py\u001b[0m in \u001b[0;36m_decode\u001b[0;34m(self, data, decode_content, flush_decoder)\u001b[0m\n\u001b[1;32m    483\u001b[0m         \u001b[0;32mtry\u001b[0m\u001b[0;34m:\u001b[0m\u001b[0;34m\u001b[0m\u001b[0;34m\u001b[0m\u001b[0m\n\u001b[1;32m    484\u001b[0m             \u001b[0;32mif\u001b[0m \u001b[0mself\u001b[0m\u001b[0;34m.\u001b[0m\u001b[0m_decoder\u001b[0m\u001b[0;34m:\u001b[0m\u001b[0;34m\u001b[0m\u001b[0;34m\u001b[0m\u001b[0m\n\u001b[0;32m--> 485\u001b[0;31m                 \u001b[0mdata\u001b[0m \u001b[0;34m=\u001b[0m \u001b[0mself\u001b[0m\u001b[0;34m.\u001b[0m\u001b[0m_decoder\u001b[0m\u001b[0;34m.\u001b[0m\u001b[0mdecompress\u001b[0m\u001b[0;34m(\u001b[0m\u001b[0mdata\u001b[0m\u001b[0;34m)\u001b[0m\u001b[0;34m\u001b[0m\u001b[0;34m\u001b[0m\u001b[0m\n\u001b[0m\u001b[1;32m    486\u001b[0m                 \u001b[0mself\u001b[0m\u001b[0;34m.\u001b[0m\u001b[0m_has_decoded_content\u001b[0m \u001b[0;34m=\u001b[0m \u001b[0;32mTrue\u001b[0m\u001b[0;34m\u001b[0m\u001b[0;34m\u001b[0m\u001b[0m\n\u001b[1;32m    487\u001b[0m         \u001b[0;32mexcept\u001b[0m \u001b[0mself\u001b[0m\u001b[0;34m.\u001b[0m\u001b[0mDECODER_ERROR_CLASSES\u001b[0m \u001b[0;32mas\u001b[0m \u001b[0me\u001b[0m\u001b[0;34m:\u001b[0m\u001b[0;34m\u001b[0m\u001b[0;34m\u001b[0m\u001b[0m\n",
            "\u001b[0;32m/usr/local/lib/python3.11/dist-packages/urllib3/response.py\u001b[0m in \u001b[0;36mdecompress\u001b[0;34m(self, data)\u001b[0m\n\u001b[1;32m    126\u001b[0m         \u001b[0;32mwhile\u001b[0m \u001b[0;32mTrue\u001b[0m\u001b[0;34m:\u001b[0m\u001b[0;34m\u001b[0m\u001b[0;34m\u001b[0m\u001b[0m\n\u001b[1;32m    127\u001b[0m             \u001b[0;32mtry\u001b[0m\u001b[0;34m:\u001b[0m\u001b[0;34m\u001b[0m\u001b[0;34m\u001b[0m\u001b[0m\n\u001b[0;32m--> 128\u001b[0;31m                 \u001b[0mret\u001b[0m \u001b[0;34m+=\u001b[0m \u001b[0mself\u001b[0m\u001b[0;34m.\u001b[0m\u001b[0m_obj\u001b[0m\u001b[0;34m.\u001b[0m\u001b[0mdecompress\u001b[0m\u001b[0;34m(\u001b[0m\u001b[0mdata\u001b[0m\u001b[0;34m)\u001b[0m\u001b[0;34m\u001b[0m\u001b[0;34m\u001b[0m\u001b[0m\n\u001b[0m\u001b[1;32m    129\u001b[0m             \u001b[0;32mexcept\u001b[0m \u001b[0mzlib\u001b[0m\u001b[0;34m.\u001b[0m\u001b[0merror\u001b[0m\u001b[0;34m:\u001b[0m\u001b[0;34m\u001b[0m\u001b[0;34m\u001b[0m\u001b[0m\n\u001b[1;32m    130\u001b[0m                 \u001b[0mprevious_state\u001b[0m \u001b[0;34m=\u001b[0m \u001b[0mself\u001b[0m\u001b[0;34m.\u001b[0m\u001b[0m_state\u001b[0m\u001b[0;34m\u001b[0m\u001b[0;34m\u001b[0m\u001b[0m\n",
            "\u001b[0;31mKeyboardInterrupt\u001b[0m: "
          ]
        }
      ]
    },
    {
      "cell_type": "code",
      "source": [
        "#Lets look at the example dataset from the Women's World Cup 2023 again. It consisted of 1680 shots. 184 of them were goals.\n",
        "num_goals = shots_master_women_world_cup_df[shots_master_women_world_cup_df['outcome_name'] == 'Goal'].shape[0]\n",
        "print(f\"Number of goals: {num_goals}\")\n"
      ],
      "metadata": {
        "id": "FEnIWMvw6Wj-",
        "outputId": "238e29ae-ad43-477e-95bd-ee04ef2c1ae3",
        "colab": {
          "base_uri": "https://localhost:8080/"
        }
      },
      "id": "FEnIWMvw6Wj-",
      "execution_count": 7,
      "outputs": [
        {
          "output_type": "stream",
          "name": "stdout",
          "text": [
            "Number of goals: 184\n"
          ]
        }
      ]
    },
    {
      "cell_type": "code",
      "source": [
        "#As many more competitions are available the next step is to create a shots_master_df for all shots from all competitions to enrich the dataset on which to train the models later.\n",
        "\n",
        "#During data loading and exploration these columns were discovered to always be NaN for type_name = Shot. Therefore, they are not of interest for the shots_master_df\n",
        "irrelevant_columns = [\n",
        "    'tactics_formation', 'pass_recipient_id', 'pass_recipient_name', 'pass_length',\n",
        "    'pass_angle', 'pass_height_id', 'pass_height_name', 'counterpress', 'pass_switch',\n",
        "    'block_deflection', 'pass_cross', 'pass_assisted_shot_id', 'pass_shot_assist',\n",
        "    'goalkeeper_position_id', 'goalkeeper_position_name', 'foul_committed_card_id',\n",
        "    'foul_committed_card_name', 'ball_recovery_recovery_failure', 'foul_committed_advantage',\n",
        "    'foul_won_advantage', 'foul_won_defensive', 'dribble_nutmeg', 'pass_goal_assist',\n",
        "    'substitution_replacement_id', 'substitution_replacement_name', 'bad_behaviour_card_id',\n",
        "    'bad_behaviour_card_name', 'pass_cut_back', 'dribble_overrun', 'ball_recovery_offensive',\n",
        "    'pass_no_touch', 'pass_deflected', 'foul_committed_penalty', 'foul_won_penalty',\n",
        "    'injury_stoppage_in_chain', 'foul_committed_offensive', 'block_offensive',\n",
        "    'pass_miscommunication', 'block_save_block', 'dribble_no_touch', 'player_off_permanent'\n",
        "]\n",
        "\n",
        "all_shots = []\n",
        "\n",
        "df_competitions = parser.competition()\n",
        "\n",
        "# Add mininterval or miniters to slow down tqdm output\n",
        "for _, row in tqdm(df_competitions.iterrows(), total=len(df_competitions), desc=\"Competitions\", mininterval=2.0):\n",
        "    comp_id = row['competition_id']\n",
        "    season_id = row['season_id']\n",
        "    comp_name = row['competition_name']\n",
        "    season_name = row['season_name']\n",
        "\n",
        "    tqdm.write(f\"\\n🔄 Processing {comp_name} - {season_name}...\")\n",
        "\n",
        "    try:\n",
        "        matches_df = parser.match(competition_id=comp_id, season_id=season_id)\n",
        "        match_ids = matches_df['match_id'].tolist()\n",
        "\n",
        "        for match_id in tqdm(\n",
        "            match_ids,\n",
        "            desc=f\"  Matches in {comp_name[:15]} {season_name}\",\n",
        "            leave=False,\n",
        "            mininterval=20,\n",
        "        ):\n",
        "            try:\n",
        "                df_event, df_related, df_freeze, df_tactics = parser.event(match_id)\n",
        "                df_shots = df_event[df_event['type_name'] == 'Shot'].copy()\n",
        "                df_shots['match_id'] = match_id\n",
        "                all_shots.append(df_shots)\n",
        "            except Exception as e:\n",
        "                print(f\"     ❌ Error in match_id {match_id}: {e}\")\n",
        "\n",
        "    except Exception as e:\n",
        "        print(f\"❌ Could not fetch matches for {comp_name} - {season_name}: {e}\")\n",
        "\n",
        "shots_master_df = pd.concat(all_shots, ignore_index=True)\n",
        "shots_master_df = shots_master_df.drop(columns=[col for col in irrelevant_columns if col in shots_master_df.columns])\n",
        "\n",
        "print(\"\\n✅ All done!\")\n",
        "print(\"📊 Final shape of shots_master_df:\", shots_master_df.shape)\n"
      ],
      "metadata": {
        "id": "cm4_CQyb7fOa",
        "outputId": "614543aa-bfc1-459a-b7be-15c6b6d8ab1a",
        "colab": {
          "base_uri": "https://localhost:8080/"
        }
      },
      "id": "cm4_CQyb7fOa",
      "execution_count": null,
      "outputs": [
        {
          "output_type": "stream",
          "name": "stderr",
          "text": [
            "Competitions:   0%|          | 0/74 [00:00<?, ?it/s]"
          ]
        },
        {
          "output_type": "stream",
          "name": "stdout",
          "text": [
            "\n",
            "🔄 Processing 1. Bundesliga - 2023/2024...\n"
          ]
        },
        {
          "output_type": "stream",
          "name": "stderr",
          "text": [
            "\n",
            "  Matches in 1. Bundesliga 2023/2024:   0%|          | 0/34 [00:00<?, ?it/s]\u001b[A\n",
            "  Matches in 1. Bundesliga 2023/2024:  94%|█████████▍| 32/34 [00:20<00:01,  1.57it/s]\u001b[A\n",
            "Competitions:   1%|▏         | 1/74 [00:22<26:59, 22.19s/it]"
          ]
        },
        {
          "output_type": "stream",
          "name": "stdout",
          "text": [
            "\n",
            "🔄 Processing 1. Bundesliga - 2015/2016...\n"
          ]
        },
        {
          "output_type": "stream",
          "name": "stderr",
          "text": [
            "\n",
            "  Matches in 1. Bundesliga 2015/2016:   0%|          | 0/306 [00:00<?, ?it/s]\u001b[A\n",
            "  Matches in 1. Bundesliga 2015/2016:  12%|█▏        | 38/306 [00:20<02:23,  1.86it/s]\u001b[A\n",
            "  Matches in 1. Bundesliga 2015/2016:  12%|█▏        | 38/306 [00:40<02:23,  1.86it/s]\u001b[A\n",
            "  Matches in 1. Bundesliga 2015/2016:  24%|██▍       | 73/306 [00:40<02:09,  1.79it/s]\u001b[A\n",
            "  Matches in 1. Bundesliga 2015/2016:  24%|██▍       | 73/306 [00:50<02:09,  1.79it/s]\u001b[A\n",
            "  Matches in 1. Bundesliga 2015/2016:  37%|███▋      | 113/306 [01:00<01:43,  1.87it/s]\u001b[A\n",
            "  Matches in 1. Bundesliga 2015/2016:  37%|███▋      | 113/306 [01:20<01:43,  1.87it/s]\u001b[A\n",
            "  Matches in 1. Bundesliga 2015/2016:  50%|█████     | 154/306 [01:21<01:19,  1.91it/s]\u001b[A\n",
            "  Matches in 1. Bundesliga 2015/2016:  50%|█████     | 154/306 [01:40<01:19,  1.91it/s]\u001b[A\n",
            "  Matches in 1. Bundesliga 2015/2016:  59%|█████▉    | 182/306 [01:41<01:11,  1.72it/s]\u001b[A\n",
            "  Matches in 1. Bundesliga 2015/2016:  59%|█████▉    | 182/306 [02:00<01:11,  1.72it/s]\u001b[A\n",
            "  Matches in 1. Bundesliga 2015/2016:  68%|██████▊   | 208/306 [02:01<01:02,  1.58it/s]\u001b[A\n",
            "  Matches in 1. Bundesliga 2015/2016:  68%|██████▊   | 208/306 [02:20<01:02,  1.58it/s]\u001b[A\n",
            "  Matches in 1. Bundesliga 2015/2016:  76%|███████▋  | 234/306 [02:22<00:48,  1.48it/s]\u001b[A"
          ]
        }
      ]
    },
    {
      "cell_type": "markdown",
      "source": [
        "Recovered work"
      ],
      "metadata": {
        "id": "FXX3R6cM6P-v"
      },
      "id": "FXX3R6cM6P-v"
    },
    {
      "cell_type": "code",
      "source": [
        "import numpy as np\n",
        "\n",
        "shots_master_women_world_cup_df['distance_to_goal'] = np.sqrt(\n",
        "    (GOAL_X - shots_master_women_world_cup_df['x'])**2 +\n",
        "    (GOAL_CENTER_Y - shots_master_women_world_cup_df['y'])**2\n",
        ")"
      ],
      "metadata": {
        "id": "YhEN29j94YNw"
      },
      "id": "YhEN29j94YNw",
      "execution_count": null,
      "outputs": []
    },
    {
      "cell_type": "code",
      "source": [
        "import numpy as np\n",
        "\n",
        "# Constants\n",
        "GOAL_WIDTH = 7.32  # meters\n",
        "GOAL_CENTER_X = 120\n",
        "GOAL_CENTER_Y = 40"
      ],
      "metadata": {
        "id": "57alM7g74pmK"
      },
      "id": "57alM7g74pmK",
      "execution_count": null,
      "outputs": []
    },
    {
      "cell_type": "code",
      "source": [
        "distance_to_goal = np.sqrt((GOAL_CENTER_X - x)**2 + (GOAL_CENTER_Y - y)**2)\n",
        "shots_master_women_world_cup_df['distance_to_goal'] = distance_to_goal"
      ],
      "metadata": {
        "id": "8jolBW0I4riJ"
      },
      "id": "8jolBW0I4riJ",
      "execution_count": null,
      "outputs": []
    },
    {
      "cell_type": "code",
      "source": [
        "# Goalpost y-coordinates\n",
        "goal_y1 = GOAL_CENTER_Y - GOAL_WIDTH / 2  # left post\n",
        "goal_y2 = GOAL_CENTER_Y + GOAL_WIDTH / 2  # right post\n",
        "\n",
        "# Shot coordinates\n",
        "x = shots_master_women_world_cup_df['x'].to_numpy()\n",
        "y = shots_master_women_world_cup_df['y'].to_numpy()\n",
        "\n",
        "# Distances from shot to left and right goalposts\n",
        "a = np.sqrt((GOAL_CENTER_X - x)**2 + (goal_y1 - y)**2)\n",
        "b = np.sqrt((GOAL_CENTER_X - x)**2 + (goal_y2 - y)**2)\n",
        "c = GOAL_WIDTH\n",
        "\n",
        "# Avoid divide-by-zero\n",
        "denominator = 2 * a * b\n",
        "cos_angle = (a**2 + b**2 - c**2) / denominator\n",
        "cos_angle = np.clip(cos_angle, -1.0, 1.0)  # Ensure within valid arccos range\n",
        "\n",
        "# Calculate angle in radians\n",
        "angle_radians = np.arccos(cos_angle)\n",
        "\n",
        "# Store in DataFrame\n",
        "shots_master_women_world_cup_df['angle_to_goal'] = angle_radians\n",
        "shots_master_women_world_cup_df['angle_to_goal_deg'] = np.degrees(angle_radians)"
      ],
      "metadata": {
        "id": "6SgLOH3d4uJs"
      },
      "id": "6SgLOH3d4uJs",
      "execution_count": null,
      "outputs": []
    },
    {
      "cell_type": "code",
      "source": [
        "from mplsoccer import VerticalPitch\n",
        "import matplotlib.pyplot as plt\n",
        "\n",
        "test_plot = shots_master_women_world_cup_df[['id','period', 'timestamp', 'team_id', 'team_name', 'player_id', 'player_name', 'x', 'y', 'distance_to_goal', 'angle_to_goal', 'angle_to_goal_deg', 'match_id', 'outcome_name']]\n",
        "\n",
        "goals_df = test_plot[\n",
        "    (test_plot['match_id'] == 69301) &\n",
        "    (test_plot['outcome_name'] == 'Goal')\n",
        "]\n",
        "\n",
        "\n",
        "##############################\n",
        "\n",
        "goal_x = 120\n",
        "goal_y = 40\n",
        "\n",
        "# Create the pitch\n",
        "pitch = VerticalPitch(pitch_type='statsbomb', line_color='black', half = True)\n",
        "fig, ax = pitch.draw(\n",
        "    #figsize=(6, 10)\n",
        "    )\n",
        "\n",
        "pitch.scatter(goal_x, goal_y, s=50, c='red', ax=ax, label='Goal Center')\n",
        "\n",
        "for _, row in goals_df.iterrows():\n",
        "    shot_x = row['x']\n",
        "    shot_y = row['y']\n",
        "    distance = row['distance_to_goal']\n",
        "\n",
        "    # Shot location\n",
        "    pitch.scatter(shot_x, shot_y, ax=ax, c='gold', s=50, label='Goal')\n",
        "\n",
        "    # Line to goal center\n",
        "    pitch.lines(shot_x, shot_y, goal_x, goal_y, ax=ax, color='green', lw=1.5)\n",
        "\n",
        "    mid_x = (shot_x + goal_x) / 2\n",
        "    mid_y = (shot_y + goal_y) / 2\n",
        "    pitch.annotate(\n",
        "      f\"{distance:.1f}u\",\n",
        "      xy=(mid_x, mid_y),\n",
        "      ax=ax,\n",
        "      fontsize=8,\n",
        "      ha='center',\n",
        "      color='black',\n",
        "      bbox=dict(facecolor='white', alpha=0.8, edgecolor='none', boxstyle='round', pad=0.2)\n",
        "    )\n",
        "\n",
        "\n",
        "\n",
        "# Title and legend\n",
        "ax.set_title('Distance to Goal', fontsize=16)\n",
        "ax.legend()\n",
        "plt.show()"
      ],
      "metadata": {
        "id": "Jk30iGVf4vCY"
      },
      "id": "Jk30iGVf4vCY",
      "execution_count": null,
      "outputs": []
    },
    {
      "cell_type": "code",
      "source": [
        "goal_width = 7.32\n",
        "left_post_y = goal_y - goal_width / 2\n",
        "right_post_y = goal_y + goal_width / 2"
      ],
      "metadata": {
        "id": "iD-eZbkI4z_5"
      },
      "id": "iD-eZbkI4z_5",
      "execution_count": null,
      "outputs": []
    },
    {
      "cell_type": "code",
      "source": [
        "from mplsoccer import VerticalPitch\n",
        "import matplotlib.pyplot as plt\n",
        "\n",
        "goal_x, goal_y = 120, 40\n",
        "goal_width = 7.32\n",
        "left_post_y = goal_y - goal_width / 2\n",
        "right_post_y = goal_y + goal_width / 2\n",
        "\n",
        "pitch = VerticalPitch(pitch_type='statsbomb', line_color='black', half=True)\n",
        "fig, ax = pitch.draw()\n",
        "\n",
        "for i, row in goals_df.iterrows():\n",
        "    shot_x = row['x']\n",
        "    shot_y = row['y']\n",
        "    angle = row['angle_to_goal_deg']\n",
        "\n",
        "    pitch.scatter(shot_x, shot_y, ax=ax, c='gold', s=50, label='Goal' if i == 0 else None)\n",
        "\n",
        "    pitch.lines(shot_x, shot_y, goal_x, left_post_y, ax=ax, color='blue', lw=1.5, linestyle='--')\n",
        "    pitch.lines(shot_x, shot_y, goal_x, right_post_y, ax=ax, color='blue', lw=1.5, linestyle='--')\n",
        "\n",
        "    pitch.annotate(\n",
        "        f\"{angle:.2f} rad\",\n",
        "        xy=(shot_x, shot_y),\n",
        "        ax=ax,\n",
        "        fontsize=8,\n",
        "        ha='left',\n",
        "        color='blue',\n",
        "        xytext=(5, 5),\n",
        "        textcoords='offset points',\n",
        "        bbox=dict(facecolor='white', alpha=0.8, edgecolor='none', boxstyle='round' ,pad=0.2)\n",
        "    )\n",
        "\n",
        "ax.set_title('Shot Angles for Goals', fontsize=16)\n",
        "ax.legend()\n",
        "plt.show()"
      ],
      "metadata": {
        "id": "AAGI23ya42Ai"
      },
      "id": "AAGI23ya42Ai",
      "execution_count": null,
      "outputs": []
    },
    {
      "cell_type": "code",
      "source": [
        "shots_master_women_world_cup_df.info()\n",
        "shots_master_women_world_cup_df.head(50)"
      ],
      "metadata": {
        "id": "QQkPPGLN44X0"
      },
      "id": "QQkPPGLN44X0",
      "execution_count": null,
      "outputs": []
    },
    {
      "cell_type": "code",
      "source": [
        "shots_master_women_world_cup_df['goal'] = (shots_master_women_world_cup_df['outcome_name'] == 'Goal').astype(int)\n",
        "\n",
        "shots_200 = shots_master_women_world_cup_df.iloc[:200]\n",
        "\n",
        "fig, ax = plt.subplots(figsize=(8, 5))\n",
        "ax.plot(\n",
        "    shots_200['angle_to_goal_deg'],\n",
        "    shots_200['goal'],\n",
        "    linestyle='none',\n",
        "    marker='.',\n",
        "    markersize=12,\n",
        "    color='black'\n",
        ")\n",
        "\n",
        "# Axis labels and formatting\n",
        "ax.set_ylabel('Goal Scored', fontsize=12)\n",
        "ax.set_xlabel('Shot Angle (degrees)', fontsize=12)\n",
        "ax.set_yticks([0, 1])\n",
        "ax.set_yticklabels(['No', 'Yes'])\n",
        "plt.ylim(-0.05, 1.05)\n",
        "ax.set_title('Goal Outcome vs. Shot Angle (First 200 Shots)', fontsize=14)\n",
        "plt.grid(True, linestyle='--', alpha=0.4)\n",
        "plt.tight_layout()\n",
        "plt.show()"
      ],
      "metadata": {
        "id": "2CSegOj947e1"
      },
      "id": "2CSegOj947e1",
      "execution_count": null,
      "outputs": []
    },
    {
      "cell_type": "code",
      "source": [
        "# Step 1: Get all available competitions\n",
        "competitions_df = parser.competition()\n",
        "\n",
        "# Step 2: Prepare storage\n",
        "all_shots = []\n",
        "\n",
        "# Step 3: Define your desired shot fields\n",
        "shot_fields = [\n",
        "    'id',\n",
        "    'team_id',\n",
        "    'team_name',\n",
        "    'shot_key_pass_id',\n",
        "    'x',\n",
        "    'y',\n",
        "    'end_x',\n",
        "    'end_y',\n",
        "    'end_z',\n",
        "    'aerial_won',\n",
        "    'shot_first_time',\n",
        "    'shot_statsbomb_xg',\n",
        "    'block_deflection',\n",
        "    'technique_id',\n",
        "    'technique_name',\n",
        "    'body_part_id',\n",
        "    'body_part_name',\n",
        "    'sub_type_id',\n",
        "    'sub_type_name',\n",
        "    'outcome_id',\n",
        "    'outcome_name'\n",
        "]\n",
        "\n",
        "# Step 4: Loop through competitions and matches\n",
        "for _, comp_row in competitions_df.iterrows():\n",
        "    comp_id = comp_row['competition_id']\n",
        "    season_id = comp_row['season_id']\n",
        "\n",
        "    try:\n",
        "        matches_df = parser.match(competition_id=comp_id, season_id=season_id)\n",
        "    except Exception as e:\n",
        "        print(f\"Skipping competition {comp_id}-{season_id} due to error: {e}\")\n",
        "        continue\n",
        "\n",
        "    for match_id in matches_df['match_id']:\n",
        "        try:\n",
        "            df_event, df_related, df_freeze, df_tactics = parser.event(match_id)\n",
        "            df_shots = df_event[df_event['type_name'] == 'Shot']\n",
        "\n",
        "            for col in shot_fields:\n",
        "                if col not in df_shots.columns:\n",
        "                    df_shots[col] = None\n",
        "\n",
        "            df_shots_clean = df_shots[shot_fields].copy()\n",
        "            df_shots_clean['match_id'] = match_id\n",
        "            df_shots_clean['competition_id'] = comp_id\n",
        "            df_shots_clean['season_id'] = season_id\n",
        "\n",
        "            all_shots.append(df_shots_clean)\n",
        "\n",
        "        except Exception as e:\n",
        "            print(f\"Error processing match {match_id}: {e}\")\n",
        "            continue\n",
        "\n",
        "\n",
        "shots_master_df = pd.concat(all_shots, ignore_index=True)"
      ],
      "metadata": {
        "id": "pmZ1m7a949Db"
      },
      "id": "pmZ1m7a949Db",
      "execution_count": null,
      "outputs": []
    },
    {
      "cell_type": "code",
      "source": [
        "from sklearn.linear_model import LogisticRegression\n",
        "from sklearn.model_selection import train_test_split\n",
        "from sklearn.metrics import classification_report, roc_auc_score\n",
        "import numpy as np"
      ],
      "metadata": {
        "id": "ZsXTsPqg5ELN"
      },
      "id": "ZsXTsPqg5ELN",
      "execution_count": null,
      "outputs": []
    },
    {
      "cell_type": "code",
      "source": [
        "X = shots_master_women_world_cup_df[['angle_to_goal_deg', 'distance_to_goal', 'x', 'y']]\n",
        "\n",
        "\n",
        "    #'body_part_id',\n",
        "    #'body_part_name',\n",
        "    #'shot_key_pass_id',\n",
        "    #'x',\n",
        "    #'y',\n",
        "    #'end_x',\n",
        "    #'end_y',\n",
        "    #'end_z',\n",
        "    #'aerial_won',\n",
        "    #'shot_first_time',\n",
        "    #'shot_statsbomb_xg',\n",
        "    #'block_deflection',\n",
        "    #'technique_id',\n",
        "    #'technique_name',\n",
        "    #'body_part_id',\n",
        "    #'body_part_name',\n",
        "    #'sub_type_id',\n",
        "    #'sub_type_name',\n",
        "\n",
        "y = shots_master_women_world_cup_df['goal']"
      ],
      "metadata": {
        "id": "5vSs1HAa5HJb"
      },
      "id": "5vSs1HAa5HJb",
      "execution_count": null,
      "outputs": []
    },
    {
      "cell_type": "code",
      "source": [
        "X_train, X_test, y_train, y_test = train_test_split(X, y, test_size=0.2, random_state=42)"
      ],
      "metadata": {
        "id": "FbqllA_Z5Isy"
      },
      "id": "FbqllA_Z5Isy",
      "execution_count": null,
      "outputs": []
    },
    {
      "cell_type": "code",
      "source": [
        "model = LogisticRegression()\n",
        "model.fit(X_train, y_train)"
      ],
      "metadata": {
        "id": "DnMA6rhr5Io9"
      },
      "id": "DnMA6rhr5Io9",
      "execution_count": null,
      "outputs": []
    },
    {
      "cell_type": "code",
      "source": [
        "y_pred = model.predict(X_test)\n",
        "y_prob = model.predict_proba(X_test)[:, 1]  # probabilities\n",
        "\n",
        "print(classification_report(y_test, y_pred))\n",
        "print(\"ROC AUC:\", roc_auc_score(y_test, y_prob))"
      ],
      "metadata": {
        "id": "9E4J40JU5NE8"
      },
      "id": "9E4J40JU5NE8",
      "execution_count": null,
      "outputs": []
    },
    {
      "cell_type": "code",
      "source": [
        "from sklearn.metrics import roc_curve, auc\n",
        "import matplotlib.pyplot as plt\n",
        "\n",
        "# Probability of class = 1 (goal)\n",
        "y_probs = model.predict_proba(X)[:, 1]\n",
        "\n",
        "fpr, tpr, thresholds = roc_curve(y, y_probs)\n",
        "roc_auc = auc(fpr, tpr)\n",
        "\n",
        "plt.figure(figsize=(8, 6))\n",
        "plt.plot(fpr, tpr, color='darkorange', lw=2, label=f'ROC curve (AUC = {roc_auc:.2f})')\n",
        "plt.plot([0, 1], [0, 1], color='gray', lw=1, linestyle='--')  # Diagonal line\n",
        "plt.xlabel('False Positive Rate')\n",
        "plt.ylabel('True Positive Rate')\n",
        "plt.title('Receiver Operating Characteristic (ROC) Curve')\n",
        "plt.legend(loc=\"lower right\")\n",
        "plt.grid(True)\n",
        "plt.tight_layout()\n",
        "plt.show()"
      ],
      "metadata": {
        "id": "uHfu1TQ_5PHI"
      },
      "id": "uHfu1TQ_5PHI",
      "execution_count": null,
      "outputs": []
    },
    {
      "cell_type": "code",
      "source": [
        "import statsmodels.api as sm\n",
        "\n",
        "# Define your features and target\n",
        "X = shots_master_women_world_cup_df[['angle_to_goal', 'distance_to_goal']]\n",
        "y = shots_master_women_world_cup_df['goal']\n",
        "\n",
        "# Add intercept\n",
        "X_with_const = sm.add_constant(X)\n",
        "\n",
        "# Fit logistic regression\n",
        "model = sm.Logit(y, X_with_const)\n",
        "result = model.fit()\n",
        "\n",
        "# Calculate McFadden's R²\n",
        "ll_model = result.llf               # Log-likelihood of fitted model\n",
        "ll_null = result.llnull             # Log-likelihood of null model\n",
        "\n",
        "mcfadden_r2 = 1 - (ll_model / ll_null)\n",
        "print(f\"McFadden's R²: {mcfadden_r2:.4f}\")"
      ],
      "metadata": {
        "id": "nObd2LGM5R1w"
      },
      "id": "nObd2LGM5R1w",
      "execution_count": null,
      "outputs": []
    }
  ],
  "metadata": {
    "kernelspec": {
      "display_name": "Python 3",
      "language": "python",
      "name": "python3"
    },
    "language_info": {
      "codemirror_mode": {
        "name": "ipython",
        "version": 2
      },
      "file_extension": ".py",
      "mimetype": "text/x-python",
      "name": "python",
      "nbconvert_exporter": "python",
      "pygments_lexer": "ipython2",
      "version": "2.7.6"
    },
    "colab": {
      "provenance": [],
      "include_colab_link": true
    }
  },
  "nbformat": 4,
  "nbformat_minor": 5
}