{
  "cells": [
    {
      "cell_type": "markdown",
      "metadata": {
        "id": "view-in-github",
        "colab_type": "text"
      },
      "source": [
        "<a href=\"https://colab.research.google.com/github/hannesstuehrenberg/Probabilistic-Machine-Learning_lecture-PROJECTS/blob/main/projects/08-1SHXXXX_football_analytics/notebooks/03_data_preprocessing.ipynb\" target=\"_parent\"><img src=\"https://colab.research.google.com/assets/colab-badge.svg\" alt=\"Open In Colab\"/></a>"
      ]
    },
    {
      "metadata": {
        "id": "70f490b0659245e6"
      },
      "cell_type": "markdown",
      "source": [
        "## 3. Data Preprocessing\n",
        "- Steps taken to clean or transform the data\n"
      ],
      "id": "70f490b0659245e6"
    },
    {
      "cell_type": "code",
      "source": [
        "!pip install mplsoccer"
      ],
      "metadata": {
        "colab": {
          "base_uri": "https://localhost:8080/"
        },
        "id": "yIVViV9H6Dfa",
        "outputId": "f3ec090a-7557-4788-a656-97ea3b3108f0"
      },
      "id": "yIVViV9H6Dfa",
      "execution_count": 1,
      "outputs": [
        {
          "output_type": "stream",
          "name": "stdout",
          "text": [
            "Collecting mplsoccer\n",
            "  Downloading mplsoccer-1.5.0-py3-none-any.whl.metadata (4.8 kB)\n",
            "Requirement already satisfied: matplotlib>=3.6 in /usr/local/lib/python3.11/dist-packages (from mplsoccer) (3.10.0)\n",
            "Requirement already satisfied: numpy in /usr/local/lib/python3.11/dist-packages (from mplsoccer) (2.0.2)\n",
            "Requirement already satisfied: pandas in /usr/local/lib/python3.11/dist-packages (from mplsoccer) (2.2.2)\n",
            "Requirement already satisfied: pillow in /usr/local/lib/python3.11/dist-packages (from mplsoccer) (11.2.1)\n",
            "Requirement already satisfied: requests in /usr/local/lib/python3.11/dist-packages (from mplsoccer) (2.32.3)\n",
            "Requirement already satisfied: scipy in /usr/local/lib/python3.11/dist-packages (from mplsoccer) (1.15.3)\n",
            "Requirement already satisfied: seaborn in /usr/local/lib/python3.11/dist-packages (from mplsoccer) (0.13.2)\n",
            "Requirement already satisfied: contourpy>=1.0.1 in /usr/local/lib/python3.11/dist-packages (from matplotlib>=3.6->mplsoccer) (1.3.2)\n",
            "Requirement already satisfied: cycler>=0.10 in /usr/local/lib/python3.11/dist-packages (from matplotlib>=3.6->mplsoccer) (0.12.1)\n",
            "Requirement already satisfied: fonttools>=4.22.0 in /usr/local/lib/python3.11/dist-packages (from matplotlib>=3.6->mplsoccer) (4.58.4)\n",
            "Requirement already satisfied: kiwisolver>=1.3.1 in /usr/local/lib/python3.11/dist-packages (from matplotlib>=3.6->mplsoccer) (1.4.8)\n",
            "Requirement already satisfied: packaging>=20.0 in /usr/local/lib/python3.11/dist-packages (from matplotlib>=3.6->mplsoccer) (24.2)\n",
            "Requirement already satisfied: pyparsing>=2.3.1 in /usr/local/lib/python3.11/dist-packages (from matplotlib>=3.6->mplsoccer) (3.2.3)\n",
            "Requirement already satisfied: python-dateutil>=2.7 in /usr/local/lib/python3.11/dist-packages (from matplotlib>=3.6->mplsoccer) (2.9.0.post0)\n",
            "Requirement already satisfied: pytz>=2020.1 in /usr/local/lib/python3.11/dist-packages (from pandas->mplsoccer) (2025.2)\n",
            "Requirement already satisfied: tzdata>=2022.7 in /usr/local/lib/python3.11/dist-packages (from pandas->mplsoccer) (2025.2)\n",
            "Requirement already satisfied: charset-normalizer<4,>=2 in /usr/local/lib/python3.11/dist-packages (from requests->mplsoccer) (3.4.2)\n",
            "Requirement already satisfied: idna<4,>=2.5 in /usr/local/lib/python3.11/dist-packages (from requests->mplsoccer) (3.10)\n",
            "Requirement already satisfied: urllib3<3,>=1.21.1 in /usr/local/lib/python3.11/dist-packages (from requests->mplsoccer) (2.4.0)\n",
            "Requirement already satisfied: certifi>=2017.4.17 in /usr/local/lib/python3.11/dist-packages (from requests->mplsoccer) (2025.6.15)\n",
            "Requirement already satisfied: six>=1.5 in /usr/local/lib/python3.11/dist-packages (from python-dateutil>=2.7->matplotlib>=3.6->mplsoccer) (1.17.0)\n",
            "Downloading mplsoccer-1.5.0-py3-none-any.whl (86 kB)\n",
            "\u001b[2K   \u001b[90m━━━━━━━━━━━━━━━━━━━━━━━━━━━━━━━━━━━━━━━━\u001b[0m \u001b[32m86.2/86.2 kB\u001b[0m \u001b[31m2.3 MB/s\u001b[0m eta \u001b[36m0:00:00\u001b[0m\n",
            "\u001b[?25hInstalling collected packages: mplsoccer\n",
            "Successfully installed mplsoccer-1.5.0\n"
          ]
        }
      ]
    },
    {
      "cell_type": "code",
      "source": [
        "#Import necessary libraries\n",
        "import pandas as pd\n",
        "import numpy as np\n",
        "import json\n",
        "import matplotlib.pyplot as plt\n",
        "import seaborn as sns\n",
        "from mplsoccer import VerticalPitch\n",
        "from mplsoccer import Sbopen\n",
        "from tqdm import tqdm\n",
        "\n",
        "#Ignore warnings\n",
        "import warnings\n",
        "warnings.filterwarnings('ignore')\n",
        "\n",
        "#Initialize parser\n",
        "parser = Sbopen()"
      ],
      "metadata": {
        "id": "gE4F1LaY5te4"
      },
      "id": "gE4F1LaY5te4",
      "execution_count": 8,
      "outputs": []
    },
    {
      "cell_type": "code",
      "source": [
        "matches_df = parser.match(competition_id=72, season_id=107)\n",
        "match_ids = matches_df['match_id'].tolist()\n",
        "\n",
        "all_shots = []\n",
        "\n",
        "for match_id in match_ids:\n",
        "    df_event, df_related, df_freeze, df_tactics = parser.event(match_id)\n",
        "\n",
        "    df_shots = df_event[df_event['type_name'] == 'Shot'].copy()\n",
        "\n",
        "    df_shots['match_id'] = match_id\n",
        "\n",
        "    all_shots.append(df_shots)\n",
        "\n",
        "shots_master_women_world_cup_df = pd.concat(all_shots, ignore_index=True)"
      ],
      "metadata": {
        "colab": {
          "base_uri": "https://localhost:8080/",
          "height": 362
        },
        "id": "je0c5Ejv65vp",
        "outputId": "d85e5f89-dc84-4be4-a0f5-9af4df15adc9"
      },
      "id": "je0c5Ejv65vp",
      "execution_count": 9,
      "outputs": [
        {
          "output_type": "error",
          "ename": "KeyboardInterrupt",
          "evalue": "",
          "traceback": [
            "\u001b[0;31m---------------------------------------------------------------------------\u001b[0m",
            "\u001b[0;31mKeyboardInterrupt\u001b[0m                         Traceback (most recent call last)",
            "\u001b[0;32m/tmp/ipython-input-9-1369465730.py\u001b[0m in \u001b[0;36m<cell line: 0>\u001b[0;34m()\u001b[0m\n\u001b[1;32m      5\u001b[0m \u001b[0;34m\u001b[0m\u001b[0m\n\u001b[1;32m      6\u001b[0m \u001b[0;32mfor\u001b[0m \u001b[0mmatch_id\u001b[0m \u001b[0;32min\u001b[0m \u001b[0mmatch_ids\u001b[0m\u001b[0;34m:\u001b[0m\u001b[0;34m\u001b[0m\u001b[0;34m\u001b[0m\u001b[0m\n\u001b[0;32m----> 7\u001b[0;31m     \u001b[0mdf_event\u001b[0m\u001b[0;34m,\u001b[0m \u001b[0mdf_related\u001b[0m\u001b[0;34m,\u001b[0m \u001b[0mdf_freeze\u001b[0m\u001b[0;34m,\u001b[0m \u001b[0mdf_tactics\u001b[0m \u001b[0;34m=\u001b[0m \u001b[0mparser\u001b[0m\u001b[0;34m.\u001b[0m\u001b[0mevent\u001b[0m\u001b[0;34m(\u001b[0m\u001b[0mmatch_id\u001b[0m\u001b[0;34m)\u001b[0m\u001b[0;34m\u001b[0m\u001b[0;34m\u001b[0m\u001b[0m\n\u001b[0m\u001b[1;32m      8\u001b[0m \u001b[0;34m\u001b[0m\u001b[0m\n\u001b[1;32m      9\u001b[0m     \u001b[0mdf_shots\u001b[0m \u001b[0;34m=\u001b[0m \u001b[0mdf_event\u001b[0m\u001b[0;34m[\u001b[0m\u001b[0mdf_event\u001b[0m\u001b[0;34m[\u001b[0m\u001b[0;34m'type_name'\u001b[0m\u001b[0;34m]\u001b[0m \u001b[0;34m==\u001b[0m \u001b[0;34m'Shot'\u001b[0m\u001b[0;34m]\u001b[0m\u001b[0;34m.\u001b[0m\u001b[0mcopy\u001b[0m\u001b[0;34m(\u001b[0m\u001b[0;34m)\u001b[0m\u001b[0;34m\u001b[0m\u001b[0;34m\u001b[0m\u001b[0m\n",
            "\u001b[0;32m/usr/local/lib/python3.11/dist-packages/mplsoccer/statsbomb.py\u001b[0m in \u001b[0;36mevent\u001b[0;34m(self, match_id)\u001b[0m\n\u001b[1;32m     62\u001b[0m         \"\"\"\n\u001b[1;32m     63\u001b[0m         \u001b[0murl\u001b[0m \u001b[0;34m=\u001b[0m \u001b[0;34mf'{self.url}events/{match_id}.json'\u001b[0m\u001b[0;34m\u001b[0m\u001b[0;34m\u001b[0m\u001b[0m\n\u001b[0;32m---> 64\u001b[0;31m         \u001b[0mdata\u001b[0m \u001b[0;34m=\u001b[0m \u001b[0mself\u001b[0m\u001b[0;34m.\u001b[0m\u001b[0m_get_data\u001b[0m\u001b[0;34m(\u001b[0m\u001b[0murl\u001b[0m\u001b[0;34m)\u001b[0m\u001b[0;34m\u001b[0m\u001b[0;34m\u001b[0m\u001b[0m\n\u001b[0m\u001b[1;32m     65\u001b[0m         \u001b[0;32mreturn\u001b[0m \u001b[0mflatten_event\u001b[0m\u001b[0;34m(\u001b[0m\u001b[0mdata\u001b[0m\u001b[0;34m,\u001b[0m \u001b[0mmatch_id\u001b[0m\u001b[0;34m,\u001b[0m \u001b[0mself\u001b[0m\u001b[0;34m.\u001b[0m\u001b[0mdataframe\u001b[0m\u001b[0;34m)\u001b[0m\u001b[0;34m\u001b[0m\u001b[0;34m\u001b[0m\u001b[0m\n\u001b[1;32m     66\u001b[0m \u001b[0;34m\u001b[0m\u001b[0m\n",
            "\u001b[0;32m/usr/local/lib/python3.11/dist-packages/mplsoccer/statsbomb.py\u001b[0m in \u001b[0;36m_get_data\u001b[0;34m(url)\u001b[0m\n\u001b[1;32m     39\u001b[0m             \u001b[0mFor\u001b[0m \u001b[0mthe\u001b[0m \u001b[0mStatsBomb\u001b[0m \u001b[0mdata\u001b[0m \u001b[0mthis\u001b[0m \u001b[0;32mis\u001b[0m \u001b[0mtypically\u001b[0m \u001b[0ma\u001b[0m \u001b[0mlist\u001b[0m \u001b[0mof\u001b[0m \u001b[0mdictionaries\u001b[0m\u001b[0;34m.\u001b[0m\u001b[0;34m\u001b[0m\u001b[0;34m\u001b[0m\u001b[0m\n\u001b[1;32m     40\u001b[0m         \"\"\"\n\u001b[0;32m---> 41\u001b[0;31m         \u001b[0mresp\u001b[0m \u001b[0;34m=\u001b[0m \u001b[0mrequests\u001b[0m\u001b[0;34m.\u001b[0m\u001b[0mget\u001b[0m\u001b[0;34m(\u001b[0m\u001b[0murl\u001b[0m\u001b[0;34m=\u001b[0m\u001b[0murl\u001b[0m\u001b[0;34m)\u001b[0m\u001b[0;34m\u001b[0m\u001b[0;34m\u001b[0m\u001b[0m\n\u001b[0m\u001b[1;32m     42\u001b[0m         \u001b[0mresp\u001b[0m\u001b[0;34m.\u001b[0m\u001b[0mraise_for_status\u001b[0m\u001b[0;34m(\u001b[0m\u001b[0;34m)\u001b[0m\u001b[0;34m\u001b[0m\u001b[0;34m\u001b[0m\u001b[0m\n\u001b[1;32m     43\u001b[0m         \u001b[0;32mreturn\u001b[0m \u001b[0mresp\u001b[0m\u001b[0;34m.\u001b[0m\u001b[0mjson\u001b[0m\u001b[0;34m(\u001b[0m\u001b[0;34m)\u001b[0m\u001b[0;34m\u001b[0m\u001b[0;34m\u001b[0m\u001b[0m\n",
            "\u001b[0;32m/usr/local/lib/python3.11/dist-packages/requests/api.py\u001b[0m in \u001b[0;36mget\u001b[0;34m(url, params, **kwargs)\u001b[0m\n\u001b[1;32m     71\u001b[0m     \"\"\"\n\u001b[1;32m     72\u001b[0m \u001b[0;34m\u001b[0m\u001b[0m\n\u001b[0;32m---> 73\u001b[0;31m     \u001b[0;32mreturn\u001b[0m \u001b[0mrequest\u001b[0m\u001b[0;34m(\u001b[0m\u001b[0;34m\"get\"\u001b[0m\u001b[0;34m,\u001b[0m \u001b[0murl\u001b[0m\u001b[0;34m,\u001b[0m \u001b[0mparams\u001b[0m\u001b[0;34m=\u001b[0m\u001b[0mparams\u001b[0m\u001b[0;34m,\u001b[0m \u001b[0;34m**\u001b[0m\u001b[0mkwargs\u001b[0m\u001b[0;34m)\u001b[0m\u001b[0;34m\u001b[0m\u001b[0;34m\u001b[0m\u001b[0m\n\u001b[0m\u001b[1;32m     74\u001b[0m \u001b[0;34m\u001b[0m\u001b[0m\n\u001b[1;32m     75\u001b[0m \u001b[0;34m\u001b[0m\u001b[0m\n",
            "\u001b[0;32m/usr/local/lib/python3.11/dist-packages/requests/api.py\u001b[0m in \u001b[0;36mrequest\u001b[0;34m(method, url, **kwargs)\u001b[0m\n\u001b[1;32m     57\u001b[0m     \u001b[0;31m# cases, and look like a memory leak in others.\u001b[0m\u001b[0;34m\u001b[0m\u001b[0;34m\u001b[0m\u001b[0m\n\u001b[1;32m     58\u001b[0m     \u001b[0;32mwith\u001b[0m \u001b[0msessions\u001b[0m\u001b[0;34m.\u001b[0m\u001b[0mSession\u001b[0m\u001b[0;34m(\u001b[0m\u001b[0;34m)\u001b[0m \u001b[0;32mas\u001b[0m \u001b[0msession\u001b[0m\u001b[0;34m:\u001b[0m\u001b[0;34m\u001b[0m\u001b[0;34m\u001b[0m\u001b[0m\n\u001b[0;32m---> 59\u001b[0;31m         \u001b[0;32mreturn\u001b[0m \u001b[0msession\u001b[0m\u001b[0;34m.\u001b[0m\u001b[0mrequest\u001b[0m\u001b[0;34m(\u001b[0m\u001b[0mmethod\u001b[0m\u001b[0;34m=\u001b[0m\u001b[0mmethod\u001b[0m\u001b[0;34m,\u001b[0m \u001b[0murl\u001b[0m\u001b[0;34m=\u001b[0m\u001b[0murl\u001b[0m\u001b[0;34m,\u001b[0m \u001b[0;34m**\u001b[0m\u001b[0mkwargs\u001b[0m\u001b[0;34m)\u001b[0m\u001b[0;34m\u001b[0m\u001b[0;34m\u001b[0m\u001b[0m\n\u001b[0m\u001b[1;32m     60\u001b[0m \u001b[0;34m\u001b[0m\u001b[0m\n\u001b[1;32m     61\u001b[0m \u001b[0;34m\u001b[0m\u001b[0m\n",
            "\u001b[0;32m/usr/local/lib/python3.11/dist-packages/requests/sessions.py\u001b[0m in \u001b[0;36mrequest\u001b[0;34m(self, method, url, params, data, headers, cookies, files, auth, timeout, allow_redirects, proxies, hooks, stream, verify, cert, json)\u001b[0m\n\u001b[1;32m    587\u001b[0m         }\n\u001b[1;32m    588\u001b[0m         \u001b[0msend_kwargs\u001b[0m\u001b[0;34m.\u001b[0m\u001b[0mupdate\u001b[0m\u001b[0;34m(\u001b[0m\u001b[0msettings\u001b[0m\u001b[0;34m)\u001b[0m\u001b[0;34m\u001b[0m\u001b[0;34m\u001b[0m\u001b[0m\n\u001b[0;32m--> 589\u001b[0;31m         \u001b[0mresp\u001b[0m \u001b[0;34m=\u001b[0m \u001b[0mself\u001b[0m\u001b[0;34m.\u001b[0m\u001b[0msend\u001b[0m\u001b[0;34m(\u001b[0m\u001b[0mprep\u001b[0m\u001b[0;34m,\u001b[0m \u001b[0;34m**\u001b[0m\u001b[0msend_kwargs\u001b[0m\u001b[0;34m)\u001b[0m\u001b[0;34m\u001b[0m\u001b[0;34m\u001b[0m\u001b[0m\n\u001b[0m\u001b[1;32m    590\u001b[0m \u001b[0;34m\u001b[0m\u001b[0m\n\u001b[1;32m    591\u001b[0m         \u001b[0;32mreturn\u001b[0m \u001b[0mresp\u001b[0m\u001b[0;34m\u001b[0m\u001b[0;34m\u001b[0m\u001b[0m\n",
            "\u001b[0;32m/usr/local/lib/python3.11/dist-packages/requests/sessions.py\u001b[0m in \u001b[0;36msend\u001b[0;34m(self, request, **kwargs)\u001b[0m\n\u001b[1;32m    744\u001b[0m \u001b[0;34m\u001b[0m\u001b[0m\n\u001b[1;32m    745\u001b[0m         \u001b[0;32mif\u001b[0m \u001b[0;32mnot\u001b[0m \u001b[0mstream\u001b[0m\u001b[0;34m:\u001b[0m\u001b[0;34m\u001b[0m\u001b[0;34m\u001b[0m\u001b[0m\n\u001b[0;32m--> 746\u001b[0;31m             \u001b[0mr\u001b[0m\u001b[0;34m.\u001b[0m\u001b[0mcontent\u001b[0m\u001b[0;34m\u001b[0m\u001b[0;34m\u001b[0m\u001b[0m\n\u001b[0m\u001b[1;32m    747\u001b[0m \u001b[0;34m\u001b[0m\u001b[0m\n\u001b[1;32m    748\u001b[0m         \u001b[0;32mreturn\u001b[0m \u001b[0mr\u001b[0m\u001b[0;34m\u001b[0m\u001b[0;34m\u001b[0m\u001b[0m\n",
            "\u001b[0;32m/usr/local/lib/python3.11/dist-packages/requests/models.py\u001b[0m in \u001b[0;36mcontent\u001b[0;34m(self)\u001b[0m\n\u001b[1;32m    900\u001b[0m                 \u001b[0mself\u001b[0m\u001b[0;34m.\u001b[0m\u001b[0m_content\u001b[0m \u001b[0;34m=\u001b[0m \u001b[0;32mNone\u001b[0m\u001b[0;34m\u001b[0m\u001b[0;34m\u001b[0m\u001b[0m\n\u001b[1;32m    901\u001b[0m             \u001b[0;32melse\u001b[0m\u001b[0;34m:\u001b[0m\u001b[0;34m\u001b[0m\u001b[0;34m\u001b[0m\u001b[0m\n\u001b[0;32m--> 902\u001b[0;31m                 \u001b[0mself\u001b[0m\u001b[0;34m.\u001b[0m\u001b[0m_content\u001b[0m \u001b[0;34m=\u001b[0m \u001b[0;34mb\"\"\u001b[0m\u001b[0;34m.\u001b[0m\u001b[0mjoin\u001b[0m\u001b[0;34m(\u001b[0m\u001b[0mself\u001b[0m\u001b[0;34m.\u001b[0m\u001b[0miter_content\u001b[0m\u001b[0;34m(\u001b[0m\u001b[0mCONTENT_CHUNK_SIZE\u001b[0m\u001b[0;34m)\u001b[0m\u001b[0;34m)\u001b[0m \u001b[0;32mor\u001b[0m \u001b[0;34mb\"\"\u001b[0m\u001b[0;34m\u001b[0m\u001b[0;34m\u001b[0m\u001b[0m\n\u001b[0m\u001b[1;32m    903\u001b[0m \u001b[0;34m\u001b[0m\u001b[0m\n\u001b[1;32m    904\u001b[0m         \u001b[0mself\u001b[0m\u001b[0;34m.\u001b[0m\u001b[0m_content_consumed\u001b[0m \u001b[0;34m=\u001b[0m \u001b[0;32mTrue\u001b[0m\u001b[0;34m\u001b[0m\u001b[0;34m\u001b[0m\u001b[0m\n",
            "\u001b[0;32m/usr/local/lib/python3.11/dist-packages/requests/models.py\u001b[0m in \u001b[0;36mgenerate\u001b[0;34m()\u001b[0m\n\u001b[1;32m    818\u001b[0m             \u001b[0;32mif\u001b[0m \u001b[0mhasattr\u001b[0m\u001b[0;34m(\u001b[0m\u001b[0mself\u001b[0m\u001b[0;34m.\u001b[0m\u001b[0mraw\u001b[0m\u001b[0;34m,\u001b[0m \u001b[0;34m\"stream\"\u001b[0m\u001b[0;34m)\u001b[0m\u001b[0;34m:\u001b[0m\u001b[0;34m\u001b[0m\u001b[0;34m\u001b[0m\u001b[0m\n\u001b[1;32m    819\u001b[0m                 \u001b[0;32mtry\u001b[0m\u001b[0;34m:\u001b[0m\u001b[0;34m\u001b[0m\u001b[0;34m\u001b[0m\u001b[0m\n\u001b[0;32m--> 820\u001b[0;31m                     \u001b[0;32myield\u001b[0m \u001b[0;32mfrom\u001b[0m \u001b[0mself\u001b[0m\u001b[0;34m.\u001b[0m\u001b[0mraw\u001b[0m\u001b[0;34m.\u001b[0m\u001b[0mstream\u001b[0m\u001b[0;34m(\u001b[0m\u001b[0mchunk_size\u001b[0m\u001b[0;34m,\u001b[0m \u001b[0mdecode_content\u001b[0m\u001b[0;34m=\u001b[0m\u001b[0;32mTrue\u001b[0m\u001b[0;34m)\u001b[0m\u001b[0;34m\u001b[0m\u001b[0;34m\u001b[0m\u001b[0m\n\u001b[0m\u001b[1;32m    821\u001b[0m                 \u001b[0;32mexcept\u001b[0m \u001b[0mProtocolError\u001b[0m \u001b[0;32mas\u001b[0m \u001b[0me\u001b[0m\u001b[0;34m:\u001b[0m\u001b[0;34m\u001b[0m\u001b[0;34m\u001b[0m\u001b[0m\n\u001b[1;32m    822\u001b[0m                     \u001b[0;32mraise\u001b[0m \u001b[0mChunkedEncodingError\u001b[0m\u001b[0;34m(\u001b[0m\u001b[0me\u001b[0m\u001b[0;34m)\u001b[0m\u001b[0;34m\u001b[0m\u001b[0;34m\u001b[0m\u001b[0m\n",
            "\u001b[0;32m/usr/local/lib/python3.11/dist-packages/urllib3/response.py\u001b[0m in \u001b[0;36mstream\u001b[0;34m(self, amt, decode_content)\u001b[0m\n\u001b[1;32m   1064\u001b[0m         \u001b[0;32melse\u001b[0m\u001b[0;34m:\u001b[0m\u001b[0;34m\u001b[0m\u001b[0;34m\u001b[0m\u001b[0m\n\u001b[1;32m   1065\u001b[0m             \u001b[0;32mwhile\u001b[0m \u001b[0;32mnot\u001b[0m \u001b[0mis_fp_closed\u001b[0m\u001b[0;34m(\u001b[0m\u001b[0mself\u001b[0m\u001b[0;34m.\u001b[0m\u001b[0m_fp\u001b[0m\u001b[0;34m)\u001b[0m \u001b[0;32mor\u001b[0m \u001b[0mlen\u001b[0m\u001b[0;34m(\u001b[0m\u001b[0mself\u001b[0m\u001b[0;34m.\u001b[0m\u001b[0m_decoded_buffer\u001b[0m\u001b[0;34m)\u001b[0m \u001b[0;34m>\u001b[0m \u001b[0;36m0\u001b[0m\u001b[0;34m:\u001b[0m\u001b[0;34m\u001b[0m\u001b[0;34m\u001b[0m\u001b[0m\n\u001b[0;32m-> 1066\u001b[0;31m                 \u001b[0mdata\u001b[0m \u001b[0;34m=\u001b[0m \u001b[0mself\u001b[0m\u001b[0;34m.\u001b[0m\u001b[0mread\u001b[0m\u001b[0;34m(\u001b[0m\u001b[0mamt\u001b[0m\u001b[0;34m=\u001b[0m\u001b[0mamt\u001b[0m\u001b[0;34m,\u001b[0m \u001b[0mdecode_content\u001b[0m\u001b[0;34m=\u001b[0m\u001b[0mdecode_content\u001b[0m\u001b[0;34m)\u001b[0m\u001b[0;34m\u001b[0m\u001b[0;34m\u001b[0m\u001b[0m\n\u001b[0m\u001b[1;32m   1067\u001b[0m \u001b[0;34m\u001b[0m\u001b[0m\n\u001b[1;32m   1068\u001b[0m                 \u001b[0;32mif\u001b[0m \u001b[0mdata\u001b[0m\u001b[0;34m:\u001b[0m\u001b[0;34m\u001b[0m\u001b[0;34m\u001b[0m\u001b[0m\n",
            "\u001b[0;32m/usr/local/lib/python3.11/dist-packages/urllib3/response.py\u001b[0m in \u001b[0;36mread\u001b[0;34m(self, amt, decode_content, cache_content)\u001b[0m\n\u001b[1;32m    974\u001b[0m                 \u001b[0;32mreturn\u001b[0m \u001b[0mdata\u001b[0m\u001b[0;34m\u001b[0m\u001b[0;34m\u001b[0m\u001b[0m\n\u001b[1;32m    975\u001b[0m \u001b[0;34m\u001b[0m\u001b[0m\n\u001b[0;32m--> 976\u001b[0;31m             \u001b[0mdecoded_data\u001b[0m \u001b[0;34m=\u001b[0m \u001b[0mself\u001b[0m\u001b[0;34m.\u001b[0m\u001b[0m_decode\u001b[0m\u001b[0;34m(\u001b[0m\u001b[0mdata\u001b[0m\u001b[0;34m,\u001b[0m \u001b[0mdecode_content\u001b[0m\u001b[0;34m,\u001b[0m \u001b[0mflush_decoder\u001b[0m\u001b[0;34m)\u001b[0m\u001b[0;34m\u001b[0m\u001b[0;34m\u001b[0m\u001b[0m\n\u001b[0m\u001b[1;32m    977\u001b[0m             \u001b[0mself\u001b[0m\u001b[0;34m.\u001b[0m\u001b[0m_decoded_buffer\u001b[0m\u001b[0;34m.\u001b[0m\u001b[0mput\u001b[0m\u001b[0;34m(\u001b[0m\u001b[0mdecoded_data\u001b[0m\u001b[0;34m)\u001b[0m\u001b[0;34m\u001b[0m\u001b[0;34m\u001b[0m\u001b[0m\n\u001b[1;32m    978\u001b[0m \u001b[0;34m\u001b[0m\u001b[0m\n",
            "\u001b[0;32m/usr/local/lib/python3.11/dist-packages/urllib3/response.py\u001b[0m in \u001b[0;36m_decode\u001b[0;34m(self, data, decode_content, flush_decoder)\u001b[0m\n\u001b[1;32m    483\u001b[0m         \u001b[0;32mtry\u001b[0m\u001b[0;34m:\u001b[0m\u001b[0;34m\u001b[0m\u001b[0;34m\u001b[0m\u001b[0m\n\u001b[1;32m    484\u001b[0m             \u001b[0;32mif\u001b[0m \u001b[0mself\u001b[0m\u001b[0;34m.\u001b[0m\u001b[0m_decoder\u001b[0m\u001b[0;34m:\u001b[0m\u001b[0;34m\u001b[0m\u001b[0;34m\u001b[0m\u001b[0m\n\u001b[0;32m--> 485\u001b[0;31m                 \u001b[0mdata\u001b[0m \u001b[0;34m=\u001b[0m \u001b[0mself\u001b[0m\u001b[0;34m.\u001b[0m\u001b[0m_decoder\u001b[0m\u001b[0;34m.\u001b[0m\u001b[0mdecompress\u001b[0m\u001b[0;34m(\u001b[0m\u001b[0mdata\u001b[0m\u001b[0;34m)\u001b[0m\u001b[0;34m\u001b[0m\u001b[0;34m\u001b[0m\u001b[0m\n\u001b[0m\u001b[1;32m    486\u001b[0m                 \u001b[0mself\u001b[0m\u001b[0;34m.\u001b[0m\u001b[0m_has_decoded_content\u001b[0m \u001b[0;34m=\u001b[0m \u001b[0;32mTrue\u001b[0m\u001b[0;34m\u001b[0m\u001b[0;34m\u001b[0m\u001b[0m\n\u001b[1;32m    487\u001b[0m         \u001b[0;32mexcept\u001b[0m \u001b[0mself\u001b[0m\u001b[0;34m.\u001b[0m\u001b[0mDECODER_ERROR_CLASSES\u001b[0m \u001b[0;32mas\u001b[0m \u001b[0me\u001b[0m\u001b[0;34m:\u001b[0m\u001b[0;34m\u001b[0m\u001b[0;34m\u001b[0m\u001b[0m\n",
            "\u001b[0;32m/usr/local/lib/python3.11/dist-packages/urllib3/response.py\u001b[0m in \u001b[0;36mdecompress\u001b[0;34m(self, data)\u001b[0m\n\u001b[1;32m    126\u001b[0m         \u001b[0;32mwhile\u001b[0m \u001b[0;32mTrue\u001b[0m\u001b[0;34m:\u001b[0m\u001b[0;34m\u001b[0m\u001b[0;34m\u001b[0m\u001b[0m\n\u001b[1;32m    127\u001b[0m             \u001b[0;32mtry\u001b[0m\u001b[0;34m:\u001b[0m\u001b[0;34m\u001b[0m\u001b[0;34m\u001b[0m\u001b[0m\n\u001b[0;32m--> 128\u001b[0;31m                 \u001b[0mret\u001b[0m \u001b[0;34m+=\u001b[0m \u001b[0mself\u001b[0m\u001b[0;34m.\u001b[0m\u001b[0m_obj\u001b[0m\u001b[0;34m.\u001b[0m\u001b[0mdecompress\u001b[0m\u001b[0;34m(\u001b[0m\u001b[0mdata\u001b[0m\u001b[0;34m)\u001b[0m\u001b[0;34m\u001b[0m\u001b[0;34m\u001b[0m\u001b[0m\n\u001b[0m\u001b[1;32m    129\u001b[0m             \u001b[0;32mexcept\u001b[0m \u001b[0mzlib\u001b[0m\u001b[0;34m.\u001b[0m\u001b[0merror\u001b[0m\u001b[0;34m:\u001b[0m\u001b[0;34m\u001b[0m\u001b[0;34m\u001b[0m\u001b[0m\n\u001b[1;32m    130\u001b[0m                 \u001b[0mprevious_state\u001b[0m \u001b[0;34m=\u001b[0m \u001b[0mself\u001b[0m\u001b[0;34m.\u001b[0m\u001b[0m_state\u001b[0m\u001b[0;34m\u001b[0m\u001b[0;34m\u001b[0m\u001b[0m\n",
            "\u001b[0;31mKeyboardInterrupt\u001b[0m: "
          ]
        }
      ]
    },
    {
      "cell_type": "code",
      "source": [
        "#Lets look at the example dataset from the Women's World Cup 2023 again. It consisted of 1680 shots. 184 of them were goals.\n",
        "num_goals = shots_master_women_world_cup_df[shots_master_women_world_cup_df['outcome_name'] == 'Goal'].shape[0]\n",
        "print(f\"Number of goals: {num_goals}\")\n"
      ],
      "metadata": {
        "colab": {
          "base_uri": "https://localhost:8080/"
        },
        "id": "FEnIWMvw6Wj-",
        "outputId": "238e29ae-ad43-477e-95bd-ee04ef2c1ae3"
      },
      "id": "FEnIWMvw6Wj-",
      "execution_count": 7,
      "outputs": [
        {
          "output_type": "stream",
          "name": "stdout",
          "text": [
            "Number of goals: 184\n"
          ]
        }
      ]
    },
    {
      "cell_type": "code",
      "source": [
        "#As many more competitions are available the next step is to create a shots_master_df for all shots from all competitions to enrich the dataset on which to train the models later.\n",
        "\n",
        "#During data loading and exploration these columns were discovered to always be NaN for type_name = Shot. Therefore, they are not of interest for the shots_master_df\n",
        "irrelevant_columns = [\n",
        "    'tactics_formation', 'pass_recipient_id', 'pass_recipient_name', 'pass_length',\n",
        "    'pass_angle', 'pass_height_id', 'pass_height_name', 'counterpress', 'pass_switch',\n",
        "    'block_deflection', 'pass_cross', 'pass_assisted_shot_id', 'pass_shot_assist',\n",
        "    'goalkeeper_position_id', 'goalkeeper_position_name', 'foul_committed_card_id',\n",
        "    'foul_committed_card_name', 'ball_recovery_recovery_failure', 'foul_committed_advantage',\n",
        "    'foul_won_advantage', 'foul_won_defensive', 'dribble_nutmeg', 'pass_goal_assist',\n",
        "    'substitution_replacement_id', 'substitution_replacement_name', 'bad_behaviour_card_id',\n",
        "    'bad_behaviour_card_name', 'pass_cut_back', 'dribble_overrun', 'ball_recovery_offensive',\n",
        "    'pass_no_touch', 'pass_deflected', 'foul_committed_penalty', 'foul_won_penalty',\n",
        "    'injury_stoppage_in_chain', 'foul_committed_offensive', 'block_offensive',\n",
        "    'pass_miscommunication', 'block_save_block', 'dribble_no_touch', 'player_off_permanent'\n",
        "]\n",
        "\n",
        "all_shots = []\n",
        "\n",
        "df_competitions = parser.competition()\n",
        "\n",
        "# Add mininterval or miniters to slow down tqdm output\n",
        "for _, row in tqdm(df_competitions.iterrows(), total=len(df_competitions), desc=\"Competitions\", mininterval=2.0):\n",
        "    comp_id = row['competition_id']\n",
        "    season_id = row['season_id']\n",
        "    comp_name = row['competition_name']\n",
        "    season_name = row['season_name']\n",
        "\n",
        "    tqdm.write(f\"\\n🔄 Processing {comp_name} - {season_name}...\")\n",
        "\n",
        "    try:\n",
        "        matches_df = parser.match(competition_id=comp_id, season_id=season_id)\n",
        "        match_ids = matches_df['match_id'].tolist()\n",
        "\n",
        "        for match_id in tqdm(\n",
        "            match_ids,\n",
        "            desc=f\"  Matches in {comp_name[:15]} {season_name}\",\n",
        "            leave=False,\n",
        "            mininterval=20,\n",
        "        ):\n",
        "            try:\n",
        "                df_event, df_related, df_freeze, df_tactics = parser.event(match_id)\n",
        "                df_shots = df_event[df_event['type_name'] == 'Shot'].copy()\n",
        "                df_shots['match_id'] = match_id\n",
        "                all_shots.append(df_shots)\n",
        "            except Exception as e:\n",
        "                print(f\"     ❌ Error in match_id {match_id}: {e}\")\n",
        "\n",
        "    except Exception as e:\n",
        "        print(f\"❌ Could not fetch matches for {comp_name} - {season_name}: {e}\")\n",
        "\n",
        "shots_master_df = pd.concat(all_shots, ignore_index=True)\n",
        "shots_master_df = shots_master_df.drop(columns=[col for col in irrelevant_columns if col in shots_master_df.columns])\n",
        "\n",
        "print(\"\\n✅ All done!\")\n",
        "print(\"📊 Final shape of shots_master_df:\", shots_master_df.shape)\n"
      ],
      "metadata": {
        "colab": {
          "base_uri": "https://localhost:8080/"
        },
        "id": "cm4_CQyb7fOa",
        "outputId": "614543aa-bfc1-459a-b7be-15c6b6d8ab1a"
      },
      "id": "cm4_CQyb7fOa",
      "execution_count": 12,
      "outputs": [
        {
          "output_type": "stream",
          "name": "stderr",
          "text": [
            "Competitions:   0%|          | 0/74 [00:00<?, ?it/s]"
          ]
        },
        {
          "output_type": "stream",
          "name": "stdout",
          "text": [
            "\n",
            "🔄 Processing 1. Bundesliga - 2023/2024...\n"
          ]
        },
        {
          "output_type": "stream",
          "name": "stderr",
          "text": [
            "\n",
            "  Matches in 1. Bundesliga 2023/2024:   0%|          | 0/34 [00:00<?, ?it/s]\u001b[A\n",
            "  Matches in 1. Bundesliga 2023/2024:  94%|█████████▍| 32/34 [00:20<00:01,  1.57it/s]\u001b[A\n",
            "Competitions:   1%|▏         | 1/74 [00:22<26:59, 22.19s/it]"
          ]
        },
        {
          "output_type": "stream",
          "name": "stdout",
          "text": [
            "\n",
            "🔄 Processing 1. Bundesliga - 2015/2016...\n"
          ]
        },
        {
          "output_type": "stream",
          "name": "stderr",
          "text": [
            "\n",
            "  Matches in 1. Bundesliga 2015/2016:   0%|          | 0/306 [00:00<?, ?it/s]\u001b[A\n",
            "  Matches in 1. Bundesliga 2015/2016:  12%|█▏        | 38/306 [00:20<02:23,  1.86it/s]\u001b[A\n",
            "  Matches in 1. Bundesliga 2015/2016:  12%|█▏        | 38/306 [00:40<02:23,  1.86it/s]\u001b[A\n",
            "  Matches in 1. Bundesliga 2015/2016:  24%|██▍       | 73/306 [00:40<02:09,  1.79it/s]\u001b[A\n",
            "  Matches in 1. Bundesliga 2015/2016:  24%|██▍       | 73/306 [00:50<02:09,  1.79it/s]\u001b[A\n",
            "  Matches in 1. Bundesliga 2015/2016:  37%|███▋      | 113/306 [01:00<01:43,  1.87it/s]\u001b[A\n",
            "  Matches in 1. Bundesliga 2015/2016:  37%|███▋      | 113/306 [01:20<01:43,  1.87it/s]\u001b[A\n",
            "  Matches in 1. Bundesliga 2015/2016:  50%|█████     | 154/306 [01:21<01:19,  1.91it/s]\u001b[A\n",
            "  Matches in 1. Bundesliga 2015/2016:  50%|█████     | 154/306 [01:40<01:19,  1.91it/s]\u001b[A\n",
            "  Matches in 1. Bundesliga 2015/2016:  59%|█████▉    | 182/306 [01:41<01:11,  1.72it/s]\u001b[A\n",
            "  Matches in 1. Bundesliga 2015/2016:  59%|█████▉    | 182/306 [02:00<01:11,  1.72it/s]\u001b[A\n",
            "  Matches in 1. Bundesliga 2015/2016:  68%|██████▊   | 208/306 [02:01<01:02,  1.58it/s]\u001b[A\n",
            "  Matches in 1. Bundesliga 2015/2016:  68%|██████▊   | 208/306 [02:20<01:02,  1.58it/s]\u001b[A\n",
            "  Matches in 1. Bundesliga 2015/2016:  76%|███████▋  | 234/306 [02:22<00:48,  1.48it/s]\u001b[A\n",
            "  Matches in 1. Bundesliga 2015/2016:  76%|███████▋  | 234/306 [02:40<00:48,  1.48it/s]\u001b[A\n",
            "  Matches in 1. Bundesliga 2015/2016:  86%|████████▌ | 262/306 [02:42<00:30,  1.44it/s]\u001b[A\n",
            "  Matches in 1. Bundesliga 2015/2016:  86%|████████▌ | 262/306 [03:00<00:30,  1.44it/s]\u001b[A\n",
            "  Matches in 1. Bundesliga 2015/2016:  95%|█████████▍| 290/306 [03:02<00:11,  1.43it/s]\u001b[A\n",
            "Competitions:   3%|▎         | 2/74 [03:36<2:27:54, 123.26s/it]"
          ]
        },
        {
          "output_type": "stream",
          "name": "stdout",
          "text": [
            "\n",
            "🔄 Processing African Cup of Nations - 2023...\n"
          ]
        },
        {
          "output_type": "stream",
          "name": "stderr",
          "text": [
            "\n",
            "  Matches in African Cup of  2023:   0%|          | 0/52 [00:00<?, ?it/s]\u001b[A\n",
            "  Matches in African Cup of  2023:  54%|█████▍    | 28/52 [00:20<00:17,  1.38it/s]\u001b[A\n",
            "Competitions:   4%|▍         | 3/74 [04:13<1:39:14, 83.86s/it]"
          ]
        },
        {
          "output_type": "stream",
          "name": "stdout",
          "text": [
            "\n",
            "🔄 Processing Champions League - 2018/2019...\n"
          ]
        },
        {
          "output_type": "stream",
          "name": "stderr",
          "text": [
            "\n",
            "  Matches in Champions Leagu 2018/2019:   0%|          | 0/1 [00:00<?, ?it/s]\u001b[A\n",
            "Competitions:   4%|▍         | 3/74 [04:14<1:39:14, 83.86s/it]"
          ]
        },
        {
          "output_type": "stream",
          "name": "stdout",
          "text": [
            "\n",
            "🔄 Processing Champions League - 2017/2018...\n"
          ]
        },
        {
          "output_type": "stream",
          "name": "stderr",
          "text": [
            "\n",
            "  Matches in Champions Leagu 2017/2018:   0%|          | 0/1 [00:00<?, ?it/s]\u001b[A\n",
            "Competitions:   7%|▋         | 5/74 [04:15<42:33, 37.00s/it]"
          ]
        },
        {
          "output_type": "stream",
          "name": "stdout",
          "text": [
            "\n",
            "🔄 Processing Champions League - 2016/2017...\n"
          ]
        },
        {
          "output_type": "stream",
          "name": "stderr",
          "text": [
            "\n",
            "  Matches in Champions Leagu 2016/2017:   0%|          | 0/1 [00:00<?, ?it/s]\u001b[A\n",
            "Competitions:   7%|▋         | 5/74 [04:16<42:33, 37.00s/it]"
          ]
        },
        {
          "output_type": "stream",
          "name": "stdout",
          "text": [
            "\n",
            "🔄 Processing Champions League - 2015/2016...\n"
          ]
        },
        {
          "output_type": "stream",
          "name": "stderr",
          "text": [
            "\n",
            "  Matches in Champions Leagu 2015/2016:   0%|          | 0/1 [00:00<?, ?it/s]\u001b[A\n",
            "Competitions:   7%|▋         | 5/74 [04:17<42:33, 37.00s/it]"
          ]
        },
        {
          "output_type": "stream",
          "name": "stdout",
          "text": [
            "\n",
            "🔄 Processing Champions League - 2014/2015...\n"
          ]
        },
        {
          "output_type": "stream",
          "name": "stderr",
          "text": [
            "\n",
            "  Matches in Champions Leagu 2014/2015:   0%|          | 0/1 [00:00<?, ?it/s]\u001b[A\n",
            "Competitions:  11%|█         | 8/74 [04:18<18:56, 17.21s/it]"
          ]
        },
        {
          "output_type": "stream",
          "name": "stdout",
          "text": [
            "\n",
            "🔄 Processing Champions League - 2013/2014...\n"
          ]
        },
        {
          "output_type": "stream",
          "name": "stderr",
          "text": [
            "\n",
            "  Matches in Champions Leagu 2013/2014:   0%|          | 0/1 [00:00<?, ?it/s]\u001b[A\n",
            "Competitions:  11%|█         | 8/74 [04:18<18:56, 17.21s/it]"
          ]
        },
        {
          "output_type": "stream",
          "name": "stdout",
          "text": [
            "\n",
            "🔄 Processing Champions League - 2012/2013...\n"
          ]
        },
        {
          "output_type": "stream",
          "name": "stderr",
          "text": [
            "\n",
            "  Matches in Champions Leagu 2012/2013:   0%|          | 0/1 [00:00<?, ?it/s]\u001b[A\n",
            "Competitions:  11%|█         | 8/74 [04:19<18:56, 17.21s/it]"
          ]
        },
        {
          "output_type": "stream",
          "name": "stdout",
          "text": [
            "\n",
            "🔄 Processing Champions League - 2011/2012...\n"
          ]
        },
        {
          "output_type": "stream",
          "name": "stderr",
          "text": [
            "\n",
            "  Matches in Champions Leagu 2011/2012:   0%|          | 0/1 [00:00<?, ?it/s]\u001b[A\n",
            "Competitions:  15%|█▍        | 11/74 [04:20<10:31, 10.03s/it]"
          ]
        },
        {
          "output_type": "stream",
          "name": "stdout",
          "text": [
            "\n",
            "🔄 Processing Champions League - 2010/2011...\n"
          ]
        },
        {
          "output_type": "stream",
          "name": "stderr",
          "text": [
            "\n",
            "  Matches in Champions Leagu 2010/2011:   0%|          | 0/1 [00:00<?, ?it/s]\u001b[A\n",
            "Competitions:  15%|█▍        | 11/74 [04:21<10:31, 10.03s/it]"
          ]
        },
        {
          "output_type": "stream",
          "name": "stdout",
          "text": [
            "\n",
            "🔄 Processing Champions League - 2009/2010...\n"
          ]
        },
        {
          "output_type": "stream",
          "name": "stderr",
          "text": [
            "\n",
            "  Matches in Champions Leagu 2009/2010:   0%|          | 0/1 [00:00<?, ?it/s]\u001b[A\n",
            "Competitions:  15%|█▍        | 11/74 [04:22<10:31, 10.03s/it]"
          ]
        },
        {
          "output_type": "stream",
          "name": "stdout",
          "text": [
            "\n",
            "🔄 Processing Champions League - 2008/2009...\n"
          ]
        },
        {
          "output_type": "stream",
          "name": "stderr",
          "text": [
            "\n",
            "  Matches in Champions Leagu 2008/2009:   0%|          | 0/1 [00:00<?, ?it/s]\u001b[A\n",
            "Competitions:  19%|█▉        | 14/74 [04:23<06:30,  6.50s/it]"
          ]
        },
        {
          "output_type": "stream",
          "name": "stdout",
          "text": [
            "\n",
            "🔄 Processing Champions League - 2006/2007...\n"
          ]
        },
        {
          "output_type": "stream",
          "name": "stderr",
          "text": [
            "\n",
            "  Matches in Champions Leagu 2006/2007:   0%|          | 0/1 [00:00<?, ?it/s]\u001b[A\n",
            "Competitions:  19%|█▉        | 14/74 [04:24<06:30,  6.50s/it]"
          ]
        },
        {
          "output_type": "stream",
          "name": "stdout",
          "text": [
            "\n",
            "🔄 Processing Champions League - 2004/2005...\n"
          ]
        },
        {
          "output_type": "stream",
          "name": "stderr",
          "text": [
            "\n",
            "  Matches in Champions Leagu 2004/2005:   0%|          | 0/1 [00:00<?, ?it/s]\u001b[A\n",
            "Competitions:  19%|█▉        | 14/74 [04:25<06:30,  6.50s/it]"
          ]
        },
        {
          "output_type": "stream",
          "name": "stdout",
          "text": [
            "\n",
            "🔄 Processing Champions League - 2003/2004...\n"
          ]
        },
        {
          "output_type": "stream",
          "name": "stderr",
          "text": [
            "\n",
            "  Matches in Champions Leagu 2003/2004:   0%|          | 0/1 [00:00<?, ?it/s]\u001b[A\n",
            "Competitions:  23%|██▎       | 17/74 [04:26<04:18,  4.54s/it]"
          ]
        },
        {
          "output_type": "stream",
          "name": "stdout",
          "text": [
            "\n",
            "🔄 Processing Champions League - 1999/2000...\n"
          ]
        },
        {
          "output_type": "stream",
          "name": "stderr",
          "text": [
            "\n",
            "  Matches in Champions Leagu 1999/2000:   0%|          | 0/1 [00:00<?, ?it/s]\u001b[A\n",
            "Competitions:  23%|██▎       | 17/74 [04:27<04:18,  4.54s/it]"
          ]
        },
        {
          "output_type": "stream",
          "name": "stdout",
          "text": [
            "\n",
            "🔄 Processing Champions League - 1972/1973...\n"
          ]
        },
        {
          "output_type": "stream",
          "name": "stderr",
          "text": [
            "\n",
            "  Matches in Champions Leagu 1972/1973:   0%|          | 0/1 [00:00<?, ?it/s]\u001b[A\n",
            "Competitions:  23%|██▎       | 17/74 [04:28<04:18,  4.54s/it]"
          ]
        },
        {
          "output_type": "stream",
          "name": "stdout",
          "text": [
            "\n",
            "🔄 Processing Champions League - 1971/1972...\n"
          ]
        },
        {
          "output_type": "stream",
          "name": "stderr",
          "text": [
            "\n",
            "  Matches in Champions Leagu 1971/1972:   0%|          | 0/1 [00:00<?, ?it/s]\u001b[A\n",
            "Competitions:  27%|██▋       | 20/74 [04:29<02:59,  3.33s/it]"
          ]
        },
        {
          "output_type": "stream",
          "name": "stdout",
          "text": [
            "\n",
            "🔄 Processing Champions League - 1970/1971...\n"
          ]
        },
        {
          "output_type": "stream",
          "name": "stderr",
          "text": [
            "\n",
            "  Matches in Champions Leagu 1970/1971:   0%|          | 0/1 [00:00<?, ?it/s]\u001b[A\n",
            "Competitions:  27%|██▋       | 20/74 [04:29<02:59,  3.33s/it]"
          ]
        },
        {
          "output_type": "stream",
          "name": "stdout",
          "text": [
            "\n",
            "🔄 Processing Copa America - 2024...\n"
          ]
        },
        {
          "output_type": "stream",
          "name": "stderr",
          "text": [
            "\n",
            "Competitions:  27%|██▋       | 20/74 [04:43<02:59,  3.33s/it]\n",
            "  Matches in Copa America 2024:  94%|█████████▍| 30/32 [00:20<00:01,  1.46it/s]\u001b[A\n",
            "Competitions:  30%|██▉       | 22/74 [04:52<04:38,  5.35s/it]"
          ]
        },
        {
          "output_type": "stream",
          "name": "stdout",
          "text": [
            "\n",
            "🔄 Processing Copa del Rey - 1983/1984...\n"
          ]
        },
        {
          "output_type": "stream",
          "name": "stderr",
          "text": [
            "\n",
            "  Matches in Copa del Rey 1983/1984:   0%|          | 0/1 [00:00<?, ?it/s]\u001b[A\n",
            "Competitions:  30%|██▉       | 22/74 [04:53<04:38,  5.35s/it]"
          ]
        },
        {
          "output_type": "stream",
          "name": "stdout",
          "text": [
            "\n",
            "🔄 Processing Copa del Rey - 1982/1983...\n"
          ]
        },
        {
          "output_type": "stream",
          "name": "stderr",
          "text": [
            "\n",
            "  Matches in Copa del Rey 1982/1983:   0%|          | 0/1 [00:00<?, ?it/s]\u001b[A\n",
            "Competitions:  30%|██▉       | 22/74 [04:54<04:38,  5.35s/it]"
          ]
        },
        {
          "output_type": "stream",
          "name": "stdout",
          "text": [
            "\n",
            "🔄 Processing Copa del Rey - 1977/1978...\n"
          ]
        },
        {
          "output_type": "stream",
          "name": "stderr",
          "text": [
            "\n",
            "  Matches in Copa del Rey 1977/1978:   0%|          | 0/1 [00:00<?, ?it/s]\u001b[A\n",
            "Competitions:  34%|███▍      | 25/74 [04:54<03:06,  3.81s/it]"
          ]
        },
        {
          "output_type": "stream",
          "name": "stdout",
          "text": [
            "\n",
            "🔄 Processing FA Women's Super League - 2020/2021...\n"
          ]
        },
        {
          "output_type": "stream",
          "name": "stderr",
          "text": [
            "\n",
            "Competitions:  34%|███▍      | 25/74 [05:13<03:06,  3.81s/it]\n",
            "  Matches in FA Women's Supe 2020/2021:  21%|██▏       | 28/131 [00:20<01:14,  1.39it/s]\u001b[A\n",
            "  Matches in FA Women's Supe 2020/2021:  21%|██▏       | 28/131 [00:38<01:14,  1.39it/s]\u001b[A\n",
            "  Matches in FA Women's Supe 2020/2021:  44%|████▎     | 57/131 [00:40<00:52,  1.41it/s]\u001b[A\n",
            "  Matches in FA Women's Supe 2020/2021:  44%|████▎     | 57/131 [00:58<00:52,  1.41it/s]\u001b[A\n",
            "  Matches in FA Women's Supe 2020/2021:  65%|██████▍   | 85/131 [01:00<00:32,  1.40it/s]\u001b[A\n",
            "  Matches in FA Women's Supe 2020/2021:  65%|██████▍   | 85/131 [01:18<00:32,  1.40it/s]\u001b[A\n",
            "  Matches in FA Women's Supe 2020/2021:  86%|████████▋ | 113/131 [01:21<00:13,  1.38it/s]\u001b[A\n",
            "Competitions:  35%|███▌      | 26/74 [06:29<13:10, 16.47s/it]"
          ]
        },
        {
          "output_type": "stream",
          "name": "stdout",
          "text": [
            "\n",
            "🔄 Processing FA Women's Super League - 2019/2020...\n"
          ]
        },
        {
          "output_type": "stream",
          "name": "stderr",
          "text": [
            "\n",
            "  Matches in FA Women's Supe 2019/2020:   0%|          | 0/87 [00:00<?, ?it/s]\u001b[A\n",
            "  Matches in FA Women's Supe 2019/2020:  33%|███▎      | 29/87 [00:20<00:41,  1.39it/s]\u001b[A\n",
            "  Matches in FA Women's Supe 2019/2020:  33%|███▎      | 29/87 [00:34<00:41,  1.39it/s]\u001b[A\n",
            "  Matches in FA Women's Supe 2019/2020:  64%|██████▍   | 56/87 [00:40<00:22,  1.36it/s]\u001b[A\n",
            "  Matches in FA Women's Supe 2019/2020:  64%|██████▍   | 56/87 [00:54<00:22,  1.36it/s]\u001b[A\n",
            "  Matches in FA Women's Supe 2019/2020:  94%|█████████▍| 82/87 [01:01<00:03,  1.32it/s]\u001b[A\n",
            "Competitions:  36%|███▋      | 27/74 [07:34<19:14, 24.57s/it]"
          ]
        },
        {
          "output_type": "stream",
          "name": "stdout",
          "text": [
            "\n",
            "🔄 Processing FA Women's Super League - 2018/2019...\n"
          ]
        },
        {
          "output_type": "stream",
          "name": "stderr",
          "text": [
            "\n",
            "  Matches in FA Women's Supe 2018/2019:   0%|          | 0/108 [00:00<?, ?it/s]\u001b[A\n",
            "  Matches in FA Women's Supe 2018/2019:  25%|██▌       | 27/108 [00:20<01:01,  1.33it/s]\u001b[A\n",
            "  Matches in FA Women's Supe 2018/2019:  25%|██▌       | 27/108 [00:39<01:01,  1.33it/s]\u001b[A\n",
            "  Matches in FA Women's Supe 2018/2019:  52%|█████▏    | 56/108 [00:40<00:37,  1.39it/s]\u001b[A\n",
            "  Matches in FA Women's Supe 2018/2019:  52%|█████▏    | 56/108 [00:59<00:37,  1.39it/s]\u001b[A\n",
            "  Matches in FA Women's Supe 2018/2019:  80%|███████▉  | 86/108 [01:01<00:15,  1.41it/s]\u001b[A\n",
            "Competitions:  38%|███▊      | 28/74 [08:51<26:38, 34.74s/it]"
          ]
        },
        {
          "output_type": "stream",
          "name": "stdout",
          "text": [
            "\n",
            "🔄 Processing FIFA U20 World Cup - 1979...\n"
          ]
        },
        {
          "output_type": "stream",
          "name": "stderr",
          "text": [
            "\n",
            "  Matches in FIFA U20 World  1979:   0%|          | 0/1 [00:00<?, ?it/s]\u001b[A\n",
            "Competitions:  38%|███▊      | 28/74 [08:52<26:38, 34.74s/it]"
          ]
        },
        {
          "output_type": "stream",
          "name": "stdout",
          "text": [
            "\n",
            "🔄 Processing FIFA World Cup - 2022...\n"
          ]
        },
        {
          "output_type": "stream",
          "name": "stderr",
          "text": [
            "\n",
            "  Matches in FIFA World Cup 2022:   0%|          | 0/64 [00:00<?, ?it/s]\u001b[A\n",
            "  Matches in FIFA World Cup 2022:  41%|████      | 26/64 [00:20<00:29,  1.27it/s]\u001b[A\n",
            "  Matches in FIFA World Cup 2022:  41%|████      | 26/64 [00:30<00:29,  1.27it/s]\u001b[A\n",
            "  Matches in FIFA World Cup 2022:  83%|████████▎ | 53/64 [00:40<00:08,  1.32it/s]\u001b[A\n",
            "Competitions:  41%|████      | 30/74 [09:41<22:53, 31.22s/it]"
          ]
        },
        {
          "output_type": "stream",
          "name": "stdout",
          "text": [
            "\n",
            "🔄 Processing FIFA World Cup - 2018...\n"
          ]
        },
        {
          "output_type": "stream",
          "name": "stderr",
          "text": [
            "\n",
            "  Matches in FIFA World Cup 2018:   0%|          | 0/64 [00:00<?, ?it/s]\u001b[A\n",
            "  Matches in FIFA World Cup 2018:  44%|████▍     | 28/64 [00:20<00:26,  1.35it/s]\u001b[A\n",
            "  Matches in FIFA World Cup 2018:  44%|████▍     | 28/64 [00:32<00:26,  1.35it/s]\u001b[A\n",
            "  Matches in FIFA World Cup 2018:  88%|████████▊ | 56/64 [00:41<00:05,  1.36it/s]\u001b[A\n",
            "Competitions:  42%|████▏     | 31/74 [10:28<24:41, 34.46s/it]"
          ]
        },
        {
          "output_type": "stream",
          "name": "stdout",
          "text": [
            "\n",
            "🔄 Processing FIFA World Cup - 1990...\n"
          ]
        },
        {
          "output_type": "stream",
          "name": "stderr",
          "text": [
            "\n",
            "  Matches in FIFA World Cup 1990:   0%|          | 0/1 [00:00<?, ?it/s]\u001b[A\n",
            "Competitions:  42%|████▏     | 31/74 [10:29<24:41, 34.46s/it]"
          ]
        },
        {
          "output_type": "stream",
          "name": "stdout",
          "text": [
            "\n",
            "🔄 Processing FIFA World Cup - 1986...\n"
          ]
        },
        {
          "output_type": "stream",
          "name": "stderr",
          "text": [
            "\n",
            "  Matches in FIFA World Cup 1986:   0%|          | 0/3 [00:00<?, ?it/s]\u001b[A\n",
            "Competitions:  45%|████▍     | 33/74 [10:31<15:20, 22.45s/it]"
          ]
        },
        {
          "output_type": "stream",
          "name": "stdout",
          "text": [
            "\n",
            "🔄 Processing FIFA World Cup - 1974...\n"
          ]
        },
        {
          "output_type": "stream",
          "name": "stderr",
          "text": [
            "\n",
            "  Matches in FIFA World Cup 1974:   0%|          | 0/6 [00:00<?, ?it/s]\u001b[A\n",
            "Competitions:  45%|████▍     | 33/74 [10:36<15:20, 22.45s/it]"
          ]
        },
        {
          "output_type": "stream",
          "name": "stdout",
          "text": [
            "\n",
            "🔄 Processing FIFA World Cup - 1970...\n"
          ]
        },
        {
          "output_type": "stream",
          "name": "stderr",
          "text": [
            "\n",
            "  Matches in FIFA World Cup 1970:   0%|          | 0/6 [00:00<?, ?it/s]\u001b[A\n",
            "Competitions:  47%|████▋     | 35/74 [10:40<10:33, 16.25s/it]"
          ]
        },
        {
          "output_type": "stream",
          "name": "stdout",
          "text": [
            "\n",
            "🔄 Processing FIFA World Cup - 1962...\n"
          ]
        },
        {
          "output_type": "stream",
          "name": "stderr",
          "text": [
            "\n",
            "  Matches in FIFA World Cup 1962:   0%|          | 0/1 [00:00<?, ?it/s]\u001b[A\n",
            "Competitions:  47%|████▋     | 35/74 [10:41<10:33, 16.25s/it]"
          ]
        },
        {
          "output_type": "stream",
          "name": "stdout",
          "text": [
            "\n",
            "🔄 Processing FIFA World Cup - 1958...\n"
          ]
        },
        {
          "output_type": "stream",
          "name": "stderr",
          "text": [
            "\n",
            "  Matches in FIFA World Cup 1958:   0%|          | 0/2 [00:00<?, ?it/s]\u001b[A\n",
            "Competitions:  50%|█████     | 37/74 [10:43<07:01, 11.40s/it]"
          ]
        },
        {
          "output_type": "stream",
          "name": "stdout",
          "text": [
            "\n",
            "🔄 Processing Indian Super league - 2021/2022...\n"
          ]
        },
        {
          "output_type": "stream",
          "name": "stderr",
          "text": [
            "\n",
            "Competitions:  50%|█████     | 37/74 [10:53<07:01, 11.40s/it]\n",
            "  Matches in Indian Super le 2021/2022:  25%|██▌       | 29/115 [00:20<01:00,  1.43it/s]\u001b[A\n",
            "  Matches in Indian Super le 2021/2022:  25%|██▌       | 29/115 [00:39<01:00,  1.43it/s]\u001b[A\n",
            "  Matches in Indian Super le 2021/2022:  50%|████▉     | 57/115 [00:40<00:41,  1.41it/s]\u001b[A\n",
            "  Matches in Indian Super le 2021/2022:  50%|████▉     | 57/115 [00:59<00:41,  1.41it/s]\u001b[A\n",
            "  Matches in Indian Super le 2021/2022:  75%|███████▍  | 86/115 [01:00<00:20,  1.41it/s]\u001b[A\n",
            "  Matches in Indian Super le 2021/2022:  75%|███████▍  | 86/115 [01:19<00:20,  1.41it/s]\u001b[A\n",
            "Competitions:  51%|█████▏    | 38/74 [12:04<14:47, 24.65s/it]"
          ]
        },
        {
          "output_type": "stream",
          "name": "stdout",
          "text": [
            "\n",
            "🔄 Processing La Liga - 2020/2021...\n"
          ]
        },
        {
          "output_type": "stream",
          "name": "stderr",
          "text": [
            "\n",
            "  Matches in La Liga 2020/2021:   0%|          | 0/35 [00:00<?, ?it/s]\u001b[A\n",
            "  Matches in La Liga 2020/2021:  71%|███████▏  | 25/35 [00:20<00:08,  1.23it/s]\u001b[A\n",
            "Competitions:  53%|█████▎    | 39/74 [12:33<14:55, 25.59s/it]"
          ]
        },
        {
          "output_type": "stream",
          "name": "stdout",
          "text": [
            "\n",
            "🔄 Processing La Liga - 2019/2020...\n"
          ]
        },
        {
          "output_type": "stream",
          "name": "stderr",
          "text": [
            "\n",
            "  Matches in La Liga 2019/2020:   0%|          | 0/33 [00:00<?, ?it/s]\u001b[A\n",
            "  Matches in La Liga 2019/2020:  76%|███████▌  | 25/33 [00:20<00:06,  1.24it/s]\u001b[A\n",
            "Competitions:  54%|█████▍    | 40/74 [13:00<14:40, 25.91s/it]"
          ]
        },
        {
          "output_type": "stream",
          "name": "stdout",
          "text": [
            "\n",
            "🔄 Processing La Liga - 2018/2019...\n"
          ]
        },
        {
          "output_type": "stream",
          "name": "stderr",
          "text": [
            "\n",
            "  Matches in La Liga 2018/2019:   0%|          | 0/34 [00:00<?, ?it/s]\u001b[A\n",
            "  Matches in La Liga 2018/2019:  74%|███████▎  | 25/34 [00:20<00:07,  1.25it/s]\u001b[A\n",
            "Competitions:  55%|█████▌    | 41/74 [13:27<14:26, 26.26s/it]"
          ]
        },
        {
          "output_type": "stream",
          "name": "stdout",
          "text": [
            "\n",
            "🔄 Processing La Liga - 2017/2018...\n"
          ]
        },
        {
          "output_type": "stream",
          "name": "stderr",
          "text": [
            "\n",
            "  Matches in La Liga 2017/2018:   0%|          | 0/36 [00:00<?, ?it/s]\u001b[A\n",
            "  Matches in La Liga 2017/2018:  72%|███████▏  | 26/36 [00:20<00:07,  1.25it/s]\u001b[A\n",
            "Competitions:  57%|█████▋    | 42/74 [13:56<14:16, 26.78s/it]"
          ]
        },
        {
          "output_type": "stream",
          "name": "stdout",
          "text": [
            "\n",
            "🔄 Processing La Liga - 2016/2017...\n"
          ]
        },
        {
          "output_type": "stream",
          "name": "stderr",
          "text": [
            "\n",
            "  Matches in La Liga 2016/2017:   0%|          | 0/34 [00:00<?, ?it/s]\u001b[A\n",
            "  Matches in La Liga 2016/2017:  79%|███████▉  | 27/34 [00:20<00:05,  1.34it/s]\u001b[A\n",
            "Competitions:  58%|█████▊    | 43/74 [14:21<13:40, 26.48s/it]"
          ]
        },
        {
          "output_type": "stream",
          "name": "stdout",
          "text": [
            "\n",
            "🔄 Processing La Liga - 2015/2016...\n"
          ]
        },
        {
          "output_type": "stream",
          "name": "stderr",
          "text": [
            "\n",
            "  Matches in La Liga 2015/2016:   0%|          | 0/380 [00:00<?, ?it/s]\u001b[A\n",
            "  Matches in La Liga 2015/2016:   8%|▊         | 29/380 [00:20<04:03,  1.44it/s]\u001b[A\n",
            "  Matches in La Liga 2015/2016:   8%|▊         | 29/380 [00:31<04:03,  1.44it/s]\u001b[A\n",
            "  Matches in La Liga 2015/2016:  15%|█▌        | 57/380 [00:40<03:50,  1.40it/s]\u001b[A\n",
            "  Matches in La Liga 2015/2016:  15%|█▌        | 57/380 [00:51<03:50,  1.40it/s]\u001b[A\n",
            "  Matches in La Liga 2015/2016:  22%|██▏       | 85/380 [01:01<03:35,  1.37it/s]\u001b[A\n",
            "  Matches in La Liga 2015/2016:  22%|██▏       | 85/380 [01:11<03:35,  1.37it/s]\u001b[A\n",
            "  Matches in La Liga 2015/2016:  30%|██▉       | 113/380 [01:21<03:14,  1.37it/s]\u001b[A\n",
            "  Matches in La Liga 2015/2016:  30%|██▉       | 113/380 [01:31<03:14,  1.37it/s]\u001b[A\n",
            "  Matches in La Liga 2015/2016:  37%|███▋      | 141/380 [01:42<02:53,  1.37it/s]\u001b[A\n",
            "  Matches in La Liga 2015/2016:  37%|███▋      | 141/380 [02:01<02:53,  1.37it/s]\u001b[A\n",
            "  Matches in La Liga 2015/2016:  44%|████▍     | 169/380 [02:02<02:32,  1.38it/s]\u001b[A\n",
            "  Matches in La Liga 2015/2016:  44%|████▍     | 169/380 [02:22<02:32,  1.38it/s]\u001b[A\n",
            "  Matches in La Liga 2015/2016:  52%|█████▏    | 197/380 [02:22<02:12,  1.38it/s]\u001b[A\n",
            "  Matches in La Liga 2015/2016:  52%|█████▏    | 197/380 [02:42<02:12,  1.38it/s]\u001b[A\n",
            "  Matches in La Liga 2015/2016:  59%|█████▊    | 223/380 [02:42<01:55,  1.36it/s]\u001b[A\n",
            "  Matches in La Liga 2015/2016:  59%|█████▊    | 223/380 [03:02<01:55,  1.36it/s]\u001b[A\n",
            "  Matches in La Liga 2015/2016:  66%|██████▌   | 250/380 [03:02<01:36,  1.35it/s]\u001b[A\n",
            "  Matches in La Liga 2015/2016:  66%|██████▌   | 250/380 [03:22<01:36,  1.35it/s]\u001b[A\n",
            "  Matches in La Liga 2015/2016:  73%|███████▎  | 278/380 [03:23<01:15,  1.35it/s]\u001b[A\n",
            "  Matches in La Liga 2015/2016:  73%|███████▎  | 278/380 [03:42<01:15,  1.35it/s]\u001b[A\n",
            "  Matches in La Liga 2015/2016:  80%|████████  | 305/380 [03:43<00:55,  1.35it/s]\u001b[A\n",
            "  Matches in La Liga 2015/2016:  80%|████████  | 305/380 [04:02<00:55,  1.35it/s]\u001b[A\n",
            "  Matches in La Liga 2015/2016:  87%|████████▋ | 332/380 [04:03<00:35,  1.35it/s]\u001b[A\n",
            "  Matches in La Liga 2015/2016:  87%|████████▋ | 332/380 [04:22<00:35,  1.35it/s]\u001b[A\n",
            "  Matches in La Liga 2015/2016:  94%|█████████▍| 358/380 [04:24<00:16,  1.32it/s]\u001b[A\n",
            "Competitions:  59%|█████▉    | 44/74 [19:03<49:03, 98.11s/it]"
          ]
        },
        {
          "output_type": "stream",
          "name": "stdout",
          "text": [
            "\n",
            "🔄 Processing La Liga - 2014/2015...\n"
          ]
        },
        {
          "output_type": "stream",
          "name": "stderr",
          "text": [
            "\n",
            "  Matches in La Liga 2014/2015:   0%|          | 0/38 [00:00<?, ?it/s]\u001b[A\n",
            "  Matches in La Liga 2014/2015:  68%|██████▊   | 26/38 [00:20<00:09,  1.29it/s]\u001b[A\n",
            "Competitions:  61%|██████    | 45/74 [19:33<37:59, 78.61s/it]"
          ]
        },
        {
          "output_type": "stream",
          "name": "stdout",
          "text": [
            "\n",
            "🔄 Processing La Liga - 2013/2014...\n"
          ]
        },
        {
          "output_type": "stream",
          "name": "stderr",
          "text": [
            "\n",
            "  Matches in La Liga 2013/2014:   0%|          | 0/31 [00:00<?, ?it/s]\u001b[A\n",
            "  Matches in La Liga 2013/2014:  81%|████████  | 25/31 [00:20<00:04,  1.23it/s]\u001b[A\n",
            "Competitions:  62%|██████▏   | 46/74 [19:58<29:26, 63.10s/it]"
          ]
        },
        {
          "output_type": "stream",
          "name": "stdout",
          "text": [
            "\n",
            "🔄 Processing La Liga - 2012/2013...\n"
          ]
        },
        {
          "output_type": "stream",
          "name": "stderr",
          "text": [
            "\n",
            "  Matches in La Liga 2012/2013:   0%|          | 0/32 [00:00<?, ?it/s]\u001b[A\n",
            "  Matches in La Liga 2012/2013:  78%|███████▊  | 25/32 [00:20<00:05,  1.22it/s]\u001b[A\n",
            "Competitions:  64%|██████▎   | 47/74 [20:24<23:33, 52.34s/it]"
          ]
        },
        {
          "output_type": "stream",
          "name": "stdout",
          "text": [
            "\n",
            "🔄 Processing La Liga - 2011/2012...\n"
          ]
        },
        {
          "output_type": "stream",
          "name": "stderr",
          "text": [
            "\n",
            "  Matches in La Liga 2011/2012:   0%|          | 0/37 [00:00<?, ?it/s]\u001b[A\n",
            "  Matches in La Liga 2011/2012:  68%|██████▊   | 25/37 [00:20<00:09,  1.23it/s]\u001b[A\n",
            "Competitions:  65%|██████▍   | 48/74 [20:55<19:53, 45.89s/it]"
          ]
        },
        {
          "output_type": "stream",
          "name": "stdout",
          "text": [
            "\n",
            "🔄 Processing La Liga - 2010/2011...\n"
          ]
        },
        {
          "output_type": "stream",
          "name": "stderr",
          "text": [
            "\n",
            "  Matches in La Liga 2010/2011:   0%|          | 0/33 [00:00<?, ?it/s]\u001b[A\n",
            "  Matches in La Liga 2010/2011:  79%|███████▉  | 26/33 [00:20<00:05,  1.26it/s]\u001b[A\n",
            "Competitions:  66%|██████▌   | 49/74 [21:21<16:44, 40.17s/it]"
          ]
        },
        {
          "output_type": "stream",
          "name": "stdout",
          "text": [
            "\n",
            "🔄 Processing La Liga - 2009/2010...\n"
          ]
        },
        {
          "output_type": "stream",
          "name": "stderr",
          "text": [
            "\n",
            "  Matches in La Liga 2009/2010:   0%|          | 0/35 [00:00<?, ?it/s]\u001b[A\n",
            "  Matches in La Liga 2009/2010:  77%|███████▋  | 27/35 [00:20<00:05,  1.33it/s]\u001b[A\n",
            "Competitions:  68%|██████▊   | 50/74 [21:47<14:23, 35.98s/it]"
          ]
        },
        {
          "output_type": "stream",
          "name": "stdout",
          "text": [
            "\n",
            "🔄 Processing La Liga - 2008/2009...\n"
          ]
        },
        {
          "output_type": "stream",
          "name": "stderr",
          "text": [
            "\n",
            "  Matches in La Liga 2008/2009:   0%|          | 0/31 [00:00<?, ?it/s]\u001b[A\n",
            "  Matches in La Liga 2008/2009:  84%|████████▍ | 26/31 [00:20<00:03,  1.29it/s]\u001b[A\n",
            "Competitions:  69%|██████▉   | 51/74 [22:11<12:22, 32.28s/it]"
          ]
        },
        {
          "output_type": "stream",
          "name": "stdout",
          "text": [
            "\n",
            "🔄 Processing La Liga - 2007/2008...\n"
          ]
        },
        {
          "output_type": "stream",
          "name": "stderr",
          "text": [
            "\n",
            "  Matches in La Liga 2007/2008:   0%|          | 0/28 [00:00<?, ?it/s]\u001b[A\n",
            "  Matches in La Liga 2007/2008: 100%|██████████| 28/28 [00:20<00:00,  1.36it/s]\u001b[A\n",
            "Competitions:  70%|███████   | 52/74 [22:32<10:34, 28.85s/it]"
          ]
        },
        {
          "output_type": "stream",
          "name": "stdout",
          "text": [
            "\n",
            "🔄 Processing La Liga - 2006/2007...\n"
          ]
        },
        {
          "output_type": "stream",
          "name": "stderr",
          "text": [
            "\n",
            "  Matches in La Liga 2006/2007:   0%|          | 0/26 [00:00<?, ?it/s]\u001b[A\n",
            "Competitions:  72%|███████▏  | 53/74 [22:52<09:08, 26.12s/it]"
          ]
        },
        {
          "output_type": "stream",
          "name": "stdout",
          "text": [
            "\n",
            "🔄 Processing La Liga - 2005/2006...\n"
          ]
        },
        {
          "output_type": "stream",
          "name": "stderr",
          "text": [
            "\n",
            "  Matches in La Liga 2005/2006:   0%|          | 0/17 [00:00<?, ?it/s]\u001b[A\n",
            "Competitions:  73%|███████▎  | 54/74 [23:04<07:21, 22.06s/it]"
          ]
        },
        {
          "output_type": "stream",
          "name": "stdout",
          "text": [
            "\n",
            "🔄 Processing La Liga - 2004/2005...\n"
          ]
        },
        {
          "output_type": "stream",
          "name": "stderr",
          "text": [
            "\n",
            "  Matches in La Liga 2004/2005:   0%|          | 0/7 [00:00<?, ?it/s]\u001b[A\n",
            "Competitions:  74%|███████▍  | 55/74 [23:09<05:23, 17.01s/it]"
          ]
        },
        {
          "output_type": "stream",
          "name": "stdout",
          "text": [
            "\n",
            "🔄 Processing La Liga - 1973/1974...\n"
          ]
        },
        {
          "output_type": "stream",
          "name": "stderr",
          "text": [
            "\n",
            "  Matches in La Liga 1973/1974:   0%|          | 0/1 [00:00<?, ?it/s]\u001b[A\n",
            "Competitions:  74%|███████▍  | 55/74 [23:10<05:23, 17.01s/it]"
          ]
        },
        {
          "output_type": "stream",
          "name": "stdout",
          "text": [
            "\n",
            "🔄 Processing Liga Profesional - 1997/1998...\n"
          ]
        },
        {
          "output_type": "stream",
          "name": "stderr",
          "text": [
            "\n",
            "  Matches in Liga Profesiona 1997/1998:   0%|          | 0/1 [00:00<?, ?it/s]\u001b[A\n",
            "Competitions:  74%|███████▍  | 55/74 [23:11<05:23, 17.01s/it]"
          ]
        },
        {
          "output_type": "stream",
          "name": "stdout",
          "text": [
            "\n",
            "🔄 Processing Liga Profesional - 1981...\n"
          ]
        },
        {
          "output_type": "stream",
          "name": "stderr",
          "text": [
            "\n",
            "  Matches in Liga Profesiona 1981:   0%|          | 0/1 [00:00<?, ?it/s]\u001b[A\n",
            "Competitions:  78%|███████▊  | 58/74 [23:12<02:07,  7.94s/it]"
          ]
        },
        {
          "output_type": "stream",
          "name": "stdout",
          "text": [
            "\n",
            "🔄 Processing Ligue 1 - 2022/2023...\n"
          ]
        },
        {
          "output_type": "stream",
          "name": "stderr",
          "text": [
            "\n",
            "Competitions:  78%|███████▊  | 58/74 [23:24<02:07,  7.94s/it]\n",
            "  Matches in Ligue 1 2022/2023:  75%|███████▌  | 24/32 [00:20<00:06,  1.16it/s]\u001b[A\n",
            "Competitions:  80%|███████▉  | 59/74 [23:39<02:59, 11.99s/it]"
          ]
        },
        {
          "output_type": "stream",
          "name": "stdout",
          "text": [
            "\n",
            "🔄 Processing Ligue 1 - 2021/2022...\n"
          ]
        },
        {
          "output_type": "stream",
          "name": "stderr",
          "text": [
            "\n",
            "  Matches in Ligue 1 2021/2022:   0%|          | 0/26 [00:00<?, ?it/s]\u001b[A\n",
            "  Matches in Ligue 1 2021/2022:  92%|█████████▏| 24/26 [00:20<00:01,  1.18it/s]\u001b[A\n",
            "Competitions:  81%|████████  | 60/74 [24:01<03:20, 14.32s/it]"
          ]
        },
        {
          "output_type": "stream",
          "name": "stdout",
          "text": [
            "\n",
            "🔄 Processing Ligue 1 - 2015/2016...\n"
          ]
        },
        {
          "output_type": "stream",
          "name": "stderr",
          "text": [
            "\n",
            "  Matches in Ligue 1 2015/2016:   0%|          | 0/377 [00:00<?, ?it/s]\u001b[A\n",
            "  Matches in Ligue 1 2015/2016:   7%|▋         | 26/377 [00:20<04:37,  1.27it/s]\u001b[A\n",
            "  Matches in Ligue 1 2015/2016:   7%|▋         | 26/377 [00:33<04:37,  1.27it/s]\u001b[A\n",
            "  Matches in Ligue 1 2015/2016:  14%|█▍        | 53/377 [00:40<04:09,  1.30it/s]\u001b[A\n",
            "  Matches in Ligue 1 2015/2016:  14%|█▍        | 53/377 [00:53<04:09,  1.30it/s]\u001b[A\n",
            "  Matches in Ligue 1 2015/2016:  21%|██        | 79/377 [01:01<03:51,  1.28it/s]\u001b[A\n",
            "  Matches in Ligue 1 2015/2016:  21%|██        | 79/377 [01:13<03:51,  1.28it/s]\u001b[A\n",
            "  Matches in Ligue 1 2015/2016:  28%|██▊       | 105/377 [01:22<03:33,  1.28it/s]\u001b[A\n",
            "  Matches in Ligue 1 2015/2016:  28%|██▊       | 105/377 [01:33<03:33,  1.28it/s]\u001b[A\n",
            "  Matches in Ligue 1 2015/2016:  35%|███▍      | 131/377 [01:42<03:12,  1.28it/s]\u001b[A\n",
            "  Matches in Ligue 1 2015/2016:  35%|███▍      | 131/377 [01:53<03:12,  1.28it/s]\u001b[A\n",
            "  Matches in Ligue 1 2015/2016:  42%|████▏     | 157/377 [02:02<02:51,  1.28it/s]\u001b[A\n",
            "  Matches in Ligue 1 2015/2016:  42%|████▏     | 157/377 [02:13<02:51,  1.28it/s]\u001b[A\n",
            "  Matches in Ligue 1 2015/2016:  48%|████▊     | 182/377 [02:22<02:33,  1.27it/s]\u001b[A\n",
            "  Matches in Ligue 1 2015/2016:  48%|████▊     | 182/377 [02:33<02:33,  1.27it/s]\u001b[A\n",
            "  Matches in Ligue 1 2015/2016:  55%|█████▌    | 208/377 [02:43<02:12,  1.27it/s]\u001b[A\n",
            "  Matches in Ligue 1 2015/2016:  55%|█████▌    | 208/377 [02:53<02:12,  1.27it/s]\u001b[A\n",
            "  Matches in Ligue 1 2015/2016:  62%|██████▏   | 234/377 [03:03<01:51,  1.28it/s]\u001b[A\n",
            "  Matches in Ligue 1 2015/2016:  62%|██████▏   | 234/377 [03:13<01:51,  1.28it/s]\u001b[A\n",
            "  Matches in Ligue 1 2015/2016:  69%|██████▉   | 261/377 [03:23<01:30,  1.29it/s]\u001b[A\n",
            "  Matches in Ligue 1 2015/2016:  69%|██████▉   | 261/377 [03:33<01:30,  1.29it/s]\u001b[A\n",
            "  Matches in Ligue 1 2015/2016:  76%|███████▌  | 287/377 [03:44<01:10,  1.28it/s]\u001b[A\n",
            "  Matches in Ligue 1 2015/2016:  76%|███████▌  | 287/377 [04:03<01:10,  1.28it/s]\u001b[A\n",
            "  Matches in Ligue 1 2015/2016:  83%|████████▎ | 313/377 [04:04<00:49,  1.29it/s]\u001b[A\n",
            "  Matches in Ligue 1 2015/2016:  83%|████████▎ | 313/377 [04:24<00:49,  1.29it/s]\u001b[A\n",
            "  Matches in Ligue 1 2015/2016:  90%|████████▉ | 339/377 [04:25<00:29,  1.28it/s]\u001b[A\n",
            "  Matches in Ligue 1 2015/2016:  90%|████████▉ | 339/377 [04:44<00:29,  1.28it/s]\u001b[A\n",
            "  Matches in Ligue 1 2015/2016:  97%|█████████▋| 366/377 [04:45<00:08,  1.30it/s]\u001b[A\n",
            "Competitions:  82%|████████▏ | 61/74 [28:54<18:07, 83.68s/it]"
          ]
        },
        {
          "output_type": "stream",
          "name": "stdout",
          "text": [
            "\n",
            "🔄 Processing Major League Soccer - 2023...\n"
          ]
        },
        {
          "output_type": "stream",
          "name": "stderr",
          "text": [
            "\n",
            "  Matches in Major League So 2023:   0%|          | 0/6 [00:00<?, ?it/s]\u001b[A\n",
            "Competitions:  84%|████████▍ | 62/74 [28:59<12:36, 63.05s/it]"
          ]
        },
        {
          "output_type": "stream",
          "name": "stdout",
          "text": [
            "\n",
            "🔄 Processing North American League - 1977...\n"
          ]
        },
        {
          "output_type": "stream",
          "name": "stderr",
          "text": [
            "\n",
            "  Matches in North American  1977:   0%|          | 0/1 [00:00<?, ?it/s]\u001b[A\n",
            "Competitions:  84%|████████▍ | 62/74 [29:00<12:36, 63.05s/it]"
          ]
        },
        {
          "output_type": "stream",
          "name": "stdout",
          "text": [
            "\n",
            "🔄 Processing NWSL - 2018...\n"
          ]
        },
        {
          "output_type": "stream",
          "name": "stderr",
          "text": [
            "\n",
            "Competitions:  84%|████████▍ | 62/74 [29:16<12:36, 63.05s/it]\n",
            "  Matches in NWSL 2018:  83%|████████▎ | 30/36 [00:20<00:04,  1.46it/s]\u001b[A\n",
            "Competitions:  86%|████████▋ | 64/74 [29:25<06:56, 41.63s/it]"
          ]
        },
        {
          "output_type": "stream",
          "name": "stdout",
          "text": [
            "\n",
            "🔄 Processing Premier League - 2015/2016...\n"
          ]
        },
        {
          "output_type": "stream",
          "name": "stderr",
          "text": [
            "\n",
            "  Matches in Premier League 2015/2016:   0%|          | 0/380 [00:00<?, ?it/s]\u001b[A\n",
            "  Matches in Premier League 2015/2016:   7%|▋         | 28/380 [00:20<04:12,  1.39it/s]\u001b[A\n",
            "  Matches in Premier League 2015/2016:   7%|▋         | 28/380 [00:40<04:12,  1.39it/s]\u001b[A\n",
            "  Matches in Premier League 2015/2016:  15%|█▌        | 57/380 [00:40<03:49,  1.41it/s]\u001b[A\n",
            "  Matches in Premier League 2015/2016:  15%|█▌        | 57/380 [01:00<03:49,  1.41it/s]\u001b[A\n",
            "  Matches in Premier League 2015/2016:  22%|██▏       | 85/380 [01:01<03:34,  1.38it/s]\u001b[A\n",
            "  Matches in Premier League 2015/2016:  22%|██▏       | 85/380 [01:20<03:34,  1.38it/s]\u001b[A\n",
            "  Matches in Premier League 2015/2016:  29%|██▉       | 111/380 [01:21<03:20,  1.34it/s]\u001b[A\n",
            "  Matches in Premier League 2015/2016:  29%|██▉       | 111/380 [01:40<03:20,  1.34it/s]\u001b[A\n",
            "  Matches in Premier League 2015/2016:  37%|███▋      | 140/380 [01:42<02:56,  1.36it/s]\u001b[A\n",
            "  Matches in Premier League 2015/2016:  37%|███▋      | 140/380 [02:00<02:56,  1.36it/s]\u001b[A\n",
            "  Matches in Premier League 2015/2016:  44%|████▍     | 168/380 [02:02<02:34,  1.37it/s]\u001b[A\n",
            "  Matches in Premier League 2015/2016:  44%|████▍     | 168/380 [02:20<02:34,  1.37it/s]\u001b[A\n",
            "  Matches in Premier League 2015/2016:  51%|█████▏    | 195/380 [02:22<02:15,  1.36it/s]\u001b[A\n",
            "  Matches in Premier League 2015/2016:  51%|█████▏    | 195/380 [02:40<02:15,  1.36it/s]\u001b[A\n",
            "  Matches in Premier League 2015/2016:  59%|█████▊    | 223/380 [02:43<01:55,  1.36it/s]\u001b[A\n",
            "  Matches in Premier League 2015/2016:  59%|█████▊    | 223/380 [03:00<01:55,  1.36it/s]\u001b[A\n",
            "  Matches in Premier League 2015/2016:  66%|██████▌   | 250/380 [03:03<01:36,  1.35it/s]\u001b[A\n",
            "  Matches in Premier League 2015/2016:  66%|██████▌   | 250/380 [03:20<01:36,  1.35it/s]\u001b[A\n",
            "  Matches in Premier League 2015/2016:  73%|███████▎  | 277/380 [03:24<01:16,  1.34it/s]\u001b[A\n",
            "  Matches in Premier League 2015/2016:  73%|███████▎  | 277/380 [03:40<01:16,  1.34it/s]\u001b[A\n",
            "  Matches in Premier League 2015/2016:  80%|████████  | 305/380 [03:44<00:55,  1.35it/s]\u001b[A\n",
            "  Matches in Premier League 2015/2016:  80%|████████  | 305/380 [04:00<00:55,  1.35it/s]\u001b[A\n",
            "  Matches in Premier League 2015/2016:  87%|████████▋ | 331/380 [04:05<00:37,  1.32it/s]\u001b[A\n",
            "  Matches in Premier League 2015/2016:  87%|████████▋ | 331/380 [04:20<00:37,  1.32it/s]\u001b[A\n",
            "  Matches in Premier League 2015/2016:  94%|█████████▍| 358/380 [04:25<00:16,  1.32it/s]\u001b[A\n",
            "  Matches in Premier League 2015/2016:  94%|█████████▍| 358/380 [04:40<00:16,  1.32it/s]\u001b[A\n",
            "Competitions:  88%|████████▊ | 65/74 [34:07<14:41, 97.96s/it]"
          ]
        },
        {
          "output_type": "stream",
          "name": "stdout",
          "text": [
            "\n",
            "🔄 Processing Premier League - 2003/2004...\n"
          ]
        },
        {
          "output_type": "stream",
          "name": "stderr",
          "text": [
            "\n",
            "  Matches in Premier League 2003/2004:   0%|          | 0/38 [00:00<?, ?it/s]\u001b[A\n",
            "  Matches in Premier League 2003/2004:  74%|███████▎  | 28/38 [00:20<00:07,  1.37it/s]\u001b[A\n",
            "Competitions:  89%|████████▉ | 66/74 [34:35<10:41, 80.23s/it]"
          ]
        },
        {
          "output_type": "stream",
          "name": "stdout",
          "text": [
            "\n",
            "🔄 Processing Serie A - 2015/2016...\n"
          ]
        },
        {
          "output_type": "stream",
          "name": "stderr",
          "text": [
            "\n",
            "  Matches in Serie A 2015/2016:   0%|          | 0/380 [00:00<?, ?it/s]\u001b[A\n",
            "  Matches in Serie A 2015/2016:   7%|▋         | 27/380 [00:20<04:34,  1.29it/s]\u001b[A\n",
            "  Matches in Serie A 2015/2016:   7%|▋         | 27/380 [00:31<04:34,  1.29it/s]\u001b[A\n",
            "  Matches in Serie A 2015/2016:  14%|█▍        | 54/380 [00:41<04:08,  1.31it/s]\u001b[A\n",
            "  Matches in Serie A 2015/2016:  14%|█▍        | 54/380 [01:01<04:08,  1.31it/s]\u001b[A\n",
            "  Matches in Serie A 2015/2016:  22%|██▏       | 82/380 [01:01<03:43,  1.34it/s]\u001b[A\n",
            "  Matches in Serie A 2015/2016:  22%|██▏       | 82/380 [01:21<03:43,  1.34it/s]\u001b[A\n",
            "  Matches in Serie A 2015/2016:  29%|██▉       | 110/380 [01:22<03:19,  1.35it/s]\u001b[A\n",
            "  Matches in Serie A 2015/2016:  29%|██▉       | 110/380 [01:41<03:19,  1.35it/s]\u001b[A\n",
            "  Matches in Serie A 2015/2016:  36%|███▌      | 137/380 [01:42<03:00,  1.35it/s]\u001b[A\n",
            "  Matches in Serie A 2015/2016:  36%|███▌      | 137/380 [02:01<03:00,  1.35it/s]\u001b[A\n",
            "  Matches in Serie A 2015/2016:  43%|████▎     | 164/380 [02:02<02:41,  1.34it/s]\u001b[A\n",
            "  Matches in Serie A 2015/2016:  43%|████▎     | 164/380 [02:21<02:41,  1.34it/s]\u001b[A\n",
            "  Matches in Serie A 2015/2016:  50%|████▉     | 189/380 [02:23<02:27,  1.29it/s]\u001b[A\n",
            "  Matches in Serie A 2015/2016:  50%|████▉     | 189/380 [02:41<02:27,  1.29it/s]\u001b[A\n",
            "  Matches in Serie A 2015/2016:  56%|█████▋    | 214/380 [02:44<02:11,  1.26it/s]\u001b[A\n",
            "  Matches in Serie A 2015/2016:  56%|█████▋    | 214/380 [03:01<02:11,  1.26it/s]\u001b[A\n",
            "  Matches in Serie A 2015/2016:  63%|██████▎   | 239/380 [03:04<01:52,  1.25it/s]\u001b[A\n",
            "  Matches in Serie A 2015/2016:  63%|██████▎   | 239/380 [03:21<01:52,  1.25it/s]\u001b[A\n",
            "  Matches in Serie A 2015/2016:  69%|██████▉   | 263/380 [03:25<01:34,  1.23it/s]\u001b[A\n",
            "  Matches in Serie A 2015/2016:  69%|██████▉   | 263/380 [03:41<01:34,  1.23it/s]\u001b[A\n",
            "  Matches in Serie A 2015/2016:  76%|███████▌  | 288/380 [03:45<01:14,  1.23it/s]\u001b[A\n",
            "  Matches in Serie A 2015/2016:  76%|███████▌  | 288/380 [04:01<01:14,  1.23it/s]\u001b[A\n",
            "  Matches in Serie A 2015/2016:  83%|████████▎ | 314/380 [04:06<00:53,  1.24it/s]\u001b[A\n",
            "  Matches in Serie A 2015/2016:  83%|████████▎ | 314/380 [04:21<00:53,  1.24it/s]\u001b[A\n",
            "  Matches in Serie A 2015/2016:  89%|████████▉ | 339/380 [04:26<00:33,  1.23it/s]\u001b[A\n",
            "  Matches in Serie A 2015/2016:  89%|████████▉ | 339/380 [04:41<00:33,  1.23it/s]\u001b[A\n",
            "  Matches in Serie A 2015/2016:  96%|█████████▌| 363/380 [04:46<00:13,  1.22it/s]\u001b[A\n",
            "Competitions:  91%|█████████ | 67/74 [39:35<16:07, 138.18s/it]"
          ]
        },
        {
          "output_type": "stream",
          "name": "stdout",
          "text": [
            "\n",
            "🔄 Processing Serie A - 1986/1987...\n"
          ]
        },
        {
          "output_type": "stream",
          "name": "stderr",
          "text": [
            "\n",
            "  Matches in Serie A 1986/1987:   0%|          | 0/1 [00:00<?, ?it/s]\u001b[A\n",
            "Competitions:  91%|█████████ | 67/74 [39:36<16:07, 138.18s/it]"
          ]
        },
        {
          "output_type": "stream",
          "name": "stdout",
          "text": [
            "\n",
            "🔄 Processing UEFA Euro - 2024...\n"
          ]
        },
        {
          "output_type": "stream",
          "name": "stderr",
          "text": [
            "\n",
            "  Matches in UEFA Euro 2024:   0%|          | 0/51 [00:00<?, ?it/s]\u001b[A\n",
            "  Matches in UEFA Euro 2024:  53%|█████▎    | 27/51 [00:20<00:18,  1.32it/s]\u001b[A\n",
            "  Matches in UEFA Euro 2024:  53%|█████▎    | 27/51 [00:30<00:18,  1.32it/s]\u001b[A\n",
            "Competitions:  93%|█████████▎| 69/74 [40:15<07:16, 87.36s/it]"
          ]
        },
        {
          "output_type": "stream",
          "name": "stdout",
          "text": [
            "\n",
            "🔄 Processing UEFA Euro - 2020...\n"
          ]
        },
        {
          "output_type": "stream",
          "name": "stderr",
          "text": [
            "\n",
            "  Matches in UEFA Euro 2020:   0%|          | 0/51 [00:00<?, ?it/s]\u001b[A\n",
            "  Matches in UEFA Euro 2020:  51%|█████     | 26/51 [00:20<00:19,  1.28it/s]\u001b[A\n",
            "  Matches in UEFA Euro 2020:  51%|█████     | 26/51 [00:32<00:19,  1.28it/s]\u001b[A\n",
            "Competitions:  95%|█████████▍| 70/74 [40:54<05:04, 76.04s/it]"
          ]
        },
        {
          "output_type": "stream",
          "name": "stdout",
          "text": [
            "\n",
            "🔄 Processing UEFA Europa League - 1988/1989...\n"
          ]
        },
        {
          "output_type": "stream",
          "name": "stderr",
          "text": [
            "\n",
            "  Matches in UEFA Europa Lea 1988/1989:   0%|          | 0/3 [00:00<?, ?it/s]\u001b[A\n",
            "Competitions:  96%|█████████▌| 71/74 [40:56<02:52, 57.51s/it]"
          ]
        },
        {
          "output_type": "stream",
          "name": "stdout",
          "text": [
            "\n",
            "🔄 Processing UEFA Women's Euro - 2022...\n"
          ]
        },
        {
          "output_type": "stream",
          "name": "stderr",
          "text": [
            "\n",
            "Competitions:  96%|█████████▌| 71/74 [41:07<02:52, 57.51s/it]\n",
            "  Matches in UEFA Women's Eu 2022:  90%|█████████ | 28/31 [00:20<00:02,  1.38it/s]\u001b[A\n",
            "Competitions:  97%|█████████▋| 72/74 [41:19<01:36, 48.36s/it]"
          ]
        },
        {
          "output_type": "stream",
          "name": "stdout",
          "text": [
            "\n",
            "🔄 Processing Women's World Cup - 2023...\n"
          ]
        },
        {
          "output_type": "stream",
          "name": "stderr",
          "text": [
            "\n",
            "  Matches in Women's World C 2023:   0%|          | 0/64 [00:00<?, ?it/s]\u001b[A\n",
            "  Matches in Women's World C 2023:  52%|█████▏    | 33/64 [00:20<00:19,  1.61it/s]\u001b[A\n",
            "  Matches in Women's World C 2023:  52%|█████▏    | 33/64 [00:38<00:19,  1.61it/s]\u001b[A\n",
            "Competitions:  99%|█████████▊| 73/74 [41:58<00:45, 45.85s/it]"
          ]
        },
        {
          "output_type": "stream",
          "name": "stdout",
          "text": [
            "\n",
            "🔄 Processing Women's World Cup - 2019...\n"
          ]
        },
        {
          "output_type": "stream",
          "name": "stderr",
          "text": [
            "\n",
            "  Matches in Women's World C 2019:   0%|          | 0/52 [00:00<?, ?it/s]\u001b[A\n",
            "  Matches in Women's World C 2019:  54%|█████▍    | 28/52 [00:20<00:17,  1.35it/s]\u001b[A\n",
            "Competitions: 100%|██████████| 74/74 [42:36<00:00, 34.55s/it]\n"
          ]
        },
        {
          "output_type": "stream",
          "name": "stdout",
          "text": [
            "\n",
            "✅ All done!\n",
            "📊 Final shape of shots_master_df: (87111, 49)\n"
          ]
        }
      ]
    },
    {
      "cell_type": "code",
      "source": [
        "#Since creating the dataset took more than 40 minutes I want to permanently safe it to a .csv, that I can always access. Before saving I reorder the columns.\n",
        "\n",
        "ordered_columns = [\n",
        "    #identifiers\n",
        "    'id',\n",
        "    'index',\n",
        "    'match_id',\n",
        "\n",
        "    #time information\n",
        "    'period',\n",
        "    'timestamp',\n",
        "\n",
        "    #team and player columns\n",
        "    'team_id',\n",
        "    'team_name',\n",
        "    'player_id',\n",
        "    'player_name',\n",
        "    'position_id',\n",
        "    'position_name',\n",
        "\n",
        "    #location columns\n",
        "    'x',\n",
        "    'y',\n",
        "    'end_x',\n",
        "    'end_y',\n",
        "    'end_z',\n",
        "\n",
        "    #shot details\n",
        "    'body_part_id',\n",
        "    'body_part_name',\n",
        "    'sub_type_id',\n",
        "    'sub_type_name',\n",
        "    'technique_id',\n",
        "    'technique_name',\n",
        "    'shot_statsbomb_xg',\n",
        "    'shot_key_pass_id',\n",
        "    'under_pressure',\n",
        "    'off_camera',\n",
        "    'out',\n",
        "    'aerial_won',\n",
        "\n",
        "    #special attributes\n",
        "    'shot_first_time',\n",
        "    'shot_one_on_one',\n",
        "    'shot_deflected',\n",
        "    'shot_open_goal',\n",
        "    'shot_redirect',\n",
        "    'shot_follows_dribble',\n",
        "\n",
        "    #outcome\n",
        "    'outcome_id',\n",
        "    'outcome_name',\n",
        "\n",
        "    #rare or redundant\n",
        "    'minute',\n",
        "    'second',\n",
        "    'duration',\n",
        "    'half_start_late_video_start',\n",
        "    'half_end_early_video_end',\n",
        "    'pass_backheel',\n",
        "    'possession',\n",
        "    'possession_team_id',\n",
        "    'possession_team_name',\n",
        "    'play_pattern_id',\n",
        "    'play_pattern_name'\n",
        "]\n",
        "\n",
        "shots_master_df = shots_master_df[[col for col in ordered_columns if col in shots_master_df.columns]]"
      ],
      "metadata": {
        "id": "RxXbV4lGJEu7"
      },
      "id": "RxXbV4lGJEu7",
      "execution_count": 15,
      "outputs": []
    },
    {
      "cell_type": "code",
      "source": [
        "shots_master_df.to_csv(\"shots_master_df.csv\", index=False)"
      ],
      "metadata": {
        "id": "u7d5SJDqMIid"
      },
      "id": "u7d5SJDqMIid",
      "execution_count": 17,
      "outputs": []
    },
    {
      "cell_type": "code",
      "source": [
        "shots_master_df.shape\n",
        "#shots_master_df.head()"
      ],
      "metadata": {
        "id": "X0BdB6UCMtzR",
        "outputId": "ae44c674-6e77-4a94-b4ce-0ac999fb6da1",
        "colab": {
          "base_uri": "https://localhost:8080/"
        }
      },
      "id": "X0BdB6UCMtzR",
      "execution_count": 21,
      "outputs": [
        {
          "output_type": "execute_result",
          "data": {
            "text/plain": [
              "(87111, 47)"
            ]
          },
          "metadata": {},
          "execution_count": 21
        }
      ]
    },
    {
      "cell_type": "code",
      "source": [
        "# Load the CSV into a DataFrame\n",
        "csv_shots_master_df = pd.read_csv(\"shots_master_df.csv\")\n",
        "\n",
        "# Optional: Check the shape and head\n",
        "print(csv_shots_master_df.shape)\n",
        "csv_shots_master_df.head()\n"
      ],
      "metadata": {
        "id": "-pal0GjMM-3k",
        "outputId": "d275f985-8532-418e-a43f-018d94a6da70",
        "colab": {
          "base_uri": "https://localhost:8080/",
          "height": 377
        }
      },
      "id": "-pal0GjMM-3k",
      "execution_count": 22,
      "outputs": [
        {
          "output_type": "stream",
          "name": "stdout",
          "text": [
            "(87111, 47)\n"
          ]
        },
        {
          "output_type": "execute_result",
          "data": {
            "text/plain": [
              "                                     id  index  match_id  period  \\\n",
              "0  c577e730-b9f5-44f2-9257-9e7730c23d7b    436   3895302       1   \n",
              "1  bbc2c68d-c096-483d-abf4-32c0175a0f55    480   3895302       1   \n",
              "2  12b5206b-9ed0-4b1e-9ec3-f2028187e09f    597   3895302       1   \n",
              "3  b2c3d59d-3bef-4f8a-ad86-26b69940c64e    684   3895302       1   \n",
              "4  bb53b537-1685-4019-9e8f-98f3805828eb    848   3895302       1   \n",
              "\n",
              "         timestamp  team_id         team_name  player_id  \\\n",
              "0  00:06:48.773000      176     Werder Bremen     8826.0   \n",
              "1  00:07:40.953000      904  Bayer Leverkusen    38004.0   \n",
              "2  00:11:08.471000      176     Werder Bremen    51769.0   \n",
              "3  00:13:16.073000      904  Bayer Leverkusen     8221.0   \n",
              "4  00:16:00.956000      904  Bayer Leverkusen     3500.0   \n",
              "\n",
              "                   player_name  position_id  ... second  duration  \\\n",
              "0         Leonardo Bittencourt         13.0  ...     48  0.052872   \n",
              "1  Piero Martín Hincapié Reyna          8.0  ...     40  0.217872   \n",
              "2              Julián Malatini          3.0  ...      8  0.445768   \n",
              "3                 Jonathan Tah          4.0  ...     16  0.085298   \n",
              "4                 Granit Xhaka          9.0  ...      0  0.402989   \n",
              "\n",
              "   half_start_late_video_start  half_end_early_video_end  pass_backheel  \\\n",
              "0                          NaN                       NaN            NaN   \n",
              "1                          NaN                       NaN            NaN   \n",
              "2                          NaN                       NaN            NaN   \n",
              "3                          NaN                       NaN            NaN   \n",
              "4                          NaN                       NaN            NaN   \n",
              "\n",
              "   possession  possession_team_id possession_team_name  play_pattern_id  \\\n",
              "0          13                 176        Werder Bremen                3   \n",
              "1          14                 904     Bayer Leverkusen                1   \n",
              "2          22                 176        Werder Bremen                3   \n",
              "3          26                 904     Bayer Leverkusen                2   \n",
              "4          33                 904     Bayer Leverkusen                1   \n",
              "\n",
              "  play_pattern_name  \n",
              "0    From Free Kick  \n",
              "1      Regular Play  \n",
              "2    From Free Kick  \n",
              "3       From Corner  \n",
              "4      Regular Play  \n",
              "\n",
              "[5 rows x 47 columns]"
            ],
            "text/html": [
              "\n",
              "  <div id=\"df-d08d23c9-7c42-4564-83cb-cd1cbaff4659\" class=\"colab-df-container\">\n",
              "    <div>\n",
              "<style scoped>\n",
              "    .dataframe tbody tr th:only-of-type {\n",
              "        vertical-align: middle;\n",
              "    }\n",
              "\n",
              "    .dataframe tbody tr th {\n",
              "        vertical-align: top;\n",
              "    }\n",
              "\n",
              "    .dataframe thead th {\n",
              "        text-align: right;\n",
              "    }\n",
              "</style>\n",
              "<table border=\"1\" class=\"dataframe\">\n",
              "  <thead>\n",
              "    <tr style=\"text-align: right;\">\n",
              "      <th></th>\n",
              "      <th>id</th>\n",
              "      <th>index</th>\n",
              "      <th>match_id</th>\n",
              "      <th>period</th>\n",
              "      <th>timestamp</th>\n",
              "      <th>team_id</th>\n",
              "      <th>team_name</th>\n",
              "      <th>player_id</th>\n",
              "      <th>player_name</th>\n",
              "      <th>position_id</th>\n",
              "      <th>...</th>\n",
              "      <th>second</th>\n",
              "      <th>duration</th>\n",
              "      <th>half_start_late_video_start</th>\n",
              "      <th>half_end_early_video_end</th>\n",
              "      <th>pass_backheel</th>\n",
              "      <th>possession</th>\n",
              "      <th>possession_team_id</th>\n",
              "      <th>possession_team_name</th>\n",
              "      <th>play_pattern_id</th>\n",
              "      <th>play_pattern_name</th>\n",
              "    </tr>\n",
              "  </thead>\n",
              "  <tbody>\n",
              "    <tr>\n",
              "      <th>0</th>\n",
              "      <td>c577e730-b9f5-44f2-9257-9e7730c23d7b</td>\n",
              "      <td>436</td>\n",
              "      <td>3895302</td>\n",
              "      <td>1</td>\n",
              "      <td>00:06:48.773000</td>\n",
              "      <td>176</td>\n",
              "      <td>Werder Bremen</td>\n",
              "      <td>8826.0</td>\n",
              "      <td>Leonardo Bittencourt</td>\n",
              "      <td>13.0</td>\n",
              "      <td>...</td>\n",
              "      <td>48</td>\n",
              "      <td>0.052872</td>\n",
              "      <td>NaN</td>\n",
              "      <td>NaN</td>\n",
              "      <td>NaN</td>\n",
              "      <td>13</td>\n",
              "      <td>176</td>\n",
              "      <td>Werder Bremen</td>\n",
              "      <td>3</td>\n",
              "      <td>From Free Kick</td>\n",
              "    </tr>\n",
              "    <tr>\n",
              "      <th>1</th>\n",
              "      <td>bbc2c68d-c096-483d-abf4-32c0175a0f55</td>\n",
              "      <td>480</td>\n",
              "      <td>3895302</td>\n",
              "      <td>1</td>\n",
              "      <td>00:07:40.953000</td>\n",
              "      <td>904</td>\n",
              "      <td>Bayer Leverkusen</td>\n",
              "      <td>38004.0</td>\n",
              "      <td>Piero Martín Hincapié Reyna</td>\n",
              "      <td>8.0</td>\n",
              "      <td>...</td>\n",
              "      <td>40</td>\n",
              "      <td>0.217872</td>\n",
              "      <td>NaN</td>\n",
              "      <td>NaN</td>\n",
              "      <td>NaN</td>\n",
              "      <td>14</td>\n",
              "      <td>904</td>\n",
              "      <td>Bayer Leverkusen</td>\n",
              "      <td>1</td>\n",
              "      <td>Regular Play</td>\n",
              "    </tr>\n",
              "    <tr>\n",
              "      <th>2</th>\n",
              "      <td>12b5206b-9ed0-4b1e-9ec3-f2028187e09f</td>\n",
              "      <td>597</td>\n",
              "      <td>3895302</td>\n",
              "      <td>1</td>\n",
              "      <td>00:11:08.471000</td>\n",
              "      <td>176</td>\n",
              "      <td>Werder Bremen</td>\n",
              "      <td>51769.0</td>\n",
              "      <td>Julián Malatini</td>\n",
              "      <td>3.0</td>\n",
              "      <td>...</td>\n",
              "      <td>8</td>\n",
              "      <td>0.445768</td>\n",
              "      <td>NaN</td>\n",
              "      <td>NaN</td>\n",
              "      <td>NaN</td>\n",
              "      <td>22</td>\n",
              "      <td>176</td>\n",
              "      <td>Werder Bremen</td>\n",
              "      <td>3</td>\n",
              "      <td>From Free Kick</td>\n",
              "    </tr>\n",
              "    <tr>\n",
              "      <th>3</th>\n",
              "      <td>b2c3d59d-3bef-4f8a-ad86-26b69940c64e</td>\n",
              "      <td>684</td>\n",
              "      <td>3895302</td>\n",
              "      <td>1</td>\n",
              "      <td>00:13:16.073000</td>\n",
              "      <td>904</td>\n",
              "      <td>Bayer Leverkusen</td>\n",
              "      <td>8221.0</td>\n",
              "      <td>Jonathan Tah</td>\n",
              "      <td>4.0</td>\n",
              "      <td>...</td>\n",
              "      <td>16</td>\n",
              "      <td>0.085298</td>\n",
              "      <td>NaN</td>\n",
              "      <td>NaN</td>\n",
              "      <td>NaN</td>\n",
              "      <td>26</td>\n",
              "      <td>904</td>\n",
              "      <td>Bayer Leverkusen</td>\n",
              "      <td>2</td>\n",
              "      <td>From Corner</td>\n",
              "    </tr>\n",
              "    <tr>\n",
              "      <th>4</th>\n",
              "      <td>bb53b537-1685-4019-9e8f-98f3805828eb</td>\n",
              "      <td>848</td>\n",
              "      <td>3895302</td>\n",
              "      <td>1</td>\n",
              "      <td>00:16:00.956000</td>\n",
              "      <td>904</td>\n",
              "      <td>Bayer Leverkusen</td>\n",
              "      <td>3500.0</td>\n",
              "      <td>Granit Xhaka</td>\n",
              "      <td>9.0</td>\n",
              "      <td>...</td>\n",
              "      <td>0</td>\n",
              "      <td>0.402989</td>\n",
              "      <td>NaN</td>\n",
              "      <td>NaN</td>\n",
              "      <td>NaN</td>\n",
              "      <td>33</td>\n",
              "      <td>904</td>\n",
              "      <td>Bayer Leverkusen</td>\n",
              "      <td>1</td>\n",
              "      <td>Regular Play</td>\n",
              "    </tr>\n",
              "  </tbody>\n",
              "</table>\n",
              "<p>5 rows × 47 columns</p>\n",
              "</div>\n",
              "    <div class=\"colab-df-buttons\">\n",
              "\n",
              "  <div class=\"colab-df-container\">\n",
              "    <button class=\"colab-df-convert\" onclick=\"convertToInteractive('df-d08d23c9-7c42-4564-83cb-cd1cbaff4659')\"\n",
              "            title=\"Convert this dataframe to an interactive table.\"\n",
              "            style=\"display:none;\">\n",
              "\n",
              "  <svg xmlns=\"http://www.w3.org/2000/svg\" height=\"24px\" viewBox=\"0 -960 960 960\">\n",
              "    <path d=\"M120-120v-720h720v720H120Zm60-500h600v-160H180v160Zm220 220h160v-160H400v160Zm0 220h160v-160H400v160ZM180-400h160v-160H180v160Zm440 0h160v-160H620v160ZM180-180h160v-160H180v160Zm440 0h160v-160H620v160Z\"/>\n",
              "  </svg>\n",
              "    </button>\n",
              "\n",
              "  <style>\n",
              "    .colab-df-container {\n",
              "      display:flex;\n",
              "      gap: 12px;\n",
              "    }\n",
              "\n",
              "    .colab-df-convert {\n",
              "      background-color: #E8F0FE;\n",
              "      border: none;\n",
              "      border-radius: 50%;\n",
              "      cursor: pointer;\n",
              "      display: none;\n",
              "      fill: #1967D2;\n",
              "      height: 32px;\n",
              "      padding: 0 0 0 0;\n",
              "      width: 32px;\n",
              "    }\n",
              "\n",
              "    .colab-df-convert:hover {\n",
              "      background-color: #E2EBFA;\n",
              "      box-shadow: 0px 1px 2px rgba(60, 64, 67, 0.3), 0px 1px 3px 1px rgba(60, 64, 67, 0.15);\n",
              "      fill: #174EA6;\n",
              "    }\n",
              "\n",
              "    .colab-df-buttons div {\n",
              "      margin-bottom: 4px;\n",
              "    }\n",
              "\n",
              "    [theme=dark] .colab-df-convert {\n",
              "      background-color: #3B4455;\n",
              "      fill: #D2E3FC;\n",
              "    }\n",
              "\n",
              "    [theme=dark] .colab-df-convert:hover {\n",
              "      background-color: #434B5C;\n",
              "      box-shadow: 0px 1px 3px 1px rgba(0, 0, 0, 0.15);\n",
              "      filter: drop-shadow(0px 1px 2px rgba(0, 0, 0, 0.3));\n",
              "      fill: #FFFFFF;\n",
              "    }\n",
              "  </style>\n",
              "\n",
              "    <script>\n",
              "      const buttonEl =\n",
              "        document.querySelector('#df-d08d23c9-7c42-4564-83cb-cd1cbaff4659 button.colab-df-convert');\n",
              "      buttonEl.style.display =\n",
              "        google.colab.kernel.accessAllowed ? 'block' : 'none';\n",
              "\n",
              "      async function convertToInteractive(key) {\n",
              "        const element = document.querySelector('#df-d08d23c9-7c42-4564-83cb-cd1cbaff4659');\n",
              "        const dataTable =\n",
              "          await google.colab.kernel.invokeFunction('convertToInteractive',\n",
              "                                                    [key], {});\n",
              "        if (!dataTable) return;\n",
              "\n",
              "        const docLinkHtml = 'Like what you see? Visit the ' +\n",
              "          '<a target=\"_blank\" href=https://colab.research.google.com/notebooks/data_table.ipynb>data table notebook</a>'\n",
              "          + ' to learn more about interactive tables.';\n",
              "        element.innerHTML = '';\n",
              "        dataTable['output_type'] = 'display_data';\n",
              "        await google.colab.output.renderOutput(dataTable, element);\n",
              "        const docLink = document.createElement('div');\n",
              "        docLink.innerHTML = docLinkHtml;\n",
              "        element.appendChild(docLink);\n",
              "      }\n",
              "    </script>\n",
              "  </div>\n",
              "\n",
              "\n",
              "    <div id=\"df-78bdc1cc-fdfd-4aa0-9637-8554770e4942\">\n",
              "      <button class=\"colab-df-quickchart\" onclick=\"quickchart('df-78bdc1cc-fdfd-4aa0-9637-8554770e4942')\"\n",
              "                title=\"Suggest charts\"\n",
              "                style=\"display:none;\">\n",
              "\n",
              "<svg xmlns=\"http://www.w3.org/2000/svg\" height=\"24px\"viewBox=\"0 0 24 24\"\n",
              "     width=\"24px\">\n",
              "    <g>\n",
              "        <path d=\"M19 3H5c-1.1 0-2 .9-2 2v14c0 1.1.9 2 2 2h14c1.1 0 2-.9 2-2V5c0-1.1-.9-2-2-2zM9 17H7v-7h2v7zm4 0h-2V7h2v10zm4 0h-2v-4h2v4z\"/>\n",
              "    </g>\n",
              "</svg>\n",
              "      </button>\n",
              "\n",
              "<style>\n",
              "  .colab-df-quickchart {\n",
              "      --bg-color: #E8F0FE;\n",
              "      --fill-color: #1967D2;\n",
              "      --hover-bg-color: #E2EBFA;\n",
              "      --hover-fill-color: #174EA6;\n",
              "      --disabled-fill-color: #AAA;\n",
              "      --disabled-bg-color: #DDD;\n",
              "  }\n",
              "\n",
              "  [theme=dark] .colab-df-quickchart {\n",
              "      --bg-color: #3B4455;\n",
              "      --fill-color: #D2E3FC;\n",
              "      --hover-bg-color: #434B5C;\n",
              "      --hover-fill-color: #FFFFFF;\n",
              "      --disabled-bg-color: #3B4455;\n",
              "      --disabled-fill-color: #666;\n",
              "  }\n",
              "\n",
              "  .colab-df-quickchart {\n",
              "    background-color: var(--bg-color);\n",
              "    border: none;\n",
              "    border-radius: 50%;\n",
              "    cursor: pointer;\n",
              "    display: none;\n",
              "    fill: var(--fill-color);\n",
              "    height: 32px;\n",
              "    padding: 0;\n",
              "    width: 32px;\n",
              "  }\n",
              "\n",
              "  .colab-df-quickchart:hover {\n",
              "    background-color: var(--hover-bg-color);\n",
              "    box-shadow: 0 1px 2px rgba(60, 64, 67, 0.3), 0 1px 3px 1px rgba(60, 64, 67, 0.15);\n",
              "    fill: var(--button-hover-fill-color);\n",
              "  }\n",
              "\n",
              "  .colab-df-quickchart-complete:disabled,\n",
              "  .colab-df-quickchart-complete:disabled:hover {\n",
              "    background-color: var(--disabled-bg-color);\n",
              "    fill: var(--disabled-fill-color);\n",
              "    box-shadow: none;\n",
              "  }\n",
              "\n",
              "  .colab-df-spinner {\n",
              "    border: 2px solid var(--fill-color);\n",
              "    border-color: transparent;\n",
              "    border-bottom-color: var(--fill-color);\n",
              "    animation:\n",
              "      spin 1s steps(1) infinite;\n",
              "  }\n",
              "\n",
              "  @keyframes spin {\n",
              "    0% {\n",
              "      border-color: transparent;\n",
              "      border-bottom-color: var(--fill-color);\n",
              "      border-left-color: var(--fill-color);\n",
              "    }\n",
              "    20% {\n",
              "      border-color: transparent;\n",
              "      border-left-color: var(--fill-color);\n",
              "      border-top-color: var(--fill-color);\n",
              "    }\n",
              "    30% {\n",
              "      border-color: transparent;\n",
              "      border-left-color: var(--fill-color);\n",
              "      border-top-color: var(--fill-color);\n",
              "      border-right-color: var(--fill-color);\n",
              "    }\n",
              "    40% {\n",
              "      border-color: transparent;\n",
              "      border-right-color: var(--fill-color);\n",
              "      border-top-color: var(--fill-color);\n",
              "    }\n",
              "    60% {\n",
              "      border-color: transparent;\n",
              "      border-right-color: var(--fill-color);\n",
              "    }\n",
              "    80% {\n",
              "      border-color: transparent;\n",
              "      border-right-color: var(--fill-color);\n",
              "      border-bottom-color: var(--fill-color);\n",
              "    }\n",
              "    90% {\n",
              "      border-color: transparent;\n",
              "      border-bottom-color: var(--fill-color);\n",
              "    }\n",
              "  }\n",
              "</style>\n",
              "\n",
              "      <script>\n",
              "        async function quickchart(key) {\n",
              "          const quickchartButtonEl =\n",
              "            document.querySelector('#' + key + ' button');\n",
              "          quickchartButtonEl.disabled = true;  // To prevent multiple clicks.\n",
              "          quickchartButtonEl.classList.add('colab-df-spinner');\n",
              "          try {\n",
              "            const charts = await google.colab.kernel.invokeFunction(\n",
              "                'suggestCharts', [key], {});\n",
              "          } catch (error) {\n",
              "            console.error('Error during call to suggestCharts:', error);\n",
              "          }\n",
              "          quickchartButtonEl.classList.remove('colab-df-spinner');\n",
              "          quickchartButtonEl.classList.add('colab-df-quickchart-complete');\n",
              "        }\n",
              "        (() => {\n",
              "          let quickchartButtonEl =\n",
              "            document.querySelector('#df-78bdc1cc-fdfd-4aa0-9637-8554770e4942 button');\n",
              "          quickchartButtonEl.style.display =\n",
              "            google.colab.kernel.accessAllowed ? 'block' : 'none';\n",
              "        })();\n",
              "      </script>\n",
              "    </div>\n",
              "\n",
              "    </div>\n",
              "  </div>\n"
            ],
            "application/vnd.google.colaboratory.intrinsic+json": {
              "type": "dataframe",
              "variable_name": "csv_shots_master_df"
            }
          },
          "metadata": {},
          "execution_count": 22
        }
      ]
    },
    {
      "cell_type": "markdown",
      "source": [
        "Recovered work"
      ],
      "metadata": {
        "id": "FXX3R6cM6P-v"
      },
      "id": "FXX3R6cM6P-v"
    },
    {
      "cell_type": "code",
      "source": [
        "import numpy as np\n",
        "\n",
        "shots_master_women_world_cup_df['distance_to_goal'] = np.sqrt(\n",
        "    (GOAL_X - shots_master_women_world_cup_df['x'])**2 +\n",
        "    (GOAL_CENTER_Y - shots_master_women_world_cup_df['y'])**2\n",
        ")"
      ],
      "metadata": {
        "id": "YhEN29j94YNw"
      },
      "id": "YhEN29j94YNw",
      "execution_count": null,
      "outputs": []
    },
    {
      "cell_type": "code",
      "source": [
        "import numpy as np\n",
        "\n",
        "# Constants\n",
        "GOAL_WIDTH = 7.32  # meters\n",
        "GOAL_CENTER_X = 120\n",
        "GOAL_CENTER_Y = 40"
      ],
      "metadata": {
        "id": "57alM7g74pmK"
      },
      "id": "57alM7g74pmK",
      "execution_count": null,
      "outputs": []
    },
    {
      "cell_type": "code",
      "source": [
        "distance_to_goal = np.sqrt((GOAL_CENTER_X - x)**2 + (GOAL_CENTER_Y - y)**2)\n",
        "shots_master_women_world_cup_df['distance_to_goal'] = distance_to_goal"
      ],
      "metadata": {
        "id": "8jolBW0I4riJ"
      },
      "id": "8jolBW0I4riJ",
      "execution_count": null,
      "outputs": []
    },
    {
      "cell_type": "code",
      "source": [
        "# Goalpost y-coordinates\n",
        "goal_y1 = GOAL_CENTER_Y - GOAL_WIDTH / 2  # left post\n",
        "goal_y2 = GOAL_CENTER_Y + GOAL_WIDTH / 2  # right post\n",
        "\n",
        "# Shot coordinates\n",
        "x = shots_master_women_world_cup_df['x'].to_numpy()\n",
        "y = shots_master_women_world_cup_df['y'].to_numpy()\n",
        "\n",
        "# Distances from shot to left and right goalposts\n",
        "a = np.sqrt((GOAL_CENTER_X - x)**2 + (goal_y1 - y)**2)\n",
        "b = np.sqrt((GOAL_CENTER_X - x)**2 + (goal_y2 - y)**2)\n",
        "c = GOAL_WIDTH\n",
        "\n",
        "# Avoid divide-by-zero\n",
        "denominator = 2 * a * b\n",
        "cos_angle = (a**2 + b**2 - c**2) / denominator\n",
        "cos_angle = np.clip(cos_angle, -1.0, 1.0)  # Ensure within valid arccos range\n",
        "\n",
        "# Calculate angle in radians\n",
        "angle_radians = np.arccos(cos_angle)\n",
        "\n",
        "# Store in DataFrame\n",
        "shots_master_women_world_cup_df['angle_to_goal'] = angle_radians\n",
        "shots_master_women_world_cup_df['angle_to_goal_deg'] = np.degrees(angle_radians)"
      ],
      "metadata": {
        "id": "6SgLOH3d4uJs"
      },
      "id": "6SgLOH3d4uJs",
      "execution_count": null,
      "outputs": []
    },
    {
      "cell_type": "code",
      "source": [
        "from mplsoccer import VerticalPitch\n",
        "import matplotlib.pyplot as plt\n",
        "\n",
        "test_plot = shots_master_women_world_cup_df[['id','period', 'timestamp', 'team_id', 'team_name', 'player_id', 'player_name', 'x', 'y', 'distance_to_goal', 'angle_to_goal', 'angle_to_goal_deg', 'match_id', 'outcome_name']]\n",
        "\n",
        "goals_df = test_plot[\n",
        "    (test_plot['match_id'] == 69301) &\n",
        "    (test_plot['outcome_name'] == 'Goal')\n",
        "]\n",
        "\n",
        "\n",
        "##############################\n",
        "\n",
        "goal_x = 120\n",
        "goal_y = 40\n",
        "\n",
        "# Create the pitch\n",
        "pitch = VerticalPitch(pitch_type='statsbomb', line_color='black', half = True)\n",
        "fig, ax = pitch.draw(\n",
        "    #figsize=(6, 10)\n",
        "    )\n",
        "\n",
        "pitch.scatter(goal_x, goal_y, s=50, c='red', ax=ax, label='Goal Center')\n",
        "\n",
        "for _, row in goals_df.iterrows():\n",
        "    shot_x = row['x']\n",
        "    shot_y = row['y']\n",
        "    distance = row['distance_to_goal']\n",
        "\n",
        "    # Shot location\n",
        "    pitch.scatter(shot_x, shot_y, ax=ax, c='gold', s=50, label='Goal')\n",
        "\n",
        "    # Line to goal center\n",
        "    pitch.lines(shot_x, shot_y, goal_x, goal_y, ax=ax, color='green', lw=1.5)\n",
        "\n",
        "    mid_x = (shot_x + goal_x) / 2\n",
        "    mid_y = (shot_y + goal_y) / 2\n",
        "    pitch.annotate(\n",
        "      f\"{distance:.1f}u\",\n",
        "      xy=(mid_x, mid_y),\n",
        "      ax=ax,\n",
        "      fontsize=8,\n",
        "      ha='center',\n",
        "      color='black',\n",
        "      bbox=dict(facecolor='white', alpha=0.8, edgecolor='none', boxstyle='round', pad=0.2)\n",
        "    )\n",
        "\n",
        "\n",
        "\n",
        "# Title and legend\n",
        "ax.set_title('Distance to Goal', fontsize=16)\n",
        "ax.legend()\n",
        "plt.show()"
      ],
      "metadata": {
        "id": "Jk30iGVf4vCY"
      },
      "id": "Jk30iGVf4vCY",
      "execution_count": null,
      "outputs": []
    },
    {
      "cell_type": "code",
      "source": [
        "goal_width = 7.32\n",
        "left_post_y = goal_y - goal_width / 2\n",
        "right_post_y = goal_y + goal_width / 2"
      ],
      "metadata": {
        "id": "iD-eZbkI4z_5"
      },
      "id": "iD-eZbkI4z_5",
      "execution_count": null,
      "outputs": []
    },
    {
      "cell_type": "code",
      "source": [
        "from mplsoccer import VerticalPitch\n",
        "import matplotlib.pyplot as plt\n",
        "\n",
        "goal_x, goal_y = 120, 40\n",
        "goal_width = 7.32\n",
        "left_post_y = goal_y - goal_width / 2\n",
        "right_post_y = goal_y + goal_width / 2\n",
        "\n",
        "pitch = VerticalPitch(pitch_type='statsbomb', line_color='black', half=True)\n",
        "fig, ax = pitch.draw()\n",
        "\n",
        "for i, row in goals_df.iterrows():\n",
        "    shot_x = row['x']\n",
        "    shot_y = row['y']\n",
        "    angle = row['angle_to_goal_deg']\n",
        "\n",
        "    pitch.scatter(shot_x, shot_y, ax=ax, c='gold', s=50, label='Goal' if i == 0 else None)\n",
        "\n",
        "    pitch.lines(shot_x, shot_y, goal_x, left_post_y, ax=ax, color='blue', lw=1.5, linestyle='--')\n",
        "    pitch.lines(shot_x, shot_y, goal_x, right_post_y, ax=ax, color='blue', lw=1.5, linestyle='--')\n",
        "\n",
        "    pitch.annotate(\n",
        "        f\"{angle:.2f} rad\",\n",
        "        xy=(shot_x, shot_y),\n",
        "        ax=ax,\n",
        "        fontsize=8,\n",
        "        ha='left',\n",
        "        color='blue',\n",
        "        xytext=(5, 5),\n",
        "        textcoords='offset points',\n",
        "        bbox=dict(facecolor='white', alpha=0.8, edgecolor='none', boxstyle='round' ,pad=0.2)\n",
        "    )\n",
        "\n",
        "ax.set_title('Shot Angles for Goals', fontsize=16)\n",
        "ax.legend()\n",
        "plt.show()"
      ],
      "metadata": {
        "id": "AAGI23ya42Ai"
      },
      "id": "AAGI23ya42Ai",
      "execution_count": null,
      "outputs": []
    },
    {
      "cell_type": "code",
      "source": [
        "shots_master_women_world_cup_df.info()\n",
        "shots_master_women_world_cup_df.head(50)"
      ],
      "metadata": {
        "id": "QQkPPGLN44X0"
      },
      "id": "QQkPPGLN44X0",
      "execution_count": null,
      "outputs": []
    },
    {
      "cell_type": "code",
      "source": [
        "shots_master_women_world_cup_df['goal'] = (shots_master_women_world_cup_df['outcome_name'] == 'Goal').astype(int)\n",
        "\n",
        "shots_200 = shots_master_women_world_cup_df.iloc[:200]\n",
        "\n",
        "fig, ax = plt.subplots(figsize=(8, 5))\n",
        "ax.plot(\n",
        "    shots_200['angle_to_goal_deg'],\n",
        "    shots_200['goal'],\n",
        "    linestyle='none',\n",
        "    marker='.',\n",
        "    markersize=12,\n",
        "    color='black'\n",
        ")\n",
        "\n",
        "# Axis labels and formatting\n",
        "ax.set_ylabel('Goal Scored', fontsize=12)\n",
        "ax.set_xlabel('Shot Angle (degrees)', fontsize=12)\n",
        "ax.set_yticks([0, 1])\n",
        "ax.set_yticklabels(['No', 'Yes'])\n",
        "plt.ylim(-0.05, 1.05)\n",
        "ax.set_title('Goal Outcome vs. Shot Angle (First 200 Shots)', fontsize=14)\n",
        "plt.grid(True, linestyle='--', alpha=0.4)\n",
        "plt.tight_layout()\n",
        "plt.show()"
      ],
      "metadata": {
        "id": "2CSegOj947e1"
      },
      "id": "2CSegOj947e1",
      "execution_count": null,
      "outputs": []
    },
    {
      "cell_type": "code",
      "source": [
        "# Step 1: Get all available competitions\n",
        "competitions_df = parser.competition()\n",
        "\n",
        "# Step 2: Prepare storage\n",
        "all_shots = []\n",
        "\n",
        "# Step 3: Define your desired shot fields\n",
        "shot_fields = [\n",
        "    'id',\n",
        "    'team_id',\n",
        "    'team_name',\n",
        "    'shot_key_pass_id',\n",
        "    'x',\n",
        "    'y',\n",
        "    'end_x',\n",
        "    'end_y',\n",
        "    'end_z',\n",
        "    'aerial_won',\n",
        "    'shot_first_time',\n",
        "    'shot_statsbomb_xg',\n",
        "    'block_deflection',\n",
        "    'technique_id',\n",
        "    'technique_name',\n",
        "    'body_part_id',\n",
        "    'body_part_name',\n",
        "    'sub_type_id',\n",
        "    'sub_type_name',\n",
        "    'outcome_id',\n",
        "    'outcome_name'\n",
        "]\n",
        "\n",
        "# Step 4: Loop through competitions and matches\n",
        "for _, comp_row in competitions_df.iterrows():\n",
        "    comp_id = comp_row['competition_id']\n",
        "    season_id = comp_row['season_id']\n",
        "\n",
        "    try:\n",
        "        matches_df = parser.match(competition_id=comp_id, season_id=season_id)\n",
        "    except Exception as e:\n",
        "        print(f\"Skipping competition {comp_id}-{season_id} due to error: {e}\")\n",
        "        continue\n",
        "\n",
        "    for match_id in matches_df['match_id']:\n",
        "        try:\n",
        "            df_event, df_related, df_freeze, df_tactics = parser.event(match_id)\n",
        "            df_shots = df_event[df_event['type_name'] == 'Shot']\n",
        "\n",
        "            for col in shot_fields:\n",
        "                if col not in df_shots.columns:\n",
        "                    df_shots[col] = None\n",
        "\n",
        "            df_shots_clean = df_shots[shot_fields].copy()\n",
        "            df_shots_clean['match_id'] = match_id\n",
        "            df_shots_clean['competition_id'] = comp_id\n",
        "            df_shots_clean['season_id'] = season_id\n",
        "\n",
        "            all_shots.append(df_shots_clean)\n",
        "\n",
        "        except Exception as e:\n",
        "            print(f\"Error processing match {match_id}: {e}\")\n",
        "            continue\n",
        "\n",
        "\n",
        "shots_master_df = pd.concat(all_shots, ignore_index=True)"
      ],
      "metadata": {
        "id": "pmZ1m7a949Db"
      },
      "id": "pmZ1m7a949Db",
      "execution_count": null,
      "outputs": []
    },
    {
      "cell_type": "code",
      "source": [
        "from sklearn.linear_model import LogisticRegression\n",
        "from sklearn.model_selection import train_test_split\n",
        "from sklearn.metrics import classification_report, roc_auc_score\n",
        "import numpy as np"
      ],
      "metadata": {
        "id": "ZsXTsPqg5ELN"
      },
      "id": "ZsXTsPqg5ELN",
      "execution_count": null,
      "outputs": []
    },
    {
      "cell_type": "code",
      "source": [
        "X = shots_master_women_world_cup_df[['angle_to_goal_deg', 'distance_to_goal', 'x', 'y']]\n",
        "\n",
        "\n",
        "    #'body_part_id',\n",
        "    #'body_part_name',\n",
        "    #'shot_key_pass_id',\n",
        "    #'x',\n",
        "    #'y',\n",
        "    #'end_x',\n",
        "    #'end_y',\n",
        "    #'end_z',\n",
        "    #'aerial_won',\n",
        "    #'shot_first_time',\n",
        "    #'shot_statsbomb_xg',\n",
        "    #'block_deflection',\n",
        "    #'technique_id',\n",
        "    #'technique_name',\n",
        "    #'body_part_id',\n",
        "    #'body_part_name',\n",
        "    #'sub_type_id',\n",
        "    #'sub_type_name',\n",
        "\n",
        "y = shots_master_women_world_cup_df['goal']"
      ],
      "metadata": {
        "id": "5vSs1HAa5HJb"
      },
      "id": "5vSs1HAa5HJb",
      "execution_count": null,
      "outputs": []
    },
    {
      "cell_type": "code",
      "source": [
        "X_train, X_test, y_train, y_test = train_test_split(X, y, test_size=0.2, random_state=42)"
      ],
      "metadata": {
        "id": "FbqllA_Z5Isy"
      },
      "id": "FbqllA_Z5Isy",
      "execution_count": null,
      "outputs": []
    },
    {
      "cell_type": "code",
      "source": [
        "model = LogisticRegression()\n",
        "model.fit(X_train, y_train)"
      ],
      "metadata": {
        "id": "DnMA6rhr5Io9"
      },
      "id": "DnMA6rhr5Io9",
      "execution_count": null,
      "outputs": []
    },
    {
      "cell_type": "code",
      "source": [
        "y_pred = model.predict(X_test)\n",
        "y_prob = model.predict_proba(X_test)[:, 1]  # probabilities\n",
        "\n",
        "print(classification_report(y_test, y_pred))\n",
        "print(\"ROC AUC:\", roc_auc_score(y_test, y_prob))"
      ],
      "metadata": {
        "id": "9E4J40JU5NE8"
      },
      "id": "9E4J40JU5NE8",
      "execution_count": null,
      "outputs": []
    },
    {
      "cell_type": "code",
      "source": [
        "from sklearn.metrics import roc_curve, auc\n",
        "import matplotlib.pyplot as plt\n",
        "\n",
        "# Probability of class = 1 (goal)\n",
        "y_probs = model.predict_proba(X)[:, 1]\n",
        "\n",
        "fpr, tpr, thresholds = roc_curve(y, y_probs)\n",
        "roc_auc = auc(fpr, tpr)\n",
        "\n",
        "plt.figure(figsize=(8, 6))\n",
        "plt.plot(fpr, tpr, color='darkorange', lw=2, label=f'ROC curve (AUC = {roc_auc:.2f})')\n",
        "plt.plot([0, 1], [0, 1], color='gray', lw=1, linestyle='--')  # Diagonal line\n",
        "plt.xlabel('False Positive Rate')\n",
        "plt.ylabel('True Positive Rate')\n",
        "plt.title('Receiver Operating Characteristic (ROC) Curve')\n",
        "plt.legend(loc=\"lower right\")\n",
        "plt.grid(True)\n",
        "plt.tight_layout()\n",
        "plt.show()"
      ],
      "metadata": {
        "id": "uHfu1TQ_5PHI"
      },
      "id": "uHfu1TQ_5PHI",
      "execution_count": null,
      "outputs": []
    },
    {
      "cell_type": "code",
      "source": [
        "import statsmodels.api as sm\n",
        "\n",
        "# Define your features and target\n",
        "X = shots_master_women_world_cup_df[['angle_to_goal', 'distance_to_goal']]\n",
        "y = shots_master_women_world_cup_df['goal']\n",
        "\n",
        "# Add intercept\n",
        "X_with_const = sm.add_constant(X)\n",
        "\n",
        "# Fit logistic regression\n",
        "model = sm.Logit(y, X_with_const)\n",
        "result = model.fit()\n",
        "\n",
        "# Calculate McFadden's R²\n",
        "ll_model = result.llf               # Log-likelihood of fitted model\n",
        "ll_null = result.llnull             # Log-likelihood of null model\n",
        "\n",
        "mcfadden_r2 = 1 - (ll_model / ll_null)\n",
        "print(f\"McFadden's R²: {mcfadden_r2:.4f}\")"
      ],
      "metadata": {
        "id": "nObd2LGM5R1w"
      },
      "id": "nObd2LGM5R1w",
      "execution_count": null,
      "outputs": []
    }
  ],
  "metadata": {
    "kernelspec": {
      "display_name": "Python 3",
      "language": "python",
      "name": "python3"
    },
    "language_info": {
      "codemirror_mode": {
        "name": "ipython",
        "version": 2
      },
      "file_extension": ".py",
      "mimetype": "text/x-python",
      "name": "python",
      "nbconvert_exporter": "python",
      "pygments_lexer": "ipython2",
      "version": "2.7.6"
    },
    "colab": {
      "provenance": [],
      "include_colab_link": true
    }
  },
  "nbformat": 4,
  "nbformat_minor": 5
}