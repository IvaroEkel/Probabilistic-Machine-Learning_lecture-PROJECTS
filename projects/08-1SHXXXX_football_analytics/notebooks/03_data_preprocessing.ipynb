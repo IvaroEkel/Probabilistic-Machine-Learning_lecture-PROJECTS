{
  "cells": [
    {
      "cell_type": "markdown",
      "metadata": {
        "id": "view-in-github",
        "colab_type": "text"
      },
      "source": [
        "<a href=\"https://colab.research.google.com/github/hannesstuehrenberg/Probabilistic-Machine-Learning_lecture-PROJECTS/blob/main/projects/08-1SHXXXX_football_analytics/notebooks/03_data_preprocessing.ipynb\" target=\"_parent\"><img src=\"https://colab.research.google.com/assets/colab-badge.svg\" alt=\"Open In Colab\"/></a>"
      ]
    },
    {
      "metadata": {
        "id": "70f490b0659245e6"
      },
      "cell_type": "markdown",
      "source": [
        "## 3. Data Preprocessing\n",
        "- Steps taken to clean or transform the data\n"
      ],
      "id": "70f490b0659245e6"
    },
    {
      "cell_type": "code",
      "source": [
        "import numpy as np\n",
        "\n",
        "shots_master_women_world_cup_df['distance_to_goal'] = np.sqrt(\n",
        "    (GOAL_X - shots_master_women_world_cup_df['x'])**2 +\n",
        "    (GOAL_CENTER_Y - shots_master_women_world_cup_df['y'])**2\n",
        ")"
      ],
      "metadata": {
        "id": "YhEN29j94YNw"
      },
      "id": "YhEN29j94YNw",
      "execution_count": null,
      "outputs": []
    },
    {
      "cell_type": "code",
      "source": [
        "import numpy as np\n",
        "\n",
        "# Constants\n",
        "GOAL_WIDTH = 7.32  # meters\n",
        "GOAL_CENTER_X = 120\n",
        "GOAL_CENTER_Y = 40"
      ],
      "metadata": {
        "id": "57alM7g74pmK"
      },
      "id": "57alM7g74pmK",
      "execution_count": null,
      "outputs": []
    },
    {
      "cell_type": "code",
      "source": [
        "distance_to_goal = np.sqrt((GOAL_CENTER_X - x)**2 + (GOAL_CENTER_Y - y)**2)\n",
        "shots_master_women_world_cup_df['distance_to_goal'] = distance_to_goal"
      ],
      "metadata": {
        "id": "8jolBW0I4riJ"
      },
      "id": "8jolBW0I4riJ",
      "execution_count": null,
      "outputs": []
    },
    {
      "cell_type": "code",
      "source": [
        "# Goalpost y-coordinates\n",
        "goal_y1 = GOAL_CENTER_Y - GOAL_WIDTH / 2  # left post\n",
        "goal_y2 = GOAL_CENTER_Y + GOAL_WIDTH / 2  # right post\n",
        "\n",
        "# Shot coordinates\n",
        "x = shots_master_women_world_cup_df['x'].to_numpy()\n",
        "y = shots_master_women_world_cup_df['y'].to_numpy()\n",
        "\n",
        "# Distances from shot to left and right goalposts\n",
        "a = np.sqrt((GOAL_CENTER_X - x)**2 + (goal_y1 - y)**2)\n",
        "b = np.sqrt((GOAL_CENTER_X - x)**2 + (goal_y2 - y)**2)\n",
        "c = GOAL_WIDTH\n",
        "\n",
        "# Avoid divide-by-zero\n",
        "denominator = 2 * a * b\n",
        "cos_angle = (a**2 + b**2 - c**2) / denominator\n",
        "cos_angle = np.clip(cos_angle, -1.0, 1.0)  # Ensure within valid arccos range\n",
        "\n",
        "# Calculate angle in radians\n",
        "angle_radians = np.arccos(cos_angle)\n",
        "\n",
        "# Store in DataFrame\n",
        "shots_master_women_world_cup_df['angle_to_goal'] = angle_radians\n",
        "shots_master_women_world_cup_df['angle_to_goal_deg'] = np.degrees(angle_radians)"
      ],
      "metadata": {
        "id": "6SgLOH3d4uJs"
      },
      "id": "6SgLOH3d4uJs",
      "execution_count": null,
      "outputs": []
    },
    {
      "cell_type": "code",
      "source": [
        "from mplsoccer import VerticalPitch\n",
        "import matplotlib.pyplot as plt\n",
        "\n",
        "test_plot = shots_master_women_world_cup_df[['id','period', 'timestamp', 'team_id', 'team_name', 'player_id', 'player_name', 'x', 'y', 'distance_to_goal', 'angle_to_goal', 'angle_to_goal_deg', 'match_id', 'outcome_name']]\n",
        "\n",
        "goals_df = test_plot[\n",
        "    (test_plot['match_id'] == 69301) &\n",
        "    (test_plot['outcome_name'] == 'Goal')\n",
        "]\n",
        "\n",
        "\n",
        "##############################\n",
        "\n",
        "goal_x = 120\n",
        "goal_y = 40\n",
        "\n",
        "# Create the pitch\n",
        "pitch = VerticalPitch(pitch_type='statsbomb', line_color='black', half = True)\n",
        "fig, ax = pitch.draw(\n",
        "    #figsize=(6, 10)\n",
        "    )\n",
        "\n",
        "pitch.scatter(goal_x, goal_y, s=50, c='red', ax=ax, label='Goal Center')\n",
        "\n",
        "for _, row in goals_df.iterrows():\n",
        "    shot_x = row['x']\n",
        "    shot_y = row['y']\n",
        "    distance = row['distance_to_goal']\n",
        "\n",
        "    # Shot location\n",
        "    pitch.scatter(shot_x, shot_y, ax=ax, c='gold', s=50, label='Goal')\n",
        "\n",
        "    # Line to goal center\n",
        "    pitch.lines(shot_x, shot_y, goal_x, goal_y, ax=ax, color='green', lw=1.5)\n",
        "\n",
        "    mid_x = (shot_x + goal_x) / 2\n",
        "    mid_y = (shot_y + goal_y) / 2\n",
        "    pitch.annotate(\n",
        "      f\"{distance:.1f}u\",\n",
        "      xy=(mid_x, mid_y),\n",
        "      ax=ax,\n",
        "      fontsize=8,\n",
        "      ha='center',\n",
        "      color='black',\n",
        "      bbox=dict(facecolor='white', alpha=0.8, edgecolor='none', boxstyle='round', pad=0.2)\n",
        "    )\n",
        "\n",
        "\n",
        "\n",
        "# Title and legend\n",
        "ax.set_title('Distance to Goal', fontsize=16)\n",
        "ax.legend()\n",
        "plt.show()"
      ],
      "metadata": {
        "id": "Jk30iGVf4vCY"
      },
      "id": "Jk30iGVf4vCY",
      "execution_count": null,
      "outputs": []
    },
    {
      "cell_type": "code",
      "source": [
        "goal_width = 7.32\n",
        "left_post_y = goal_y - goal_width / 2\n",
        "right_post_y = goal_y + goal_width / 2"
      ],
      "metadata": {
        "id": "iD-eZbkI4z_5"
      },
      "id": "iD-eZbkI4z_5",
      "execution_count": null,
      "outputs": []
    },
    {
      "cell_type": "code",
      "source": [
        "from mplsoccer import VerticalPitch\n",
        "import matplotlib.pyplot as plt\n",
        "\n",
        "goal_x, goal_y = 120, 40\n",
        "goal_width = 7.32\n",
        "left_post_y = goal_y - goal_width / 2\n",
        "right_post_y = goal_y + goal_width / 2\n",
        "\n",
        "pitch = VerticalPitch(pitch_type='statsbomb', line_color='black', half=True)\n",
        "fig, ax = pitch.draw()\n",
        "\n",
        "for i, row in goals_df.iterrows():\n",
        "    shot_x = row['x']\n",
        "    shot_y = row['y']\n",
        "    angle = row['angle_to_goal_deg']\n",
        "\n",
        "    pitch.scatter(shot_x, shot_y, ax=ax, c='gold', s=50, label='Goal' if i == 0 else None)\n",
        "\n",
        "    pitch.lines(shot_x, shot_y, goal_x, left_post_y, ax=ax, color='blue', lw=1.5, linestyle='--')\n",
        "    pitch.lines(shot_x, shot_y, goal_x, right_post_y, ax=ax, color='blue', lw=1.5, linestyle='--')\n",
        "\n",
        "    pitch.annotate(\n",
        "        f\"{angle:.2f} rad\",\n",
        "        xy=(shot_x, shot_y),\n",
        "        ax=ax,\n",
        "        fontsize=8,\n",
        "        ha='left',\n",
        "        color='blue',\n",
        "        xytext=(5, 5),\n",
        "        textcoords='offset points',\n",
        "        bbox=dict(facecolor='white', alpha=0.8, edgecolor='none', boxstyle='round' ,pad=0.2)\n",
        "    )\n",
        "\n",
        "ax.set_title('Shot Angles for Goals', fontsize=16)\n",
        "ax.legend()\n",
        "plt.show()"
      ],
      "metadata": {
        "id": "AAGI23ya42Ai"
      },
      "id": "AAGI23ya42Ai",
      "execution_count": null,
      "outputs": []
    },
    {
      "cell_type": "code",
      "source": [
        "shots_master_women_world_cup_df.info()\n",
        "shots_master_women_world_cup_df.head(50)"
      ],
      "metadata": {
        "id": "QQkPPGLN44X0"
      },
      "id": "QQkPPGLN44X0",
      "execution_count": null,
      "outputs": []
    },
    {
      "cell_type": "code",
      "source": [
        "shots_master_women_world_cup_df['goal'] = (shots_master_women_world_cup_df['outcome_name'] == 'Goal').astype(int)\n",
        "\n",
        "shots_200 = shots_master_women_world_cup_df.iloc[:200]\n",
        "\n",
        "fig, ax = plt.subplots(figsize=(8, 5))\n",
        "ax.plot(\n",
        "    shots_200['angle_to_goal_deg'],\n",
        "    shots_200['goal'],\n",
        "    linestyle='none',\n",
        "    marker='.',\n",
        "    markersize=12,\n",
        "    color='black'\n",
        ")\n",
        "\n",
        "# Axis labels and formatting\n",
        "ax.set_ylabel('Goal Scored', fontsize=12)\n",
        "ax.set_xlabel('Shot Angle (degrees)', fontsize=12)\n",
        "ax.set_yticks([0, 1])\n",
        "ax.set_yticklabels(['No', 'Yes'])\n",
        "plt.ylim(-0.05, 1.05)\n",
        "ax.set_title('Goal Outcome vs. Shot Angle (First 200 Shots)', fontsize=14)\n",
        "plt.grid(True, linestyle='--', alpha=0.4)\n",
        "plt.tight_layout()\n",
        "plt.show()"
      ],
      "metadata": {
        "id": "2CSegOj947e1"
      },
      "id": "2CSegOj947e1",
      "execution_count": null,
      "outputs": []
    },
    {
      "cell_type": "code",
      "source": [
        "# Step 1: Get all available competitions\n",
        "competitions_df = parser.competition()\n",
        "\n",
        "# Step 2: Prepare storage\n",
        "all_shots = []\n",
        "\n",
        "# Step 3: Define your desired shot fields\n",
        "shot_fields = [\n",
        "    'id',\n",
        "    'team_id',\n",
        "    'team_name',\n",
        "    'shot_key_pass_id',\n",
        "    'x',\n",
        "    'y',\n",
        "    'end_x',\n",
        "    'end_y',\n",
        "    'end_z',\n",
        "    'aerial_won',\n",
        "    'shot_first_time',\n",
        "    'shot_statsbomb_xg',\n",
        "    'block_deflection',\n",
        "    'technique_id',\n",
        "    'technique_name',\n",
        "    'body_part_id',\n",
        "    'body_part_name',\n",
        "    'sub_type_id',\n",
        "    'sub_type_name',\n",
        "    'outcome_id',\n",
        "    'outcome_name'\n",
        "]\n",
        "\n",
        "# Step 4: Loop through competitions and matches\n",
        "for _, comp_row in competitions_df.iterrows():\n",
        "    comp_id = comp_row['competition_id']\n",
        "    season_id = comp_row['season_id']\n",
        "\n",
        "    try:\n",
        "        matches_df = parser.match(competition_id=comp_id, season_id=season_id)\n",
        "    except Exception as e:\n",
        "        print(f\"Skipping competition {comp_id}-{season_id} due to error: {e}\")\n",
        "        continue\n",
        "\n",
        "    for match_id in matches_df['match_id']:\n",
        "        try:\n",
        "            df_event, df_related, df_freeze, df_tactics = parser.event(match_id)\n",
        "            df_shots = df_event[df_event['type_name'] == 'Shot']\n",
        "\n",
        "            for col in shot_fields:\n",
        "                if col not in df_shots.columns:\n",
        "                    df_shots[col] = None\n",
        "\n",
        "            df_shots_clean = df_shots[shot_fields].copy()\n",
        "            df_shots_clean['match_id'] = match_id\n",
        "            df_shots_clean['competition_id'] = comp_id\n",
        "            df_shots_clean['season_id'] = season_id\n",
        "\n",
        "            all_shots.append(df_shots_clean)\n",
        "\n",
        "        except Exception as e:\n",
        "            print(f\"Error processing match {match_id}: {e}\")\n",
        "            continue\n",
        "\n",
        "\n",
        "shots_master_df = pd.concat(all_shots, ignore_index=True)"
      ],
      "metadata": {
        "id": "pmZ1m7a949Db"
      },
      "id": "pmZ1m7a949Db",
      "execution_count": null,
      "outputs": []
    },
    {
      "cell_type": "code",
      "source": [
        "from sklearn.linear_model import LogisticRegression\n",
        "from sklearn.model_selection import train_test_split\n",
        "from sklearn.metrics import classification_report, roc_auc_score\n",
        "import numpy as np"
      ],
      "metadata": {
        "id": "ZsXTsPqg5ELN"
      },
      "id": "ZsXTsPqg5ELN",
      "execution_count": null,
      "outputs": []
    },
    {
      "cell_type": "code",
      "source": [
        "X = shots_master_women_world_cup_df[['angle_to_goal_deg', 'distance_to_goal', 'x', 'y']]\n",
        "\n",
        "\n",
        "    #'body_part_id',\n",
        "    #'body_part_name',\n",
        "    #'shot_key_pass_id',\n",
        "    #'x',\n",
        "    #'y',\n",
        "    #'end_x',\n",
        "    #'end_y',\n",
        "    #'end_z',\n",
        "    #'aerial_won',\n",
        "    #'shot_first_time',\n",
        "    #'shot_statsbomb_xg',\n",
        "    #'block_deflection',\n",
        "    #'technique_id',\n",
        "    #'technique_name',\n",
        "    #'body_part_id',\n",
        "    #'body_part_name',\n",
        "    #'sub_type_id',\n",
        "    #'sub_type_name',\n",
        "\n",
        "y = shots_master_women_world_cup_df['goal']"
      ],
      "metadata": {
        "id": "5vSs1HAa5HJb"
      },
      "id": "5vSs1HAa5HJb",
      "execution_count": null,
      "outputs": []
    },
    {
      "cell_type": "code",
      "source": [
        "X_train, X_test, y_train, y_test = train_test_split(X, y, test_size=0.2, random_state=42)"
      ],
      "metadata": {
        "id": "FbqllA_Z5Isy"
      },
      "id": "FbqllA_Z5Isy",
      "execution_count": null,
      "outputs": []
    },
    {
      "cell_type": "code",
      "source": [
        "model = LogisticRegression()\n",
        "model.fit(X_train, y_train)"
      ],
      "metadata": {
        "id": "DnMA6rhr5Io9"
      },
      "id": "DnMA6rhr5Io9",
      "execution_count": null,
      "outputs": []
    },
    {
      "cell_type": "code",
      "source": [
        "y_pred = model.predict(X_test)\n",
        "y_prob = model.predict_proba(X_test)[:, 1]  # probabilities\n",
        "\n",
        "print(classification_report(y_test, y_pred))\n",
        "print(\"ROC AUC:\", roc_auc_score(y_test, y_prob))"
      ],
      "metadata": {
        "id": "9E4J40JU5NE8"
      },
      "id": "9E4J40JU5NE8",
      "execution_count": null,
      "outputs": []
    },
    {
      "cell_type": "code",
      "source": [
        "from sklearn.metrics import roc_curve, auc\n",
        "import matplotlib.pyplot as plt\n",
        "\n",
        "# Probability of class = 1 (goal)\n",
        "y_probs = model.predict_proba(X)[:, 1]\n",
        "\n",
        "fpr, tpr, thresholds = roc_curve(y, y_probs)\n",
        "roc_auc = auc(fpr, tpr)\n",
        "\n",
        "plt.figure(figsize=(8, 6))\n",
        "plt.plot(fpr, tpr, color='darkorange', lw=2, label=f'ROC curve (AUC = {roc_auc:.2f})')\n",
        "plt.plot([0, 1], [0, 1], color='gray', lw=1, linestyle='--')  # Diagonal line\n",
        "plt.xlabel('False Positive Rate')\n",
        "plt.ylabel('True Positive Rate')\n",
        "plt.title('Receiver Operating Characteristic (ROC) Curve')\n",
        "plt.legend(loc=\"lower right\")\n",
        "plt.grid(True)\n",
        "plt.tight_layout()\n",
        "plt.show()"
      ],
      "metadata": {
        "id": "uHfu1TQ_5PHI"
      },
      "id": "uHfu1TQ_5PHI",
      "execution_count": null,
      "outputs": []
    },
    {
      "cell_type": "code",
      "source": [
        "import statsmodels.api as sm\n",
        "\n",
        "# Define your features and target\n",
        "X = shots_master_women_world_cup_df[['angle_to_goal', 'distance_to_goal']]\n",
        "y = shots_master_women_world_cup_df['goal']\n",
        "\n",
        "# Add intercept\n",
        "X_with_const = sm.add_constant(X)\n",
        "\n",
        "# Fit logistic regression\n",
        "model = sm.Logit(y, X_with_const)\n",
        "result = model.fit()\n",
        "\n",
        "# Calculate McFadden's R²\n",
        "ll_model = result.llf               # Log-likelihood of fitted model\n",
        "ll_null = result.llnull             # Log-likelihood of null model\n",
        "\n",
        "mcfadden_r2 = 1 - (ll_model / ll_null)\n",
        "print(f\"McFadden's R²: {mcfadden_r2:.4f}\")"
      ],
      "metadata": {
        "id": "nObd2LGM5R1w"
      },
      "id": "nObd2LGM5R1w",
      "execution_count": null,
      "outputs": []
    }
  ],
  "metadata": {
    "kernelspec": {
      "display_name": "Python 3",
      "language": "python",
      "name": "python3"
    },
    "language_info": {
      "codemirror_mode": {
        "name": "ipython",
        "version": 2
      },
      "file_extension": ".py",
      "mimetype": "text/x-python",
      "name": "python",
      "nbconvert_exporter": "python",
      "pygments_lexer": "ipython2",
      "version": "2.7.6"
    },
    "colab": {
      "provenance": [],
      "include_colab_link": true
    }
  },
  "nbformat": 4,
  "nbformat_minor": 5
}