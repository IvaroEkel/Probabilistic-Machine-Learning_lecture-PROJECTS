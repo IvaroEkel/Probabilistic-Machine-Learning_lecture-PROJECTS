{
 "cells": [
  {
   "cell_type": "markdown",
   "id": "bb92c40f",
   "metadata": {},
   "source": [
    "# COMMENTS:\n",
    "\n",
    "- [23.Mai.2025] Please start exploring your dataset(s), provide a general description of it: Spurce of the data and its general meaning and contents, number of samples, number of features, etc., and then provide a summary of the data types and missing values.\n",
    "  You can already include that progress of cleaning the data and its description in the report. "
   ]
  },
  {
   "cell_type": "markdown",
   "id": "edfdb98d",
   "metadata": {},
   "source": [
    "[06.Jun.2025] Now that you have some details on the exploration and description of the dataset, summarize those results in a clear and concise manner in the report file. "
   ]
  },
  {
   "cell_type": "markdown",
   "id": "053bc1e2",
   "metadata": {},
   "source": []
  }
 ],
 "metadata": {
  "language_info": {
   "name": "python"
  }
 },
 "nbformat": 4,
 "nbformat_minor": 5
}
