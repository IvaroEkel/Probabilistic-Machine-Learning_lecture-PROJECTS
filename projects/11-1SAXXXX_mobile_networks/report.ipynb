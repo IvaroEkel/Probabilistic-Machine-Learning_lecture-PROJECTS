{
 "cells": [
  {
   "cell_type": "markdown",
   "id": "f927f538",
   "metadata": {},
   "source": [
    "# Mobile Network quality prediction based on measurement data #\n",
    "\n",
    "**Course:** Probabilistic Machine Learning (SoSe 2025)  \n",
    "**Lecturer:** [Alvaro Diaz-Ruelas]  \n",
    "**Student Name:** Arne Steffensen  \n",
    "**GitHub Username:** Pinkcamouflage  \n",
    "**Date:** 14.05.2025  \n",
    "**Project-ID:** 1SAXXXX"
   ]
  },
  {
   "cell_type": "markdown",
   "id": "c80358e6",
   "metadata": {},
   "source": [
    "## 1. Introduction ##\n",
    "Accelerating mobile networks data transfers has been the primary objective for all telecommunicaion companies since their establishment. In this project the answer to the question of network quality depending on the location of the receiver is being answered based on a limited dataset around the airport Leipzig-Halle. The dataset features the following parameters:\n",
    "\n",
    "- **Timestamp**: Timestamp when the measurement was made  \n",
    "- **Latitude**: Latitude coordinate where the measurement was made  \n",
    "- **Longitude**: Longitude coordinate where the measurement was made  \n",
    "- **NR PCI**: The Physical Cell Identifier of the particular base station  \n",
    "- **NR Serving SSB Index**: Index of the Synchronization Signal Block  \n",
    "- **NR SS-RSRP in dBm**: Reference Signal Received Power  \n",
    "- **NR Scheduled PUSCH Thp in MBit/s**: Data rate of the uplink  \n",
    "- **NR Avg Num PUSCH RB**: Average number of Ressource Blocks allocated for uplink  \n",
    "- **NR Avg PUSCH MCS**: Average Modulation and Coding Scheme used for the uplink  \n",
    "- **NR Distance in meters**: Distance from the base station to the device  \n",
    "- **NR Direction in degrees**: Azimuth angle from the base station to the device  \n",
    "- **NR Direction Delta in degrees**: Delta angle between of the movement of the user and the cell  \n",
    "- **Label**: irrelevant\n",
    "\n",
    "The dataset includes 12741 measurement points. However, there are only 8798 points with values for the target feature RSRP. The area only partially spans the surroundings of a single cell. Therefore, it is expected that no real generalizations can be made for even regional unseen locations. In the following, steps in cleaning the dataset and exploration are being made."
   ]
  },
  {
   "cell_type": "code",
   "execution_count": null,
   "id": "8b5f6d66",
   "metadata": {},
   "outputs": [
    {
     "ename": "FileNotFoundError",
     "evalue": "[Errno 2] No such file or directory: 'measurement_data_export.csv'",
     "output_type": "error",
     "traceback": [
      "\u001b[0;31m---------------------------------------------------------------------------\u001b[0m",
      "\u001b[0;31mFileNotFoundError\u001b[0m                         Traceback (most recent call last)",
      "Cell \u001b[0;32mIn[1], line 8\u001b[0m\n\u001b[1;32m      3\u001b[0m \u001b[38;5;28;01mimport\u001b[39;00m\u001b[38;5;250m \u001b[39m\u001b[38;5;21;01mos\u001b[39;00m\n\u001b[1;32m      5\u001b[0m filepath \u001b[38;5;241m=\u001b[39m os\u001b[38;5;241m.\u001b[39mpath\u001b[38;5;241m.\u001b[39mjoin(os\u001b[38;5;241m.\u001b[39mpath\u001b[38;5;241m.\u001b[39mdirname(\u001b[38;5;124m'\u001b[39m\u001b[38;5;124m__file__\u001b[39m\u001b[38;5;124m'\u001b[39m), \u001b[38;5;124m'\u001b[39m\u001b[38;5;124mmeasurement_data_export.csv\u001b[39m\u001b[38;5;124m'\u001b[39m) \u001b[38;5;66;03m# this is a better way to get the file path, by using only a reference to the current file\u001b[39;00m\n\u001b[0;32m----> 8\u001b[0m \u001b[38;5;28;01mwith\u001b[39;00m \u001b[38;5;28;43mopen\u001b[39;49m\u001b[43m(\u001b[49m\u001b[43mfilepath\u001b[49m\u001b[43m,\u001b[49m\u001b[43m \u001b[49m\u001b[38;5;124;43m'\u001b[39;49m\u001b[38;5;124;43mr\u001b[39;49m\u001b[38;5;124;43m'\u001b[39;49m\u001b[43m)\u001b[49m \u001b[38;5;28;01mas\u001b[39;00m file:\n\u001b[1;32m      9\u001b[0m     df \u001b[38;5;241m=\u001b[39m pd\u001b[38;5;241m.\u001b[39mread_csv(file, sep\u001b[38;5;241m=\u001b[39m\u001b[38;5;124m'\u001b[39m\u001b[38;5;124m,\u001b[39m\u001b[38;5;124m'\u001b[39m, header\u001b[38;5;241m=\u001b[39m\u001b[38;5;241m0\u001b[39m)\n\u001b[1;32m     11\u001b[0m df\u001b[38;5;241m.\u001b[39mdescribe()\n",
      "File \u001b[0;32m~/CODE/Probabilistic-Machine-Learning_lecture-PROJECTS/venv_repo/lib/python3.10/site-packages/IPython/core/interactiveshell.py:324\u001b[0m, in \u001b[0;36m_modified_open\u001b[0;34m(file, *args, **kwargs)\u001b[0m\n\u001b[1;32m    317\u001b[0m \u001b[38;5;28;01mif\u001b[39;00m file \u001b[38;5;129;01min\u001b[39;00m {\u001b[38;5;241m0\u001b[39m, \u001b[38;5;241m1\u001b[39m, \u001b[38;5;241m2\u001b[39m}:\n\u001b[1;32m    318\u001b[0m     \u001b[38;5;28;01mraise\u001b[39;00m \u001b[38;5;167;01mValueError\u001b[39;00m(\n\u001b[1;32m    319\u001b[0m         \u001b[38;5;124mf\u001b[39m\u001b[38;5;124m\"\u001b[39m\u001b[38;5;124mIPython won\u001b[39m\u001b[38;5;124m'\u001b[39m\u001b[38;5;124mt let you open fd=\u001b[39m\u001b[38;5;132;01m{\u001b[39;00mfile\u001b[38;5;132;01m}\u001b[39;00m\u001b[38;5;124m by default \u001b[39m\u001b[38;5;124m\"\u001b[39m\n\u001b[1;32m    320\u001b[0m         \u001b[38;5;124m\"\u001b[39m\u001b[38;5;124mas it is likely to crash IPython. If you know what you are doing, \u001b[39m\u001b[38;5;124m\"\u001b[39m\n\u001b[1;32m    321\u001b[0m         \u001b[38;5;124m\"\u001b[39m\u001b[38;5;124myou can use builtins\u001b[39m\u001b[38;5;124m'\u001b[39m\u001b[38;5;124m open.\u001b[39m\u001b[38;5;124m\"\u001b[39m\n\u001b[1;32m    322\u001b[0m     )\n\u001b[0;32m--> 324\u001b[0m \u001b[38;5;28;01mreturn\u001b[39;00m \u001b[43mio_open\u001b[49m\u001b[43m(\u001b[49m\u001b[43mfile\u001b[49m\u001b[43m,\u001b[49m\u001b[43m \u001b[49m\u001b[38;5;241;43m*\u001b[39;49m\u001b[43margs\u001b[49m\u001b[43m,\u001b[49m\u001b[43m \u001b[49m\u001b[38;5;241;43m*\u001b[39;49m\u001b[38;5;241;43m*\u001b[39;49m\u001b[43mkwargs\u001b[49m\u001b[43m)\u001b[49m\n",
      "\u001b[0;31mFileNotFoundError\u001b[0m: [Errno 2] No such file or directory: 'measurement_data_export.csv'"
     ]
    }
   ],
   "source": [
    "import pandas as pd\n",
    "import matplotlib.pyplot as plt\n",
    "import os\n",
    "\n",
    "# get the path for the file measurement_data_export.csv in the data folder\n",
    "filepath = os.path.join(os.path.dirname('__file__'), 'data', 'measurement_data_export.csv')\n",
    "\n",
    "\n",
    "with open(filepath, 'r') as file:\n",
    "    df = pd.read_csv(file, sep=',', header=0)\n",
    "\n",
    "df.describe()"
   ]
  },
  {
   "cell_type": "code",
   "execution_count": null,
   "id": "c0418802",
   "metadata": {},
   "outputs": [],
   "source": []
  }
 ],
 "metadata": {
  "kernelspec": {
   "display_name": "venv_repo",
   "language": "python",
   "name": "python3"
  },
  "language_info": {
   "codemirror_mode": {
    "name": "ipython",
    "version": 3
   },
   "file_extension": ".py",
   "mimetype": "text/x-python",
   "name": "python",
   "nbconvert_exporter": "python",
   "pygments_lexer": "ipython3",
   "version": "3.10.12"
  }
 },
 "nbformat": 4,
 "nbformat_minor": 5
}
