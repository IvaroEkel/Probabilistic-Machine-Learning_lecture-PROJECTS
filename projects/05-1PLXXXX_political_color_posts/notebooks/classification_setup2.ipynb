{
  "cells": [
    {
      "cell_type": "code",
      "execution_count": 1,
      "metadata": {
        "id": "tpxrwoR5dh1d"
      },
      "outputs": [],
      "source": [
        "import pandas as pd\n",
        "from sklearn.ensemble import RandomForestClassifier\n",
        "from sklearn.svm import SVC\n",
        "from sklearn.neural_network import MLPClassifier\n",
        "from sklearn.model_selection import train_test_split\n",
        "from sklearn.preprocessing import StandardScaler\n",
        "from sklearn.metrics import classification_report\n",
        "from xgboost import XGBClassifier"
      ]
    },
    {
      "cell_type": "code",
      "execution_count": 2,
      "metadata": {
        "id": "oEPOJV8LYNGX"
      },
      "outputs": [],
      "source": [
        "url = 'https://raw.githubusercontent.com/IvaroEkel/Probabilistic-Machine-Learning_lecture-PROJECTS/refs/heads/main/projects/05-1PLXXXX_political_color_posts/data/final-features-rgb.csv'\n",
        "df = pd.read_csv(url)\n",
        "X = df[[f'feature_{i}' for i in range(13)]]\n",
        "y = df['party']\n",
        "X_train, X_test, y_train, y_test = train_test_split(X, y, stratify=y, test_size=0.2, random_state=42)"
      ]
    },
    {
      "cell_type": "code",
      "execution_count": 3,
      "metadata": {
        "id": "oLJjm3uTgZNM"
      },
      "outputs": [],
      "source": [
        "# extract model metrics\n",
        "def extract_metrics(report):\n",
        "    metrics = {}\n",
        "    lines = report.split(\"\\n\")\n",
        "    for line in lines:\n",
        "        if line.startswith(' ') and len(line.split()) > 1:\n",
        "            parts = line.split()\n",
        "            if len(parts) >= 5:\n",
        "                label = parts[0]\n",
        "                try:\n",
        "                    precision = float(parts[1])\n",
        "                    recall = float(parts[2])\n",
        "                    f1_score = float(parts[3])\n",
        "                    support = int(parts[4])\n",
        "                    metrics[label] = {\n",
        "                        'Precision': precision,\n",
        "                        'Recall': recall,\n",
        "                        'F1-Score': f1_score,\n",
        "                        'Support': support\n",
        "                    }\n",
        "                except ValueError:\n",
        "                    continue\n",
        "    return metrics"
      ]
    },
    {
      "cell_type": "code",
      "execution_count": 4,
      "metadata": {
        "colab": {
          "base_uri": "https://localhost:8080/"
        },
        "id": "d2MDOB3pYG3U",
        "outputId": "777d3412-9ac0-4d4a-c611-58d994468c84"
      },
      "outputs": [
        {
          "output_type": "stream",
          "name": "stdout",
          "text": [
            "=== Random Forest ===\n",
            "              precision    recall  f1-score   support\n",
            "\n",
            "         afd       0.78      0.50      0.61       411\n",
            "         cdu       0.53      0.66      0.58      1138\n",
            "         csu       0.57      0.72      0.63      1355\n",
            "         fdp       0.87      0.79      0.83       841\n",
            "      gruene       0.86      0.52      0.65       532\n",
            "       linke       0.61      0.56      0.59       845\n",
            "         spd       0.63      0.47      0.54       563\n",
            "\n",
            "    accuracy                           0.63      5685\n",
            "   macro avg       0.69      0.60      0.63      5685\n",
            "weighted avg       0.66      0.63      0.64      5685\n",
            "\n"
          ]
        }
      ],
      "source": [
        "# 1. Random Forest\n",
        "rf = RandomForestClassifier(class_weight='balanced', random_state=42)\n",
        "rf.fit(X_train, y_train)\n",
        "y_pred_rf = rf.predict(X_test)\n",
        "report_rf = classification_report(y_test, y_pred_rf)\n",
        "metrics_rf = extract_metrics(report_rf)\n",
        "print(\"=== Random Forest ===\")\n",
        "print(report_rf)"
      ]
    },
    {
      "cell_type": "code",
      "source": [
        "# 2. XGBoost\n",
        "# Encode the target variable\n",
        "from sklearn.preprocessing import LabelEncoder\n",
        "le = LabelEncoder()\n",
        "y_train_encoded = le.fit_transform(y_train)\n",
        "y_test_encoded = le.transform(y_test)\n",
        "\n",
        "xgb = XGBClassifier(use_label_encoder=False, eval_metric='mlogloss', random_state=42)\n",
        "xgb.fit(X_train, y_train_encoded)\n",
        "y_pred_xgb_encoded = xgb.predict(X_test)\n",
        "\n",
        "# Decode the predictions back to original labels for classification report\n",
        "y_pred_xgb = le.inverse_transform(y_pred_xgb_encoded)\n",
        "\n",
        "report_xgb = classification_report(y_test, y_pred_xgb)\n",
        "metrics_xgb = extract_metrics(report_xgb)\n",
        "print(\"=== XGBoost ===\")\n",
        "print(report_xgb)"
      ],
      "metadata": {
        "colab": {
          "base_uri": "https://localhost:8080/"
        },
        "id": "3YQPMAhUky1W",
        "outputId": "7c993659-75a0-4466-8e6d-80a4908c42ec"
      },
      "execution_count": 5,
      "outputs": [
        {
          "output_type": "stream",
          "name": "stderr",
          "text": [
            "/usr/local/lib/python3.11/dist-packages/xgboost/core.py:158: UserWarning: [06:43:16] WARNING: /workspace/src/learner.cc:740: \n",
            "Parameters: { \"use_label_encoder\" } are not used.\n",
            "\n",
            "  warnings.warn(smsg, UserWarning)\n"
          ]
        },
        {
          "output_type": "stream",
          "name": "stdout",
          "text": [
            "=== XGBoost ===\n",
            "              precision    recall  f1-score   support\n",
            "\n",
            "         afd       0.72      0.51      0.59       411\n",
            "         cdu       0.59      0.70      0.64      1138\n",
            "         csu       0.61      0.70      0.65      1355\n",
            "         fdp       0.89      0.83      0.86       841\n",
            "      gruene       0.80      0.63      0.70       532\n",
            "       linke       0.63      0.60      0.61       845\n",
            "         spd       0.62      0.52      0.57       563\n",
            "\n",
            "    accuracy                           0.67      5685\n",
            "   macro avg       0.69      0.64      0.66      5685\n",
            "weighted avg       0.68      0.67      0.67      5685\n",
            "\n"
          ]
        }
      ]
    },
    {
      "cell_type": "code",
      "execution_count": 6,
      "metadata": {
        "colab": {
          "base_uri": "https://localhost:8080/"
        },
        "id": "P41epFqdYA0-",
        "outputId": "6ffd1c0c-64c3-45bb-d933-b9e3268ed6c5"
      },
      "outputs": [
        {
          "output_type": "stream",
          "name": "stdout",
          "text": [
            "=== Support Vector Machine (SVM) ===\n",
            "              precision    recall  f1-score   support\n",
            "\n",
            "         afd       0.42      0.61      0.49       411\n",
            "         cdu       0.48      0.62      0.54      1138\n",
            "         csu       0.66      0.47      0.55      1355\n",
            "         fdp       0.85      0.77      0.81       841\n",
            "      gruene       0.66      0.60      0.63       532\n",
            "       linke       0.53      0.44      0.48       845\n",
            "         spd       0.43      0.55      0.48       563\n",
            "\n",
            "    accuracy                           0.57      5685\n",
            "   macro avg       0.58      0.58      0.57      5685\n",
            "weighted avg       0.59      0.57      0.57      5685\n",
            "\n"
          ]
        }
      ],
      "source": [
        "# 3. Support Vector Machine (SVM)\n",
        "scaler = StandardScaler()\n",
        "X_train_scaled = scaler.fit_transform(X_train)\n",
        "X_test_scaled = scaler.transform(X_test)\n",
        "\n",
        "svm = SVC(kernel='rbf', class_weight='balanced', random_state=42)\n",
        "svm.fit(X_train_scaled, y_train)\n",
        "y_pred_svm = svm.predict(X_test_scaled)\n",
        "report_svm = classification_report(y_test, y_pred_svm)\n",
        "metrics_svm = extract_metrics(report_svm)\n",
        "print(\"=== Support Vector Machine (SVM) ===\")\n",
        "print(report_svm)"
      ]
    },
    {
      "cell_type": "code",
      "execution_count": 7,
      "metadata": {
        "colab": {
          "base_uri": "https://localhost:8080/"
        },
        "id": "I9EPf5TYc1t4",
        "outputId": "7f7c3a77-375d-4c08-9be1-320fe0c0632e"
      },
      "outputs": [
        {
          "output_type": "stream",
          "name": "stdout",
          "text": [
            "=== MLP Classifier ===\n",
            "              precision    recall  f1-score   support\n",
            "\n",
            "         afd       0.65      0.53      0.59       411\n",
            "         cdu       0.55      0.60      0.57      1138\n",
            "         csu       0.60      0.64      0.62      1355\n",
            "         fdp       0.80      0.82      0.81       841\n",
            "      gruene       0.60      0.63      0.61       532\n",
            "       linke       0.58      0.48      0.52       845\n",
            "         spd       0.51      0.48      0.50       563\n",
            "\n",
            "    accuracy                           0.61      5685\n",
            "   macro avg       0.61      0.60      0.60      5685\n",
            "weighted avg       0.61      0.61      0.61      5685\n",
            "\n"
          ]
        }
      ],
      "source": [
        "# 4. MLP Classifier\n",
        "mlp = MLPClassifier(\n",
        "    hidden_layer_sizes=(128, 64),\n",
        "    activation='relu',\n",
        "    learning_rate_init=0.001,\n",
        "    max_iter=1000,\n",
        "    alpha=0.0001,\n",
        "    random_state=42\n",
        ")\n",
        "\n",
        "mlp.fit(X_train_scaled, y_train)\n",
        "y_pred_mlp = mlp.predict(X_test_scaled)\n",
        "report_mlp = classification_report(y_test, y_pred_mlp)\n",
        "metrics_mlp = extract_metrics(report_mlp)\n",
        "print(\"=== MLP Classifier ===\")\n",
        "print(report_mlp)"
      ]
    },
    {
      "cell_type": "code",
      "execution_count": 8,
      "metadata": {
        "colab": {
          "base_uri": "https://localhost:8080/"
        },
        "id": "mL7AP-5ig2Qc",
        "outputId": "ee5cab1b-c1aa-48ab-f04f-06b2c8859dd2"
      },
      "outputs": [
        {
          "output_type": "stream",
          "name": "stdout",
          "text": [
            "=== Modellvergleich ===\n",
            "         Random Forest   SVM   MLP  XGBoost  Average\n",
            "afd               0.61  0.49  0.59     0.59     0.57\n",
            "cdu               0.58  0.54  0.57     0.64     0.58\n",
            "csu               0.63  0.55  0.62     0.65     0.61\n",
            "fdp               0.83  0.81  0.81     0.86     0.83\n",
            "gruene            0.65  0.63  0.61     0.70     0.65\n",
            "linke             0.59  0.48  0.52     0.61     0.55\n",
            "spd               0.54  0.48  0.50     0.57     0.52\n",
            "Average           0.63  0.57  0.60     0.66     0.62\n"
          ]
        }
      ],
      "source": [
        "metrics_all = {}\n",
        "\n",
        "for label in metrics_rf:\n",
        "    metrics_all[label] = {\n",
        "        'Random Forest': metrics_rf[label]['F1-Score'],\n",
        "        'SVM': metrics_svm[label]['F1-Score'],\n",
        "        'MLP': metrics_mlp[label]['F1-Score'],\n",
        "        'XGBoost': metrics_xgb[label]['F1-Score']\n",
        "    }\n",
        "\n",
        "metrics_df = pd.DataFrame(metrics_all).T\n",
        "\n",
        "metrics_df[\"Average\"] = metrics_df.mean(axis=1)\n",
        "\n",
        "average_row = metrics_df.mean(numeric_only=True)\n",
        "average_row.name = \"Average\"\n",
        "metrics_df = pd.concat([metrics_df, average_row.to_frame().T])\n",
        "\n",
        "#Output\n",
        "print(\"=== Modellvergleich ===\")\n",
        "print(metrics_df.round(2))"
      ]
    }
  ],
  "metadata": {
    "colab": {
      "provenance": []
    },
    "kernelspec": {
      "display_name": "Python 3",
      "name": "python3"
    },
    "language_info": {
      "name": "python"
    }
  },
  "nbformat": 4,
  "nbformat_minor": 0
}