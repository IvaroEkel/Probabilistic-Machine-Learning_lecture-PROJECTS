{
 "cells": [
  {
   "cell_type": "markdown",
   "id": "4342b00e",
   "metadata": {},
   "source": [
    "# COMMENTS:\n",
    "\n",
    "[23.Mai.2025] \n",
    "- Before starting with classification tasks (like you do well in the 'classification_setup1.ipynb notebook), it is a good practice to provide a description of the dataset. First of all, very general features of the dataset, such as the origin, the meaining, and so on. Next, you can include the number of samples, the number of features, and the number of classes.\n",
    "  More fine-grained information about the dataset can be provided in the form of a table, such as the number of samples per class, missing values, and the number of features per class.\n",
    "  You can start doing that already in the notebook for the report. \n",
    "\n",
    "- Make Histograms in HSV space for trends for different features. You have time information, and it would be interesting to see how differetn observables change over time for each party.  You can think of tracking the evolution of the following observables on the RGB and HSV space:\n",
    "  - Brightness\n",
    "  - Saturation\n",
    "  - Hue\n",
    "  - Colorfulness\n",
    "  - Contrast\n",
    "  - Sharpness\n",
    "  - Dominant color\n",
    "  - Color distribution\n",
    "\n",
    "The ones I'm proposing are only an example of course."
   ]
  },
  {
   "cell_type": "markdown",
   "id": "f34cdb03",
   "metadata": {},
   "source": []
  }
 ],
 "metadata": {
  "language_info": {
   "name": "python"
  }
 },
 "nbformat": 4,
 "nbformat_minor": 5
}
