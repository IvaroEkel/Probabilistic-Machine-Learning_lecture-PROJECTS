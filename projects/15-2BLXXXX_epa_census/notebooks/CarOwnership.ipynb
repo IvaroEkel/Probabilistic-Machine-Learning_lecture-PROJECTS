{
 "cells": [
  {
   "cell_type": "code",
   "execution_count": null,
   "id": "f064a5ec-d368-4a03-8c6d-f09095c0b859",
   "metadata": {},
   "outputs": [],
   "source": [
    "import pandas as pd"
   ]
  },
  {
   "cell_type": "code",
   "execution_count": null,
   "id": "3f828022-d329-42a9-9c49-ee515d455f08",
   "metadata": {},
   "outputs": [],
   "source": [
    "pd.set_option('display.max_columns', None)  # Show all columns"
   ]
  },
  {
   "cell_type": "code",
   "execution_count": null,
   "id": "03926fff-e2c4-414b-a6ff-cc052406939c",
   "metadata": {},
   "outputs": [],
   "source": [
    "#df = pd.read_csv('/Users/z3/Documents/Studium/1. Semester/ProbML/Probabilistic-Machine-Learning_lecture-PROJECTS/projects/15-2BLXXXX_epa_census/EPA_SmartLocationDatabase_V3_Jan_2021_Final.csv')"
   ]
  },
  {
   "cell_type": "code",
   "execution_count": null,
   "id": "5bc0a74a-0509-43aa-be82-5f5f62a67cca",
   "metadata": {},
   "outputs": [],
   "source": [
    "#selected_df = df[['GEOID20','STATEFP','COUNTYFP','CSA','CSA_Name','CBSA','CBSA_Name','CBSA_POP','CBSA_EMP','CBSA_WRK','TotPop','HH','P_WrkAge','Pct_AO0','Workers','R_PCTLOWWAGE','TotEmp','E_PctLowWage','D1A','D1B','D1C','D2A_JPHH','D3AAO','D4A','D4C']].rename(columns={\n",
    "#'GEOID20': 'ID','STATEFP': 'STATE_ID','COUNTYFP': 'COUNTY_ID','CSA': 'CSA','CSA_Name': 'CSA_NAME','CBSA': 'CBSA','CBSA_Name': 'CBSA_NAME','CBSA_POP': 'CBSA_POP','CBSA_EMP': 'CBSA_EMP','CBSA_WRK': 'CBSA_WRK','TotPop': 'TOTAL_POPULATION','HH': 'HOUSEHOLDS','P_WrkAge': 'P_WORKING_AGE','Pct_AO0': 'P_ZERO_CARS_HOUSEHOLDS','Workers': 'WORKERS','R_PCTLOWWAGE': 'P_LOW_WAGE_WORKERS','TotEmp': 'TOTAL_EMPLOYMENT','E_PctLowWage': 'P_LOW_WAGE_EMPLOYMENT','D1A': 'HOUSEHOLD_P_ACRE','D1B': 'POPULATION_P_ACRE','D1C': 'JOBS_P_ACRE', 'D2A_JPHH' : 'JOBS_P_HOUSEHOLD','D3AAO': 'ROAD_NETWORK_MILES_AUTO','D4A': 'METERS_NEXT_TRANSIT_ STOP','D4C': 'TIMES_P_HOUR_TRANSIT_SERVICE'})\n",
    "#selected_df['ID'] = selected_df['ID'].apply(lambda x: '{:.0f}'.format(x))"
   ]
  },
  {
   "cell_type": "code",
   "execution_count": null,
   "id": "aed8bd62-d7df-4f74-8e3f-f864d8eb72f2",
   "metadata": {},
   "outputs": [],
   "source": [
    "#selected_df.to_csv('census_data', index=False) "
   ]
  },
  {
   "cell_type": "code",
   "execution_count": null,
   "id": "99d62455-b917-4b09-a9ac-fe6d7cb8ba51",
   "metadata": {},
   "outputs": [],
   "source": [
    "# Randomly sample 10,000 rows\n",
    "#sampled_df = selected_df.sample(n=10000, random_state=42)  # Set random_state for reproducibility\n",
    "\n",
    "# Export to CSV\n",
    "#sampled_df.to_csv('sampled_output.csv', index=False)\n"
   ]
  },
  {
   "cell_type": "code",
   "execution_count": null,
   "id": "b690bd40-43f4-410c-ba5d-27b9a48d6882",
   "metadata": {},
   "outputs": [],
   "source": []
  },
  {
   "cell_type": "code",
   "execution_count": null,
   "id": "87096742-b974-4fb9-a567-f04282877860",
   "metadata": {},
   "outputs": [],
   "source": []
  },
  {
   "cell_type": "code",
   "execution_count": null,
   "id": "1a4e7de1-75de-47f2-9d44-1bd260b28ace",
   "metadata": {},
   "outputs": [],
   "source": []
  }
 ],
 "metadata": {
  "kernelspec": {
   "display_name": "Python 3 (ipykernel)",
   "language": "python",
   "name": "python3"
  },
  "language_info": {
   "codemirror_mode": {
    "name": "ipython",
    "version": 3
   },
   "file_extension": ".py",
   "mimetype": "text/x-python",
   "name": "python",
   "nbconvert_exporter": "python",
   "pygments_lexer": "ipython3",
   "version": "3.11.7"
  }
 },
 "nbformat": 4,
 "nbformat_minor": 5
}
